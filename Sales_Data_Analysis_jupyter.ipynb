{
 "cells": [
  {
   "cell_type": "code",
   "execution_count": 1,
   "id": "4dda8987",
   "metadata": {},
   "outputs": [],
   "source": [
    "import pandas as pd\n",
    "import numpy as np \n",
    "import plotly.express as px"
   ]
  },
  {
   "cell_type": "code",
   "execution_count": 2,
   "id": "39cbb8c6",
   "metadata": {},
   "outputs": [
    {
     "name": "stdout",
     "output_type": "stream",
     "text": [
      "   Invoice_ID        Date  Customer_ID Product     Category  Quantity  \\\n",
      "0    33670850  2025-03-14         1013   Mouse  Accessories       3.0   \n",
      "1    68709822  2025-05-20         1079   Mouse  Accessories       4.0   \n",
      "2    45539473  2024-12-09         1040     NaN  Electronics       3.0   \n",
      "3    58107768  2025-03-05         1094  Tablet  Electronics       5.0   \n",
      "4    54355972  2024-11-26         1002  Laptop  Electronics       5.0   \n",
      "\n",
      "   Unit_Price  Total_Amount Payment_Method         City  \n",
      "0       42.89        128.67         Online     New York  \n",
      "1      196.45        785.80           Cash  Los Angeles  \n",
      "2       86.80        260.40    Credit Card      Chicago  \n",
      "3      442.68       2213.40         Online  Los Angeles  \n",
      "4      607.62       3038.10         Online          NaN  \n",
      "Index(['Invoice_ID', 'Date', 'Customer_ID', 'Product', 'Category', 'Quantity',\n",
      "       'Unit_Price', 'Total_Amount', 'Payment_Method', 'City'],\n",
      "      dtype='object')\n"
     ]
    }
   ],
   "source": [
    "df=pd.read_csv(r\"D:\\vs\\uncleaned_sales_data_500.csv\")\n",
    "print(df.head())\n",
    "print(df.columns)"
   ]
  },
  {
   "cell_type": "code",
   "execution_count": 3,
   "id": "b1accce3",
   "metadata": {},
   "outputs": [
    {
     "name": "stdout",
     "output_type": "stream",
     "text": [
      "Invoice_ID         0\n",
      "Date               0\n",
      "Customer_ID        0\n",
      "Product           19\n",
      "Category           0\n",
      "Quantity          76\n",
      "Unit_Price        76\n",
      "Total_Amount      76\n",
      "Payment_Method    95\n",
      "City              76\n",
      "dtype: int64\n"
     ]
    }
   ],
   "source": [
    "print(df.isnull().sum())"
   ]
  },
  {
   "cell_type": "code",
   "execution_count": 4,
   "id": "788ce1d9",
   "metadata": {},
   "outputs": [
    {
     "name": "stdout",
     "output_type": "stream",
     "text": [
      "Invoice_ID         0\n",
      "Date               0\n",
      "Customer_ID        0\n",
      "Product            0\n",
      "Category           0\n",
      "Quantity          76\n",
      "Unit_Price        76\n",
      "Total_Amount      76\n",
      "Payment_Method    95\n",
      "City              76\n",
      "dtype: int64\n"
     ]
    }
   ],
   "source": [
    "df[\"Product\"]=df.groupby(\"Category\")[\"Product\"].transform(lambda x: x.fillna(x.mode()[0])if not x.mode().empty else x)\n",
    "print(df.isnull().sum())"
   ]
  },
  {
   "cell_type": "code",
   "execution_count": 5,
   "id": "006e81e1",
   "metadata": {},
   "outputs": [
    {
     "name": "stdout",
     "output_type": "stream",
     "text": [
      "Invoice_ID         0\n",
      "Date               0\n",
      "Customer_ID        0\n",
      "Product            0\n",
      "Category           0\n",
      "Quantity           0\n",
      "Unit_Price        76\n",
      "Total_Amount      76\n",
      "Payment_Method    95\n",
      "City              76\n",
      "dtype: int64\n"
     ]
    }
   ],
   "source": [
    "df[\"Quantity\"]=df.groupby(\"Product\")[\"Quantity\"].transform(lambda x : x.fillna(x.mode()[0])if not x.mode().empty else x)\n",
    "print(df.isnull().sum())"
   ]
  },
  {
   "cell_type": "code",
   "execution_count": 6,
   "id": "968fd33b",
   "metadata": {},
   "outputs": [
    {
     "name": "stdout",
     "output_type": "stream",
     "text": [
      "   Invoice_ID        Date  Customer_ID Product     Category  Quantity  \\\n",
      "0    33670850  2025-03-14         1013   Mouse  Accessories       3.0   \n",
      "1    68709822  2025-05-20         1079   Mouse  Accessories       4.0   \n",
      "2    45539473  2024-12-09         1040  Tablet  Electronics       3.0   \n",
      "3    58107768  2025-03-05         1094  Tablet  Electronics       5.0   \n",
      "4    54355972  2024-11-26         1002  Laptop  Electronics       5.0   \n",
      "\n",
      "   Unit_Price  Total_Amount Payment_Method         City  \n",
      "0       42.89        128.67         Online     New York  \n",
      "1      196.45        785.80           Cash  Los Angeles  \n",
      "2       86.80        260.40    Credit Card      Chicago  \n",
      "3      442.68       2213.40         Online  Los Angeles  \n",
      "4      607.62       3038.10         Online          NaN  \n"
     ]
    }
   ],
   "source": [
    "print(df.head())"
   ]
  },
  {
   "cell_type": "code",
   "execution_count": 7,
   "id": "fc9ec387",
   "metadata": {},
   "outputs": [
    {
     "name": "stdout",
     "output_type": "stream",
     "text": [
      "Invoice_ID         0\n",
      "Date               0\n",
      "Customer_ID        0\n",
      "Product            0\n",
      "Category           0\n",
      "Quantity           0\n",
      "Unit_Price         0\n",
      "Total_Amount      76\n",
      "Payment_Method    95\n",
      "City              76\n",
      "dtype: int64\n"
     ]
    }
   ],
   "source": [
    "df[\"Unit_Price\"]=df.groupby(\"Product\")[\"Unit_Price\"].transform(lambda x: x.fillna(x.median())if not x.median() is np.nan else x)\n",
    "print(df.isnull().sum())"
   ]
  },
  {
   "cell_type": "code",
   "execution_count": 8,
   "id": "1a4542bc",
   "metadata": {},
   "outputs": [
    {
     "name": "stdout",
     "output_type": "stream",
     "text": [
      "     Quantity  Unit_Price  Total_Amount\n",
      "0         3.0       42.89        128.67\n",
      "1         4.0      196.45        785.80\n",
      "2         3.0       86.80        260.40\n",
      "3         5.0      442.68       2213.40\n",
      "4         5.0      607.62       3038.10\n",
      "..        ...         ...           ...\n",
      "495       1.0      387.76        387.76\n",
      "496       4.0      450.88       1803.52\n",
      "497       5.0      933.12       4665.60\n",
      "498       3.0      234.87        704.61\n",
      "499       5.0      756.35       3781.75\n",
      "\n",
      "[500 rows x 3 columns]\n"
     ]
    }
   ],
   "source": [
    "df[\"Total_Amount\"]=df[\"Quantity\"]*df[\"Unit_Price\"]\n",
    "print(df[[\"Quantity\", \"Unit_Price\",\"Total_Amount\"]])"
   ]
  },
  {
   "cell_type": "code",
   "execution_count": 9,
   "id": "889b702e",
   "metadata": {},
   "outputs": [
    {
     "name": "stdout",
     "output_type": "stream",
     "text": [
      "Invoice_ID         0\n",
      "Date               0\n",
      "Customer_ID        0\n",
      "Product            0\n",
      "Category           0\n",
      "Quantity           0\n",
      "Unit_Price         0\n",
      "Total_Amount       0\n",
      "Payment_Method    95\n",
      "City              76\n",
      "dtype: int64\n"
     ]
    }
   ],
   "source": [
    "print(df.isnull().sum())"
   ]
  },
  {
   "cell_type": "code",
   "execution_count": 10,
   "id": "fcd864cf",
   "metadata": {},
   "outputs": [
    {
     "name": "stdout",
     "output_type": "stream",
     "text": [
      "['Online' 'Cash' 'Credit Card' nan 'Debit Card']\n"
     ]
    }
   ],
   "source": [
    "print(df[\"Payment_Method\"].unique())"
   ]
  },
  {
   "cell_type": "code",
   "execution_count": 11,
   "id": "c4e456f8",
   "metadata": {},
   "outputs": [
    {
     "name": "stdout",
     "output_type": "stream",
     "text": [
      "['Online' 'Cash' 'Credit Card' nan 'Debit Card']\n"
     ]
    }
   ],
   "source": [
    "df['Payment_Method'] = df['Payment_Method'].replace({\n",
    "    'Credit-Card': 'Credit Card',\n",
    "    'Debit-Card': 'Debit Card',\n",
    "    'Online Payment': 'Online'\n",
    "})\n",
    "print(df[\"Payment_Method\"].unique())"
   ]
  },
  {
   "cell_type": "code",
   "execution_count": 13,
   "id": "b3d2fb3c",
   "metadata": {},
   "outputs": [],
   "source": [
    "df[\"Payment_Method\"].fillna(df[\"Payment_Method\"].mode()[0],inplace=True)"
   ]
  },
  {
   "cell_type": "code",
   "execution_count": 14,
   "id": "f96ec4b9",
   "metadata": {},
   "outputs": [
    {
     "name": "stdout",
     "output_type": "stream",
     "text": [
      "['Online' 'Cash' 'Credit Card' 'Debit Card']\n"
     ]
    }
   ],
   "source": [
    "print(df[\"Payment_Method\"].unique())"
   ]
  },
  {
   "cell_type": "code",
   "execution_count": 15,
   "id": "9c22f769",
   "metadata": {},
   "outputs": [
    {
     "name": "stdout",
     "output_type": "stream",
     "text": [
      "Invoice_ID         0\n",
      "Date               0\n",
      "Customer_ID        0\n",
      "Product            0\n",
      "Category           0\n",
      "Quantity           0\n",
      "Unit_Price         0\n",
      "Total_Amount       0\n",
      "Payment_Method     0\n",
      "City              76\n",
      "dtype: int64\n"
     ]
    }
   ],
   "source": [
    "print(df.isnull().sum())"
   ]
  },
  {
   "cell_type": "code",
   "execution_count": 16,
   "id": "429517e2",
   "metadata": {},
   "outputs": [
    {
     "name": "stdout",
     "output_type": "stream",
     "text": [
      "76\n"
     ]
    }
   ],
   "source": [
    "print(df[\"City\"].isnull().sum())"
   ]
  },
  {
   "cell_type": "code",
   "execution_count": 17,
   "id": "d79d6362",
   "metadata": {},
   "outputs": [
    {
     "name": "stdout",
     "output_type": "stream",
     "text": [
      "Invoice_ID        0\n",
      "Date              0\n",
      "Customer_ID       0\n",
      "Product           0\n",
      "Category          0\n",
      "Quantity          0\n",
      "Unit_Price        0\n",
      "Total_Amount      0\n",
      "Payment_Method    0\n",
      "City              0\n",
      "dtype: int64\n"
     ]
    }
   ],
   "source": [
    "df[\"City\"]=df.groupby(\"Customer_ID\")[\"City\"].transform(lambda x: x.fillna(x.mode()[0])if not x.mode().empty else x)\n",
    "print(df.isnull().sum())"
   ]
  },
  {
   "cell_type": "code",
   "execution_count": 18,
   "id": "7dcf7949",
   "metadata": {},
   "outputs": [
    {
     "name": "stdout",
     "output_type": "stream",
     "text": [
      "['Accessories' 'Electronics' 'Furniture' 'accessories' 'Accesories'\n",
      " 'ACCessories']\n"
     ]
    }
   ],
   "source": [
    "print(df[\"Category\"].unique())"
   ]
  },
  {
   "cell_type": "code",
   "execution_count": 19,
   "id": "690a3916",
   "metadata": {},
   "outputs": [],
   "source": [
    "df[\"Category\"]=df[\"Category\"].str.lower()\n"
   ]
  },
  {
   "cell_type": "code",
   "execution_count": 20,
   "id": "1903f96f",
   "metadata": {},
   "outputs": [
    {
     "name": "stdout",
     "output_type": "stream",
     "text": [
      "['Accessories' 'Electronics' 'Furniture']\n"
     ]
    }
   ],
   "source": [
    "df[\"Category\"] = df[\"Category\"].str.lower()\n",
    "df[\"Category\"] = df[\"Category\"].replace({\n",
    "    \"accessories\": \"Accessories\",\n",
    "    \"accesories\": \"Accessories\",\n",
    "    \"accesory\": \"Accessories\",\n",
    "    \"accersories\": \"Accessories\",\n",
    "})\n",
    "df[\"Category\"] = df[\"Category\"].str.title()\n",
    "print(df[\"Category\"].unique())\n"
   ]
  },
  {
   "cell_type": "code",
   "execution_count": 21,
   "id": "b17befa1",
   "metadata": {},
   "outputs": [
    {
     "name": "stdout",
     "output_type": "stream",
     "text": [
      "['New York' 'Los Angeles' 'Chicago' 'Houston' 'Phoenix']\n"
     ]
    }
   ],
   "source": [
    "print(df[\"City\"].unique())"
   ]
  },
  {
   "cell_type": "code",
   "execution_count": 22,
   "id": "b0f30c1b",
   "metadata": {},
   "outputs": [
    {
     "name": "stdout",
     "output_type": "stream",
     "text": [
      "datetime64[ns]\n"
     ]
    }
   ],
   "source": [
    "df[\"Date\"]=pd.to_datetime(df[\"Date\"])\n",
    "print(df[\"Date\"].dtype)"
   ]
  },
  {
   "cell_type": "code",
   "execution_count": 23,
   "id": "79e6fd23",
   "metadata": {},
   "outputs": [
    {
     "name": "stdout",
     "output_type": "stream",
     "text": [
      "['Online' 'Cash' 'Credit Card' 'Debit Card']\n"
     ]
    }
   ],
   "source": [
    "print(df[\"Payment_Method\"].unique())\n",
    "df[\"Payment_Method\"]=df[\"Payment_Method\"].str.upper()"
   ]
  },
  {
   "cell_type": "code",
   "execution_count": 24,
   "id": "8d7be3c9",
   "metadata": {},
   "outputs": [
    {
     "name": "stdout",
     "output_type": "stream",
     "text": [
      "['Mouse' 'Tablet' 'Laptop' 'Headphones' 'Keyboard' 'Chair' 'Smartphone'\n",
      " 'Desk' 'Shelf']\n"
     ]
    }
   ],
   "source": [
    "print(df[\"Product\"].unique())"
   ]
  },
  {
   "cell_type": "code",
   "execution_count": 25,
   "id": "2b36419d",
   "metadata": {},
   "outputs": [
    {
     "name": "stdout",
     "output_type": "stream",
     "text": [
      "   Invoice_ID       Date  Customer_ID Product     Category  Quantity  \\\n",
      "0    33670850 2025-03-14         1013   Mouse  Accessories       3.0   \n",
      "1    68709822 2025-05-20         1079   Mouse  Accessories       4.0   \n",
      "2    45539473 2024-12-09         1040  Tablet  Electronics       3.0   \n",
      "3    58107768 2025-03-05         1094  Tablet  Electronics       5.0   \n",
      "4    54355972 2024-11-26         1002  Laptop  Electronics       5.0   \n",
      "\n",
      "   Unit_Price  Total_Amount Payment_Method         City  \n",
      "0       42.89        128.67         ONLINE     New York  \n",
      "1      196.45        785.80           CASH  Los Angeles  \n",
      "2       86.80        260.40    CREDIT CARD      Chicago  \n",
      "3      442.68       2213.40         ONLINE  Los Angeles  \n",
      "4      607.62       3038.10         ONLINE  Los Angeles  \n"
     ]
    }
   ],
   "source": [
    "print(df.head())"
   ]
  },
  {
   "cell_type": "code",
   "execution_count": 26,
   "id": "b3e055c4",
   "metadata": {},
   "outputs": [
    {
     "name": "stdout",
     "output_type": "stream",
     "text": [
      "   Invoice_ID       Date  Customer_ID Product     Category  Quantity  \\\n",
      "0    33670850 2025-03-14         1013   Mouse  Accessories         3   \n",
      "1    68709822 2025-05-20         1079   Mouse  Accessories         4   \n",
      "2    45539473 2024-12-09         1040  Tablet  Electronics         3   \n",
      "3    58107768 2025-03-05         1094  Tablet  Electronics         5   \n",
      "4    54355972 2024-11-26         1002  Laptop  Electronics         5   \n",
      "\n",
      "   Unit_Price  Total_Amount Payment_Method         City  \n",
      "0       42.89        128.67         ONLINE     New York  \n",
      "1      196.45        785.80           CASH  Los Angeles  \n",
      "2       86.80        260.40    CREDIT CARD      Chicago  \n",
      "3      442.68       2213.40         ONLINE  Los Angeles  \n",
      "4      607.62       3038.10         ONLINE  Los Angeles  \n"
     ]
    }
   ],
   "source": [
    "df[\"Quantity\"]=df[\"Quantity\"].astype(int)\n",
    "print(df.head())"
   ]
  },
  {
   "cell_type": "code",
   "execution_count": 27,
   "id": "4c9af906",
   "metadata": {},
   "outputs": [
    {
     "name": "stdout",
     "output_type": "stream",
     "text": [
      "(500, 10)\n"
     ]
    }
   ],
   "source": [
    "print(df.shape)"
   ]
  },
  {
   "cell_type": "code",
   "execution_count": 28,
   "id": "d05ba0ae",
   "metadata": {},
   "outputs": [
    {
     "name": "stdout",
     "output_type": "stream",
     "text": [
      "         Invoice_ID                           Date  Customer_ID   Quantity  \\\n",
      "count  5.000000e+02                            500   500.000000  500.00000   \n",
      "mean   5.056110e+07  2025-01-15 06:40:19.199999744  1050.046000    2.82800   \n",
      "min    2.553560e+05            2024-07-20 00:00:00  1000.000000    1.00000   \n",
      "25%    2.721561e+07            2024-10-17 18:00:00  1025.000000    2.00000   \n",
      "50%    4.964103e+07            2025-01-09 12:00:00  1049.000000    3.00000   \n",
      "75%    7.669489e+07            2025-04-18 00:00:00  1076.000000    4.00000   \n",
      "max    9.938037e+07            2025-07-19 00:00:00  1100.000000    5.00000   \n",
      "std    2.894636e+07                            NaN    28.524993    1.35724   \n",
      "\n",
      "       Unit_Price  Total_Amount  \n",
      "count  500.000000    500.000000  \n",
      "mean   505.783080   1447.351440  \n",
      "min     11.740000     13.990000  \n",
      "25%    296.220000    612.990000  \n",
      "50%    492.590000   1113.440000  \n",
      "75%    725.340000   1932.745000  \n",
      "max    999.880000   4926.150000  \n",
      "std    275.453416   1137.840037  \n"
     ]
    }
   ],
   "source": [
    "print(df.describe())"
   ]
  },
  {
   "cell_type": "code",
   "execution_count": 29,
   "id": "94978a09",
   "metadata": {},
   "outputs": [
    {
     "name": "stdout",
     "output_type": "stream",
     "text": [
      "<class 'pandas.core.frame.DataFrame'>\n",
      "RangeIndex: 500 entries, 0 to 499\n",
      "Data columns (total 10 columns):\n",
      " #   Column          Non-Null Count  Dtype         \n",
      "---  ------          --------------  -----         \n",
      " 0   Invoice_ID      500 non-null    int64         \n",
      " 1   Date            500 non-null    datetime64[ns]\n",
      " 2   Customer_ID     500 non-null    int64         \n",
      " 3   Product         500 non-null    object        \n",
      " 4   Category        500 non-null    object        \n",
      " 5   Quantity        500 non-null    int64         \n",
      " 6   Unit_Price      500 non-null    float64       \n",
      " 7   Total_Amount    500 non-null    float64       \n",
      " 8   Payment_Method  500 non-null    object        \n",
      " 9   City            500 non-null    object        \n",
      "dtypes: datetime64[ns](1), float64(2), int64(3), object(4)\n",
      "memory usage: 39.2+ KB\n",
      "None\n"
     ]
    }
   ],
   "source": [
    "print(df.info())"
   ]
  },
  {
   "cell_type": "code",
   "execution_count": 30,
   "id": "1fa0c796",
   "metadata": {},
   "outputs": [
    {
     "name": "stdout",
     "output_type": "stream",
     "text": [
      "Index(['Invoice_ID', 'Date', 'Customer_ID', 'Product', 'Category', 'Quantity',\n",
      "       'Unit_Price', 'Total_Amount', 'Payment_Method', 'City'],\n",
      "      dtype='object')\n"
     ]
    }
   ],
   "source": [
    "print(df.columns)"
   ]
  },
  {
   "cell_type": "code",
   "execution_count": 31,
   "id": "857cb7e1",
   "metadata": {},
   "outputs": [
    {
     "name": "stdout",
     "output_type": "stream",
     "text": [
      "   Invoice_ID       Date  Customer_ID Product     Category  Quantity  \\\n",
      "0    33670850 2025-03-14         1013   Mouse  Accessories         3   \n",
      "1    68709822 2025-05-20         1079   Mouse  Accessories         4   \n",
      "2    45539473 2024-12-09         1040  Tablet  Electronics         3   \n",
      "3    58107768 2025-03-05         1094  Tablet  Electronics         5   \n",
      "4    54355972 2024-11-26         1002  Laptop  Electronics         5   \n",
      "\n",
      "   Unit_Price  Total_Amount Payment_Method         City  \n",
      "0       42.89        128.67         Online     New York  \n",
      "1      196.45        785.80           Cash  Los Angeles  \n",
      "2       86.80        260.40    Credit Card      Chicago  \n",
      "3      442.68       2213.40         Online  Los Angeles  \n",
      "4      607.62       3038.10         Online  Los Angeles  \n"
     ]
    }
   ],
   "source": [
    "df[\"Product\"]=df[\"Product\"].str.title()\n",
    "df[\"Payment_Method\"]=df[\"Payment_Method\"].str.title()\n",
    "df[\"Category\"]=df[\"Category\"].str.title()\n",
    "df[\"City\"]=df[\"City\"].str.title()\n",
    "print(df.head())"
   ]
  },
  {
   "cell_type": "code",
   "execution_count": 32,
   "id": "47953cfa",
   "metadata": {},
   "outputs": [
    {
     "name": "stdout",
     "output_type": "stream",
     "text": [
      "Product\n",
      "Tablet        101824.00\n",
      "Chair         101171.79\n",
      "Headphones     97874.62\n",
      "Mouse          75451.90\n",
      "Keyboard       75237.02\n",
      "Laptop         72394.74\n",
      "Shelf          70923.05\n",
      "Smartphone     66825.03\n",
      "Desk           61973.57\n",
      "Name: Total_Amount, dtype: float64\n"
     ]
    }
   ],
   "source": [
    "top_product=df.groupby(\"Product\")[\"Total_Amount\"].sum().sort_values(ascending=False)\n",
    "print(top_product)"
   ]
  },
  {
   "cell_type": "code",
   "execution_count": 33,
   "id": "99507720",
   "metadata": {},
   "outputs": [
    {
     "name": "stdout",
     "output_type": "stream",
     "text": [
      "The top-selling product is: Tablet with total sales of ₹101,824.00\n"
     ]
    }
   ],
   "source": [
    "top_product_name = top_product.idxmax()\n",
    "top_product_sales = top_product.max()\n",
    "print(f\"The top-selling product is: {top_product_name} with total sales of ₹{top_product_sales:,.2f}\")\n"
   ]
  },
  {
   "cell_type": "code",
   "execution_count": 34,
   "id": "3f35e66f",
   "metadata": {},
   "outputs": [
    {
     "name": "stdout",
     "output_type": "stream",
     "text": [
      "   Invoice_ID       Date  Customer_ID Product     Category  Quantity  \\\n",
      "0    33670850 2025-03-14         1013   Mouse  Accessories         3   \n",
      "1    68709822 2025-05-20         1079   Mouse  Accessories         4   \n",
      "2    45539473 2024-12-09         1040  Tablet  Electronics         3   \n",
      "3    58107768 2025-03-05         1094  Tablet  Electronics         5   \n",
      "4    54355972 2024-11-26         1002  Laptop  Electronics         5   \n",
      "\n",
      "   Unit_Price  Total_Amount Payment_Method         City  \n",
      "0       42.89        128.67         Online     New York  \n",
      "1      196.45        785.80           Cash  Los Angeles  \n",
      "2       86.80        260.40    Credit Card      Chicago  \n",
      "3      442.68       2213.40         Online  Los Angeles  \n",
      "4      607.62       3038.10         Online  Los Angeles  \n"
     ]
    }
   ],
   "source": [
    "print(df.head())"
   ]
  },
  {
   "cell_type": "code",
   "execution_count": 35,
   "id": "e68dd024",
   "metadata": {},
   "outputs": [
    {
     "name": "stdout",
     "output_type": "stream",
     "text": [
      "['New York' 'Los Angeles' 'Chicago' 'Houston' 'Phoenix']\n"
     ]
    }
   ],
   "source": [
    "print(df[\"City\"].unique())"
   ]
  },
  {
   "cell_type": "code",
   "execution_count": 36,
   "id": "7b265f3f",
   "metadata": {},
   "outputs": [
    {
     "name": "stdout",
     "output_type": "stream",
     "text": [
      "['Online' 'Cash' 'Credit Card' 'Debit Card']\n"
     ]
    }
   ],
   "source": [
    "print(df[\"Payment_Method\"].unique())"
   ]
  },
  {
   "cell_type": "code",
   "execution_count": 37,
   "id": "036e32e1",
   "metadata": {},
   "outputs": [
    {
     "name": "stdout",
     "output_type": "stream",
     "text": [
      "['Mouse' 'Tablet' 'Laptop' 'Headphones' 'Keyboard' 'Chair' 'Smartphone'\n",
      " 'Desk' 'Shelf']\n"
     ]
    }
   ],
   "source": [
    "print(df[\"Product\"].unique())"
   ]
  },
  {
   "cell_type": "code",
   "execution_count": 38,
   "id": "34a92507",
   "metadata": {},
   "outputs": [
    {
     "name": "stdout",
     "output_type": "stream",
     "text": [
      "['Accessories' 'Electronics' 'Furniture']\n"
     ]
    }
   ],
   "source": [
    "print(df[\"Category\"].unique())"
   ]
  },
  {
   "cell_type": "code",
   "execution_count": 55,
   "id": "ebc8e47b",
   "metadata": {},
   "outputs": [
    {
     "name": "stdout",
     "output_type": "stream",
     "text": [
      "['Accessories' 'Electronics' 'Furniture']\n"
     ]
    },
    {
     "data": {
      "application/vnd.plotly.v1+json": {
       "config": {
        "plotlyServerURL": "https://plot.ly"
       },
       "data": [
        {
         "domain": {
          "x": [
           0,
           1
          ],
          "y": [
           0,
           1
          ]
         },
         "hole": 0.4,
         "hovertemplate": "Category=%{label}<br>Total_Amount=%{value}<extra></extra>",
         "labels": [
          "Accessories",
          "Electronics",
          "Furniture"
         ],
         "legendgroup": "",
         "marker": {
          "line": {
           "color": "white",
           "width": 2
          }
         },
         "name": "",
         "pull": [
          0.05,
          0.05,
          0.05
         ],
         "showlegend": true,
         "textinfo": "percent+label",
         "type": "pie",
         "values": {
          "bdata": "H4XrUZxXDkGPwvUonmwNQXsUrkejkgxB",
          "dtype": "f8"
         }
        }
       ],
       "layout": {
        "font": {
         "family": "Arial",
         "size": 14
        },
        "hoverlabel": {
         "bgcolor": "white",
         "font": {
          "size": 13
         }
        },
        "legend": {
         "title": {
          "text": "Category"
         },
         "tracegroupgap": 0
        },
        "margin": {
         "b": 80,
         "l": 40,
         "r": 40,
         "t": 80
        },
        "paper_bgcolor": "white",
        "piecolorway": [
         "rgb(141,211,199)",
         "rgb(255,255,179)",
         "rgb(190,186,218)",
         "rgb(251,128,114)",
         "rgb(128,177,211)",
         "rgb(253,180,98)",
         "rgb(179,222,105)",
         "rgb(252,205,229)",
         "rgb(217,217,217)",
         "rgb(188,128,189)",
         "rgb(204,235,197)",
         "rgb(255,237,111)"
        ],
        "plot_bgcolor": "white",
        "showlegend": true,
        "template": {
         "data": {
          "bar": [
           {
            "error_x": {
             "color": "#2a3f5f"
            },
            "error_y": {
             "color": "#2a3f5f"
            },
            "marker": {
             "line": {
              "color": "#E5ECF6",
              "width": 0.5
             },
             "pattern": {
              "fillmode": "overlay",
              "size": 10,
              "solidity": 0.2
             }
            },
            "type": "bar"
           }
          ],
          "barpolar": [
           {
            "marker": {
             "line": {
              "color": "#E5ECF6",
              "width": 0.5
             },
             "pattern": {
              "fillmode": "overlay",
              "size": 10,
              "solidity": 0.2
             }
            },
            "type": "barpolar"
           }
          ],
          "carpet": [
           {
            "aaxis": {
             "endlinecolor": "#2a3f5f",
             "gridcolor": "white",
             "linecolor": "white",
             "minorgridcolor": "white",
             "startlinecolor": "#2a3f5f"
            },
            "baxis": {
             "endlinecolor": "#2a3f5f",
             "gridcolor": "white",
             "linecolor": "white",
             "minorgridcolor": "white",
             "startlinecolor": "#2a3f5f"
            },
            "type": "carpet"
           }
          ],
          "choropleth": [
           {
            "colorbar": {
             "outlinewidth": 0,
             "ticks": ""
            },
            "type": "choropleth"
           }
          ],
          "contour": [
           {
            "colorbar": {
             "outlinewidth": 0,
             "ticks": ""
            },
            "colorscale": [
             [
              0,
              "#0d0887"
             ],
             [
              0.1111111111111111,
              "#46039f"
             ],
             [
              0.2222222222222222,
              "#7201a8"
             ],
             [
              0.3333333333333333,
              "#9c179e"
             ],
             [
              0.4444444444444444,
              "#bd3786"
             ],
             [
              0.5555555555555556,
              "#d8576b"
             ],
             [
              0.6666666666666666,
              "#ed7953"
             ],
             [
              0.7777777777777778,
              "#fb9f3a"
             ],
             [
              0.8888888888888888,
              "#fdca26"
             ],
             [
              1,
              "#f0f921"
             ]
            ],
            "type": "contour"
           }
          ],
          "contourcarpet": [
           {
            "colorbar": {
             "outlinewidth": 0,
             "ticks": ""
            },
            "type": "contourcarpet"
           }
          ],
          "heatmap": [
           {
            "colorbar": {
             "outlinewidth": 0,
             "ticks": ""
            },
            "colorscale": [
             [
              0,
              "#0d0887"
             ],
             [
              0.1111111111111111,
              "#46039f"
             ],
             [
              0.2222222222222222,
              "#7201a8"
             ],
             [
              0.3333333333333333,
              "#9c179e"
             ],
             [
              0.4444444444444444,
              "#bd3786"
             ],
             [
              0.5555555555555556,
              "#d8576b"
             ],
             [
              0.6666666666666666,
              "#ed7953"
             ],
             [
              0.7777777777777778,
              "#fb9f3a"
             ],
             [
              0.8888888888888888,
              "#fdca26"
             ],
             [
              1,
              "#f0f921"
             ]
            ],
            "type": "heatmap"
           }
          ],
          "histogram": [
           {
            "marker": {
             "pattern": {
              "fillmode": "overlay",
              "size": 10,
              "solidity": 0.2
             }
            },
            "type": "histogram"
           }
          ],
          "histogram2d": [
           {
            "colorbar": {
             "outlinewidth": 0,
             "ticks": ""
            },
            "colorscale": [
             [
              0,
              "#0d0887"
             ],
             [
              0.1111111111111111,
              "#46039f"
             ],
             [
              0.2222222222222222,
              "#7201a8"
             ],
             [
              0.3333333333333333,
              "#9c179e"
             ],
             [
              0.4444444444444444,
              "#bd3786"
             ],
             [
              0.5555555555555556,
              "#d8576b"
             ],
             [
              0.6666666666666666,
              "#ed7953"
             ],
             [
              0.7777777777777778,
              "#fb9f3a"
             ],
             [
              0.8888888888888888,
              "#fdca26"
             ],
             [
              1,
              "#f0f921"
             ]
            ],
            "type": "histogram2d"
           }
          ],
          "histogram2dcontour": [
           {
            "colorbar": {
             "outlinewidth": 0,
             "ticks": ""
            },
            "colorscale": [
             [
              0,
              "#0d0887"
             ],
             [
              0.1111111111111111,
              "#46039f"
             ],
             [
              0.2222222222222222,
              "#7201a8"
             ],
             [
              0.3333333333333333,
              "#9c179e"
             ],
             [
              0.4444444444444444,
              "#bd3786"
             ],
             [
              0.5555555555555556,
              "#d8576b"
             ],
             [
              0.6666666666666666,
              "#ed7953"
             ],
             [
              0.7777777777777778,
              "#fb9f3a"
             ],
             [
              0.8888888888888888,
              "#fdca26"
             ],
             [
              1,
              "#f0f921"
             ]
            ],
            "type": "histogram2dcontour"
           }
          ],
          "mesh3d": [
           {
            "colorbar": {
             "outlinewidth": 0,
             "ticks": ""
            },
            "type": "mesh3d"
           }
          ],
          "parcoords": [
           {
            "line": {
             "colorbar": {
              "outlinewidth": 0,
              "ticks": ""
             }
            },
            "type": "parcoords"
           }
          ],
          "pie": [
           {
            "automargin": true,
            "type": "pie"
           }
          ],
          "scatter": [
           {
            "fillpattern": {
             "fillmode": "overlay",
             "size": 10,
             "solidity": 0.2
            },
            "type": "scatter"
           }
          ],
          "scatter3d": [
           {
            "line": {
             "colorbar": {
              "outlinewidth": 0,
              "ticks": ""
             }
            },
            "marker": {
             "colorbar": {
              "outlinewidth": 0,
              "ticks": ""
             }
            },
            "type": "scatter3d"
           }
          ],
          "scattercarpet": [
           {
            "marker": {
             "colorbar": {
              "outlinewidth": 0,
              "ticks": ""
             }
            },
            "type": "scattercarpet"
           }
          ],
          "scattergeo": [
           {
            "marker": {
             "colorbar": {
              "outlinewidth": 0,
              "ticks": ""
             }
            },
            "type": "scattergeo"
           }
          ],
          "scattergl": [
           {
            "marker": {
             "colorbar": {
              "outlinewidth": 0,
              "ticks": ""
             }
            },
            "type": "scattergl"
           }
          ],
          "scattermap": [
           {
            "marker": {
             "colorbar": {
              "outlinewidth": 0,
              "ticks": ""
             }
            },
            "type": "scattermap"
           }
          ],
          "scattermapbox": [
           {
            "marker": {
             "colorbar": {
              "outlinewidth": 0,
              "ticks": ""
             }
            },
            "type": "scattermapbox"
           }
          ],
          "scatterpolar": [
           {
            "marker": {
             "colorbar": {
              "outlinewidth": 0,
              "ticks": ""
             }
            },
            "type": "scatterpolar"
           }
          ],
          "scatterpolargl": [
           {
            "marker": {
             "colorbar": {
              "outlinewidth": 0,
              "ticks": ""
             }
            },
            "type": "scatterpolargl"
           }
          ],
          "scatterternary": [
           {
            "marker": {
             "colorbar": {
              "outlinewidth": 0,
              "ticks": ""
             }
            },
            "type": "scatterternary"
           }
          ],
          "surface": [
           {
            "colorbar": {
             "outlinewidth": 0,
             "ticks": ""
            },
            "colorscale": [
             [
              0,
              "#0d0887"
             ],
             [
              0.1111111111111111,
              "#46039f"
             ],
             [
              0.2222222222222222,
              "#7201a8"
             ],
             [
              0.3333333333333333,
              "#9c179e"
             ],
             [
              0.4444444444444444,
              "#bd3786"
             ],
             [
              0.5555555555555556,
              "#d8576b"
             ],
             [
              0.6666666666666666,
              "#ed7953"
             ],
             [
              0.7777777777777778,
              "#fb9f3a"
             ],
             [
              0.8888888888888888,
              "#fdca26"
             ],
             [
              1,
              "#f0f921"
             ]
            ],
            "type": "surface"
           }
          ],
          "table": [
           {
            "cells": {
             "fill": {
              "color": "#EBF0F8"
             },
             "line": {
              "color": "white"
             }
            },
            "header": {
             "fill": {
              "color": "#C8D4E3"
             },
             "line": {
              "color": "white"
             }
            },
            "type": "table"
           }
          ]
         },
         "layout": {
          "annotationdefaults": {
           "arrowcolor": "#2a3f5f",
           "arrowhead": 0,
           "arrowwidth": 1
          },
          "autotypenumbers": "strict",
          "coloraxis": {
           "colorbar": {
            "outlinewidth": 0,
            "ticks": ""
           }
          },
          "colorscale": {
           "diverging": [
            [
             0,
             "#8e0152"
            ],
            [
             0.1,
             "#c51b7d"
            ],
            [
             0.2,
             "#de77ae"
            ],
            [
             0.3,
             "#f1b6da"
            ],
            [
             0.4,
             "#fde0ef"
            ],
            [
             0.5,
             "#f7f7f7"
            ],
            [
             0.6,
             "#e6f5d0"
            ],
            [
             0.7,
             "#b8e186"
            ],
            [
             0.8,
             "#7fbc41"
            ],
            [
             0.9,
             "#4d9221"
            ],
            [
             1,
             "#276419"
            ]
           ],
           "sequential": [
            [
             0,
             "#0d0887"
            ],
            [
             0.1111111111111111,
             "#46039f"
            ],
            [
             0.2222222222222222,
             "#7201a8"
            ],
            [
             0.3333333333333333,
             "#9c179e"
            ],
            [
             0.4444444444444444,
             "#bd3786"
            ],
            [
             0.5555555555555556,
             "#d8576b"
            ],
            [
             0.6666666666666666,
             "#ed7953"
            ],
            [
             0.7777777777777778,
             "#fb9f3a"
            ],
            [
             0.8888888888888888,
             "#fdca26"
            ],
            [
             1,
             "#f0f921"
            ]
           ],
           "sequentialminus": [
            [
             0,
             "#0d0887"
            ],
            [
             0.1111111111111111,
             "#46039f"
            ],
            [
             0.2222222222222222,
             "#7201a8"
            ],
            [
             0.3333333333333333,
             "#9c179e"
            ],
            [
             0.4444444444444444,
             "#bd3786"
            ],
            [
             0.5555555555555556,
             "#d8576b"
            ],
            [
             0.6666666666666666,
             "#ed7953"
            ],
            [
             0.7777777777777778,
             "#fb9f3a"
            ],
            [
             0.8888888888888888,
             "#fdca26"
            ],
            [
             1,
             "#f0f921"
            ]
           ]
          },
          "colorway": [
           "#636efa",
           "#EF553B",
           "#00cc96",
           "#ab63fa",
           "#FFA15A",
           "#19d3f3",
           "#FF6692",
           "#B6E880",
           "#FF97FF",
           "#FECB52"
          ],
          "font": {
           "color": "#2a3f5f"
          },
          "geo": {
           "bgcolor": "white",
           "lakecolor": "white",
           "landcolor": "#E5ECF6",
           "showlakes": true,
           "showland": true,
           "subunitcolor": "white"
          },
          "hoverlabel": {
           "align": "left"
          },
          "hovermode": "closest",
          "mapbox": {
           "style": "light"
          },
          "paper_bgcolor": "white",
          "plot_bgcolor": "#E5ECF6",
          "polar": {
           "angularaxis": {
            "gridcolor": "white",
            "linecolor": "white",
            "ticks": ""
           },
           "bgcolor": "#E5ECF6",
           "radialaxis": {
            "gridcolor": "white",
            "linecolor": "white",
            "ticks": ""
           }
          },
          "scene": {
           "xaxis": {
            "backgroundcolor": "#E5ECF6",
            "gridcolor": "white",
            "gridwidth": 2,
            "linecolor": "white",
            "showbackground": true,
            "ticks": "",
            "zerolinecolor": "white"
           },
           "yaxis": {
            "backgroundcolor": "#E5ECF6",
            "gridcolor": "white",
            "gridwidth": 2,
            "linecolor": "white",
            "showbackground": true,
            "ticks": "",
            "zerolinecolor": "white"
           },
           "zaxis": {
            "backgroundcolor": "#E5ECF6",
            "gridcolor": "white",
            "gridwidth": 2,
            "linecolor": "white",
            "showbackground": true,
            "ticks": "",
            "zerolinecolor": "white"
           }
          },
          "shapedefaults": {
           "line": {
            "color": "#2a3f5f"
           }
          },
          "ternary": {
           "aaxis": {
            "gridcolor": "white",
            "linecolor": "white",
            "ticks": ""
           },
           "baxis": {
            "gridcolor": "white",
            "linecolor": "white",
            "ticks": ""
           },
           "bgcolor": "#E5ECF6",
           "caxis": {
            "gridcolor": "white",
            "linecolor": "white",
            "ticks": ""
           }
          },
          "title": {
           "x": 0.05
          },
          "xaxis": {
           "automargin": true,
           "gridcolor": "white",
           "linecolor": "white",
           "ticks": "",
           "title": {
            "standoff": 15
           },
           "zerolinecolor": "white",
           "zerolinewidth": 2
          },
          "yaxis": {
           "automargin": true,
           "gridcolor": "white",
           "linecolor": "white",
           "ticks": "",
           "title": {
            "standoff": 15
           },
           "zerolinecolor": "white",
           "zerolinewidth": 2
          }
         }
        },
        "title": {
         "font": {
          "size": 22
         },
         "text": "📂 Category-wise Sales Share",
         "x": 0.5
        }
       }
      }
     },
     "metadata": {},
     "output_type": "display_data"
    }
   ],
   "source": [
    "\n",
    "print(df[\"Category\"].unique())\n",
    "category_sales = df.groupby('Category', as_index=False)['Total_Amount'].sum()\n",
    "category_sales = category_sales.sort_values('Total_Amount', ascending=False)\n",
    "\n",
    "fig1 = px.pie(\n",
    "    category_sales,\n",
    "    names='Category',\n",
    "    values='Total_Amount',\n",
    "    title='📂 Category-wise Sales Share',\n",
    "    hole=0.4,\n",
    "    color_discrete_sequence=px.colors.qualitative.Set3\n",
    ")\n",
    "\n",
    "fig1.update_traces(\n",
    "    textinfo='percent+label',\n",
    "    pull=[0.05] * len(category_sales),\n",
    "    marker=dict(line=dict(color='white', width=2))\n",
    ")\n",
    "\n",
    "fig1.update_layout(\n",
    "    title_font=dict(size=22),\n",
    "    title_x=0.5,\n",
    "    showlegend=True,\n",
    "    legend_title_text='Category',\n",
    "    font=dict(family='Arial', size=14),\n",
    "    hoverlabel=dict(bgcolor='white', font_size=13),\n",
    "    margin=dict(l=40, r=40, t=80, b=80),\n",
    "    plot_bgcolor='white',\n",
    "    paper_bgcolor='white'\n",
    ")\n",
    "\n",
    "fig1.show()\n",
    "\n"
   ]
  },
  {
   "cell_type": "code",
   "execution_count": 54,
   "id": "85b96106",
   "metadata": {},
   "outputs": [
    {
     "data": {
      "application/vnd.plotly.v1+json": {
       "config": {
        "plotlyServerURL": "https://plot.ly"
       },
       "data": [
        {
         "branchvalues": "total",
         "customdata": [
          [
           "Accessories"
          ],
          [
           "Accessories"
          ],
          [
           "Accessories"
          ],
          [
           "Accessories"
          ],
          [
           "Electronics"
          ],
          [
           "Electronics"
          ],
          [
           "Electronics"
          ],
          [
           "Electronics"
          ],
          [
           "Furniture"
          ],
          [
           "Furniture"
          ],
          [
           "Furniture"
          ],
          [
           "Furniture"
          ]
         ],
         "domain": {
          "x": [
           0,
           1
          ],
          "y": [
           0,
           1
          ]
         },
         "hovertemplate": "<b>%{label}</b><br>Total Sales: $%{value:,.2f}<extra></extra>",
         "ids": [
          "Accessories/Mouse",
          "Accessories/Headphones",
          "Accessories/Keyboard",
          "Accessories",
          "Electronics/Tablet",
          "Electronics/Laptop",
          "Electronics/Smartphone",
          "Electronics",
          "Furniture/Chair",
          "Furniture/Desk",
          "Furniture/Shelf",
          "Furniture"
         ],
         "labels": [
          "Mouse",
          "Headphones",
          "Keyboard",
          "Accessories",
          "Tablet",
          "Laptop",
          "Smartphone",
          "Electronics",
          "Chair",
          "Desk",
          "Shelf",
          "Furniture"
         ],
         "marker": {
          "colors": [
           "rgb(102, 197, 204)",
           "rgb(102, 197, 204)",
           "rgb(102, 197, 204)",
           "rgb(102, 197, 204)",
           "rgb(246, 207, 113)",
           "rgb(246, 207, 113)",
           "rgb(246, 207, 113)",
           "rgb(246, 207, 113)",
           "rgb(248, 156, 116)",
           "rgb(248, 156, 116)",
           "rgb(248, 156, 116)",
           "rgb(248, 156, 116)"
          ]
         },
         "name": "",
         "parents": [
          "Accessories",
          "Accessories",
          "Accessories",
          "",
          "Electronics",
          "Electronics",
          "Electronics",
          "",
          "Furniture",
          "Furniture",
          "Furniture",
          ""
         ],
         "root": {
          "color": "lightgray"
         },
         "textinfo": "label+value+percent entry",
         "type": "treemap",
         "values": {
          "bdata": "ZmZmZr5r8kC4HoXrKeX3QB+F61FQXvJAH4XrUZxXDkEAAAAAANz4QHE9CterrPFArkfhepBQ8ECPwvUonmwNQT0K16M8s/hA16NwPbJC7kDNzMzMsFDxQHsUrkejkgxB",
          "dtype": "f8"
         }
        }
       ],
       "layout": {
        "font": {
         "family": "Arial",
         "size": 14
        },
        "legend": {
         "tracegroupgap": 0
        },
        "margin": {
         "b": 40,
         "l": 40,
         "r": 40,
         "t": 80
        },
        "paper_bgcolor": "white",
        "plot_bgcolor": "white",
        "template": {
         "data": {
          "bar": [
           {
            "error_x": {
             "color": "#2a3f5f"
            },
            "error_y": {
             "color": "#2a3f5f"
            },
            "marker": {
             "line": {
              "color": "#E5ECF6",
              "width": 0.5
             },
             "pattern": {
              "fillmode": "overlay",
              "size": 10,
              "solidity": 0.2
             }
            },
            "type": "bar"
           }
          ],
          "barpolar": [
           {
            "marker": {
             "line": {
              "color": "#E5ECF6",
              "width": 0.5
             },
             "pattern": {
              "fillmode": "overlay",
              "size": 10,
              "solidity": 0.2
             }
            },
            "type": "barpolar"
           }
          ],
          "carpet": [
           {
            "aaxis": {
             "endlinecolor": "#2a3f5f",
             "gridcolor": "white",
             "linecolor": "white",
             "minorgridcolor": "white",
             "startlinecolor": "#2a3f5f"
            },
            "baxis": {
             "endlinecolor": "#2a3f5f",
             "gridcolor": "white",
             "linecolor": "white",
             "minorgridcolor": "white",
             "startlinecolor": "#2a3f5f"
            },
            "type": "carpet"
           }
          ],
          "choropleth": [
           {
            "colorbar": {
             "outlinewidth": 0,
             "ticks": ""
            },
            "type": "choropleth"
           }
          ],
          "contour": [
           {
            "colorbar": {
             "outlinewidth": 0,
             "ticks": ""
            },
            "colorscale": [
             [
              0,
              "#0d0887"
             ],
             [
              0.1111111111111111,
              "#46039f"
             ],
             [
              0.2222222222222222,
              "#7201a8"
             ],
             [
              0.3333333333333333,
              "#9c179e"
             ],
             [
              0.4444444444444444,
              "#bd3786"
             ],
             [
              0.5555555555555556,
              "#d8576b"
             ],
             [
              0.6666666666666666,
              "#ed7953"
             ],
             [
              0.7777777777777778,
              "#fb9f3a"
             ],
             [
              0.8888888888888888,
              "#fdca26"
             ],
             [
              1,
              "#f0f921"
             ]
            ],
            "type": "contour"
           }
          ],
          "contourcarpet": [
           {
            "colorbar": {
             "outlinewidth": 0,
             "ticks": ""
            },
            "type": "contourcarpet"
           }
          ],
          "heatmap": [
           {
            "colorbar": {
             "outlinewidth": 0,
             "ticks": ""
            },
            "colorscale": [
             [
              0,
              "#0d0887"
             ],
             [
              0.1111111111111111,
              "#46039f"
             ],
             [
              0.2222222222222222,
              "#7201a8"
             ],
             [
              0.3333333333333333,
              "#9c179e"
             ],
             [
              0.4444444444444444,
              "#bd3786"
             ],
             [
              0.5555555555555556,
              "#d8576b"
             ],
             [
              0.6666666666666666,
              "#ed7953"
             ],
             [
              0.7777777777777778,
              "#fb9f3a"
             ],
             [
              0.8888888888888888,
              "#fdca26"
             ],
             [
              1,
              "#f0f921"
             ]
            ],
            "type": "heatmap"
           }
          ],
          "histogram": [
           {
            "marker": {
             "pattern": {
              "fillmode": "overlay",
              "size": 10,
              "solidity": 0.2
             }
            },
            "type": "histogram"
           }
          ],
          "histogram2d": [
           {
            "colorbar": {
             "outlinewidth": 0,
             "ticks": ""
            },
            "colorscale": [
             [
              0,
              "#0d0887"
             ],
             [
              0.1111111111111111,
              "#46039f"
             ],
             [
              0.2222222222222222,
              "#7201a8"
             ],
             [
              0.3333333333333333,
              "#9c179e"
             ],
             [
              0.4444444444444444,
              "#bd3786"
             ],
             [
              0.5555555555555556,
              "#d8576b"
             ],
             [
              0.6666666666666666,
              "#ed7953"
             ],
             [
              0.7777777777777778,
              "#fb9f3a"
             ],
             [
              0.8888888888888888,
              "#fdca26"
             ],
             [
              1,
              "#f0f921"
             ]
            ],
            "type": "histogram2d"
           }
          ],
          "histogram2dcontour": [
           {
            "colorbar": {
             "outlinewidth": 0,
             "ticks": ""
            },
            "colorscale": [
             [
              0,
              "#0d0887"
             ],
             [
              0.1111111111111111,
              "#46039f"
             ],
             [
              0.2222222222222222,
              "#7201a8"
             ],
             [
              0.3333333333333333,
              "#9c179e"
             ],
             [
              0.4444444444444444,
              "#bd3786"
             ],
             [
              0.5555555555555556,
              "#d8576b"
             ],
             [
              0.6666666666666666,
              "#ed7953"
             ],
             [
              0.7777777777777778,
              "#fb9f3a"
             ],
             [
              0.8888888888888888,
              "#fdca26"
             ],
             [
              1,
              "#f0f921"
             ]
            ],
            "type": "histogram2dcontour"
           }
          ],
          "mesh3d": [
           {
            "colorbar": {
             "outlinewidth": 0,
             "ticks": ""
            },
            "type": "mesh3d"
           }
          ],
          "parcoords": [
           {
            "line": {
             "colorbar": {
              "outlinewidth": 0,
              "ticks": ""
             }
            },
            "type": "parcoords"
           }
          ],
          "pie": [
           {
            "automargin": true,
            "type": "pie"
           }
          ],
          "scatter": [
           {
            "fillpattern": {
             "fillmode": "overlay",
             "size": 10,
             "solidity": 0.2
            },
            "type": "scatter"
           }
          ],
          "scatter3d": [
           {
            "line": {
             "colorbar": {
              "outlinewidth": 0,
              "ticks": ""
             }
            },
            "marker": {
             "colorbar": {
              "outlinewidth": 0,
              "ticks": ""
             }
            },
            "type": "scatter3d"
           }
          ],
          "scattercarpet": [
           {
            "marker": {
             "colorbar": {
              "outlinewidth": 0,
              "ticks": ""
             }
            },
            "type": "scattercarpet"
           }
          ],
          "scattergeo": [
           {
            "marker": {
             "colorbar": {
              "outlinewidth": 0,
              "ticks": ""
             }
            },
            "type": "scattergeo"
           }
          ],
          "scattergl": [
           {
            "marker": {
             "colorbar": {
              "outlinewidth": 0,
              "ticks": ""
             }
            },
            "type": "scattergl"
           }
          ],
          "scattermap": [
           {
            "marker": {
             "colorbar": {
              "outlinewidth": 0,
              "ticks": ""
             }
            },
            "type": "scattermap"
           }
          ],
          "scattermapbox": [
           {
            "marker": {
             "colorbar": {
              "outlinewidth": 0,
              "ticks": ""
             }
            },
            "type": "scattermapbox"
           }
          ],
          "scatterpolar": [
           {
            "marker": {
             "colorbar": {
              "outlinewidth": 0,
              "ticks": ""
             }
            },
            "type": "scatterpolar"
           }
          ],
          "scatterpolargl": [
           {
            "marker": {
             "colorbar": {
              "outlinewidth": 0,
              "ticks": ""
             }
            },
            "type": "scatterpolargl"
           }
          ],
          "scatterternary": [
           {
            "marker": {
             "colorbar": {
              "outlinewidth": 0,
              "ticks": ""
             }
            },
            "type": "scatterternary"
           }
          ],
          "surface": [
           {
            "colorbar": {
             "outlinewidth": 0,
             "ticks": ""
            },
            "colorscale": [
             [
              0,
              "#0d0887"
             ],
             [
              0.1111111111111111,
              "#46039f"
             ],
             [
              0.2222222222222222,
              "#7201a8"
             ],
             [
              0.3333333333333333,
              "#9c179e"
             ],
             [
              0.4444444444444444,
              "#bd3786"
             ],
             [
              0.5555555555555556,
              "#d8576b"
             ],
             [
              0.6666666666666666,
              "#ed7953"
             ],
             [
              0.7777777777777778,
              "#fb9f3a"
             ],
             [
              0.8888888888888888,
              "#fdca26"
             ],
             [
              1,
              "#f0f921"
             ]
            ],
            "type": "surface"
           }
          ],
          "table": [
           {
            "cells": {
             "fill": {
              "color": "#EBF0F8"
             },
             "line": {
              "color": "white"
             }
            },
            "header": {
             "fill": {
              "color": "#C8D4E3"
             },
             "line": {
              "color": "white"
             }
            },
            "type": "table"
           }
          ]
         },
         "layout": {
          "annotationdefaults": {
           "arrowcolor": "#2a3f5f",
           "arrowhead": 0,
           "arrowwidth": 1
          },
          "autotypenumbers": "strict",
          "coloraxis": {
           "colorbar": {
            "outlinewidth": 0,
            "ticks": ""
           }
          },
          "colorscale": {
           "diverging": [
            [
             0,
             "#8e0152"
            ],
            [
             0.1,
             "#c51b7d"
            ],
            [
             0.2,
             "#de77ae"
            ],
            [
             0.3,
             "#f1b6da"
            ],
            [
             0.4,
             "#fde0ef"
            ],
            [
             0.5,
             "#f7f7f7"
            ],
            [
             0.6,
             "#e6f5d0"
            ],
            [
             0.7,
             "#b8e186"
            ],
            [
             0.8,
             "#7fbc41"
            ],
            [
             0.9,
             "#4d9221"
            ],
            [
             1,
             "#276419"
            ]
           ],
           "sequential": [
            [
             0,
             "#0d0887"
            ],
            [
             0.1111111111111111,
             "#46039f"
            ],
            [
             0.2222222222222222,
             "#7201a8"
            ],
            [
             0.3333333333333333,
             "#9c179e"
            ],
            [
             0.4444444444444444,
             "#bd3786"
            ],
            [
             0.5555555555555556,
             "#d8576b"
            ],
            [
             0.6666666666666666,
             "#ed7953"
            ],
            [
             0.7777777777777778,
             "#fb9f3a"
            ],
            [
             0.8888888888888888,
             "#fdca26"
            ],
            [
             1,
             "#f0f921"
            ]
           ],
           "sequentialminus": [
            [
             0,
             "#0d0887"
            ],
            [
             0.1111111111111111,
             "#46039f"
            ],
            [
             0.2222222222222222,
             "#7201a8"
            ],
            [
             0.3333333333333333,
             "#9c179e"
            ],
            [
             0.4444444444444444,
             "#bd3786"
            ],
            [
             0.5555555555555556,
             "#d8576b"
            ],
            [
             0.6666666666666666,
             "#ed7953"
            ],
            [
             0.7777777777777778,
             "#fb9f3a"
            ],
            [
             0.8888888888888888,
             "#fdca26"
            ],
            [
             1,
             "#f0f921"
            ]
           ]
          },
          "colorway": [
           "#636efa",
           "#EF553B",
           "#00cc96",
           "#ab63fa",
           "#FFA15A",
           "#19d3f3",
           "#FF6692",
           "#B6E880",
           "#FF97FF",
           "#FECB52"
          ],
          "font": {
           "color": "#2a3f5f"
          },
          "geo": {
           "bgcolor": "white",
           "lakecolor": "white",
           "landcolor": "#E5ECF6",
           "showlakes": true,
           "showland": true,
           "subunitcolor": "white"
          },
          "hoverlabel": {
           "align": "left"
          },
          "hovermode": "closest",
          "mapbox": {
           "style": "light"
          },
          "paper_bgcolor": "white",
          "plot_bgcolor": "#E5ECF6",
          "polar": {
           "angularaxis": {
            "gridcolor": "white",
            "linecolor": "white",
            "ticks": ""
           },
           "bgcolor": "#E5ECF6",
           "radialaxis": {
            "gridcolor": "white",
            "linecolor": "white",
            "ticks": ""
           }
          },
          "scene": {
           "xaxis": {
            "backgroundcolor": "#E5ECF6",
            "gridcolor": "white",
            "gridwidth": 2,
            "linecolor": "white",
            "showbackground": true,
            "ticks": "",
            "zerolinecolor": "white"
           },
           "yaxis": {
            "backgroundcolor": "#E5ECF6",
            "gridcolor": "white",
            "gridwidth": 2,
            "linecolor": "white",
            "showbackground": true,
            "ticks": "",
            "zerolinecolor": "white"
           },
           "zaxis": {
            "backgroundcolor": "#E5ECF6",
            "gridcolor": "white",
            "gridwidth": 2,
            "linecolor": "white",
            "showbackground": true,
            "ticks": "",
            "zerolinecolor": "white"
           }
          },
          "shapedefaults": {
           "line": {
            "color": "#2a3f5f"
           }
          },
          "ternary": {
           "aaxis": {
            "gridcolor": "white",
            "linecolor": "white",
            "ticks": ""
           },
           "baxis": {
            "gridcolor": "white",
            "linecolor": "white",
            "ticks": ""
           },
           "bgcolor": "#E5ECF6",
           "caxis": {
            "gridcolor": "white",
            "linecolor": "white",
            "ticks": ""
           }
          },
          "title": {
           "x": 0.05
          },
          "xaxis": {
           "automargin": true,
           "gridcolor": "white",
           "linecolor": "white",
           "ticks": "",
           "title": {
            "standoff": 15
           },
           "zerolinecolor": "white",
           "zerolinewidth": 2
          },
          "yaxis": {
           "automargin": true,
           "gridcolor": "white",
           "linecolor": "white",
           "ticks": "",
           "title": {
            "standoff": 15
           },
           "zerolinecolor": "white",
           "zerolinewidth": 2
          }
         }
        },
        "title": {
         "font": {
          "size": 22
         },
         "text": "🧩 Sales Breakdown by Category and Product",
         "x": 0.5
        },
        "treemapcolorway": [
         "rgb(102, 197, 204)",
         "rgb(246, 207, 113)",
         "rgb(248, 156, 116)",
         "rgb(220, 176, 242)",
         "rgb(135, 197, 95)",
         "rgb(158, 185, 243)",
         "rgb(254, 136, 177)",
         "rgb(201, 219, 116)",
         "rgb(139, 224, 164)",
         "rgb(180, 151, 231)",
         "rgb(179, 179, 179)"
        ]
       }
      }
     },
     "metadata": {},
     "output_type": "display_data"
    }
   ],
   "source": [
    "fig2 = px.treemap(\n",
    "    df,\n",
    "    path=['Category', 'Product'],\n",
    "    values='Total_Amount',\n",
    "    title='🧩 Sales Breakdown by Category and Product',\n",
    "    color='Category',\n",
    "    color_discrete_sequence=px.colors.qualitative.Pastel\n",
    ")\n",
    "\n",
    "fig2.update_traces(\n",
    "    root_color='lightgray',\n",
    "    hovertemplate='<b>%{label}</b><br>Total Sales: $%{value:,.2f}<extra></extra>',\n",
    "    textinfo='label+value+percent entry'\n",
    ")\n",
    "\n",
    "fig2.update_layout(\n",
    "    margin=dict(t=80, l=40, r=40, b=40),\n",
    "    title_font=dict(size=22),\n",
    "    title_x=0.5,\n",
    "    paper_bgcolor='white',\n",
    "    plot_bgcolor='white',\n",
    "    font=dict(family='Arial', size=14)\n",
    ")\n",
    "\n",
    "fig2.show()\n"
   ]
  },
  {
   "cell_type": "code",
   "execution_count": 57,
   "id": "c6a7c9a9",
   "metadata": {},
   "outputs": [
    {
     "data": {
      "application/vnd.plotly.v1+json": {
       "config": {
        "plotlyServerURL": "https://plot.ly"
       },
       "data": [
        {
         "hovertemplate": "Product=%{x}<br>Total Sales ($)=%{text}<extra></extra>",
         "legendgroup": "Tablet",
         "marker": {
          "color": "#636efa",
          "line": {
           "color": "black",
           "width": 1
          },
          "pattern": {
           "shape": ""
          }
         },
         "name": "Tablet",
         "orientation": "v",
         "showlegend": true,
         "text": {
          "bdata": "AAAAAADc+EA=",
          "dtype": "f8"
         },
         "textposition": "outside",
         "texttemplate": "$%{text:.2f}",
         "type": "bar",
         "x": [
          "Tablet"
         ],
         "xaxis": "x",
         "y": {
          "bdata": "AAAAAADc+EA=",
          "dtype": "f8"
         },
         "yaxis": "y"
        },
        {
         "hovertemplate": "Product=%{x}<br>Total Sales ($)=%{text}<extra></extra>",
         "legendgroup": "Chair",
         "marker": {
          "color": "#EF553B",
          "line": {
           "color": "black",
           "width": 1
          },
          "pattern": {
           "shape": ""
          }
         },
         "name": "Chair",
         "orientation": "v",
         "showlegend": true,
         "text": {
          "bdata": "PQrXozyz+EA=",
          "dtype": "f8"
         },
         "textposition": "outside",
         "texttemplate": "$%{text:.2f}",
         "type": "bar",
         "x": [
          "Chair"
         ],
         "xaxis": "x",
         "y": {
          "bdata": "PQrXozyz+EA=",
          "dtype": "f8"
         },
         "yaxis": "y"
        },
        {
         "hovertemplate": "Product=%{x}<br>Total Sales ($)=%{text}<extra></extra>",
         "legendgroup": "Headphones",
         "marker": {
          "color": "#00cc96",
          "line": {
           "color": "black",
           "width": 1
          },
          "pattern": {
           "shape": ""
          }
         },
         "name": "Headphones",
         "orientation": "v",
         "showlegend": true,
         "text": {
          "bdata": "uB6F6ynl90A=",
          "dtype": "f8"
         },
         "textposition": "outside",
         "texttemplate": "$%{text:.2f}",
         "type": "bar",
         "x": [
          "Headphones"
         ],
         "xaxis": "x",
         "y": {
          "bdata": "uB6F6ynl90A=",
          "dtype": "f8"
         },
         "yaxis": "y"
        },
        {
         "hovertemplate": "Product=%{x}<br>Total Sales ($)=%{text}<extra></extra>",
         "legendgroup": "Mouse",
         "marker": {
          "color": "#ab63fa",
          "line": {
           "color": "black",
           "width": 1
          },
          "pattern": {
           "shape": ""
          }
         },
         "name": "Mouse",
         "orientation": "v",
         "showlegend": true,
         "text": {
          "bdata": "ZmZmZr5r8kA=",
          "dtype": "f8"
         },
         "textposition": "outside",
         "texttemplate": "$%{text:.2f}",
         "type": "bar",
         "x": [
          "Mouse"
         ],
         "xaxis": "x",
         "y": {
          "bdata": "ZmZmZr5r8kA=",
          "dtype": "f8"
         },
         "yaxis": "y"
        },
        {
         "hovertemplate": "Product=%{x}<br>Total Sales ($)=%{text}<extra></extra>",
         "legendgroup": "Keyboard",
         "marker": {
          "color": "#FFA15A",
          "line": {
           "color": "black",
           "width": 1
          },
          "pattern": {
           "shape": ""
          }
         },
         "name": "Keyboard",
         "orientation": "v",
         "showlegend": true,
         "text": {
          "bdata": "H4XrUVBe8kA=",
          "dtype": "f8"
         },
         "textposition": "outside",
         "texttemplate": "$%{text:.2f}",
         "type": "bar",
         "x": [
          "Keyboard"
         ],
         "xaxis": "x",
         "y": {
          "bdata": "H4XrUVBe8kA=",
          "dtype": "f8"
         },
         "yaxis": "y"
        },
        {
         "hovertemplate": "Product=%{x}<br>Total Sales ($)=%{text}<extra></extra>",
         "legendgroup": "Laptop",
         "marker": {
          "color": "#19d3f3",
          "line": {
           "color": "black",
           "width": 1
          },
          "pattern": {
           "shape": ""
          }
         },
         "name": "Laptop",
         "orientation": "v",
         "showlegend": true,
         "text": {
          "bdata": "cT0K16us8UA=",
          "dtype": "f8"
         },
         "textposition": "outside",
         "texttemplate": "$%{text:.2f}",
         "type": "bar",
         "x": [
          "Laptop"
         ],
         "xaxis": "x",
         "y": {
          "bdata": "cT0K16us8UA=",
          "dtype": "f8"
         },
         "yaxis": "y"
        },
        {
         "hovertemplate": "Product=%{x}<br>Total Sales ($)=%{text}<extra></extra>",
         "legendgroup": "Shelf",
         "marker": {
          "color": "#FF6692",
          "line": {
           "color": "black",
           "width": 1
          },
          "pattern": {
           "shape": ""
          }
         },
         "name": "Shelf",
         "orientation": "v",
         "showlegend": true,
         "text": {
          "bdata": "zczMzLBQ8UA=",
          "dtype": "f8"
         },
         "textposition": "outside",
         "texttemplate": "$%{text:.2f}",
         "type": "bar",
         "x": [
          "Shelf"
         ],
         "xaxis": "x",
         "y": {
          "bdata": "zczMzLBQ8UA=",
          "dtype": "f8"
         },
         "yaxis": "y"
        },
        {
         "hovertemplate": "Product=%{x}<br>Total Sales ($)=%{text}<extra></extra>",
         "legendgroup": "Smartphone",
         "marker": {
          "color": "#B6E880",
          "line": {
           "color": "black",
           "width": 1
          },
          "pattern": {
           "shape": ""
          }
         },
         "name": "Smartphone",
         "orientation": "v",
         "showlegend": true,
         "text": {
          "bdata": "rkfhepBQ8EA=",
          "dtype": "f8"
         },
         "textposition": "outside",
         "texttemplate": "$%{text:.2f}",
         "type": "bar",
         "x": [
          "Smartphone"
         ],
         "xaxis": "x",
         "y": {
          "bdata": "rkfhepBQ8EA=",
          "dtype": "f8"
         },
         "yaxis": "y"
        },
        {
         "hovertemplate": "Product=%{x}<br>Total Sales ($)=%{text}<extra></extra>",
         "legendgroup": "Desk",
         "marker": {
          "color": "#FF97FF",
          "line": {
           "color": "black",
           "width": 1
          },
          "pattern": {
           "shape": ""
          }
         },
         "name": "Desk",
         "orientation": "v",
         "showlegend": true,
         "text": {
          "bdata": "16NwPbJC7kA=",
          "dtype": "f8"
         },
         "textposition": "outside",
         "texttemplate": "$%{text:.2f}",
         "type": "bar",
         "x": [
          "Desk"
         ],
         "xaxis": "x",
         "y": {
          "bdata": "16NwPbJC7kA=",
          "dtype": "f8"
         },
         "yaxis": "y"
        }
       ],
       "layout": {
        "barmode": "relative",
        "font": {
         "family": "Arial",
         "size": 14
        },
        "hoverlabel": {
         "bgcolor": "white",
         "font": {
          "size": 13
         }
        },
        "legend": {
         "title": {
          "text": "Product"
         },
         "tracegroupgap": 0
        },
        "margin": {
         "b": 80,
         "l": 40,
         "r": 40,
         "t": 80
        },
        "paper_bgcolor": "white",
        "plot_bgcolor": "white",
        "showlegend": false,
        "template": {
         "data": {
          "bar": [
           {
            "error_x": {
             "color": "#2a3f5f"
            },
            "error_y": {
             "color": "#2a3f5f"
            },
            "marker": {
             "line": {
              "color": "#E5ECF6",
              "width": 0.5
             },
             "pattern": {
              "fillmode": "overlay",
              "size": 10,
              "solidity": 0.2
             }
            },
            "type": "bar"
           }
          ],
          "barpolar": [
           {
            "marker": {
             "line": {
              "color": "#E5ECF6",
              "width": 0.5
             },
             "pattern": {
              "fillmode": "overlay",
              "size": 10,
              "solidity": 0.2
             }
            },
            "type": "barpolar"
           }
          ],
          "carpet": [
           {
            "aaxis": {
             "endlinecolor": "#2a3f5f",
             "gridcolor": "white",
             "linecolor": "white",
             "minorgridcolor": "white",
             "startlinecolor": "#2a3f5f"
            },
            "baxis": {
             "endlinecolor": "#2a3f5f",
             "gridcolor": "white",
             "linecolor": "white",
             "minorgridcolor": "white",
             "startlinecolor": "#2a3f5f"
            },
            "type": "carpet"
           }
          ],
          "choropleth": [
           {
            "colorbar": {
             "outlinewidth": 0,
             "ticks": ""
            },
            "type": "choropleth"
           }
          ],
          "contour": [
           {
            "colorbar": {
             "outlinewidth": 0,
             "ticks": ""
            },
            "colorscale": [
             [
              0,
              "#0d0887"
             ],
             [
              0.1111111111111111,
              "#46039f"
             ],
             [
              0.2222222222222222,
              "#7201a8"
             ],
             [
              0.3333333333333333,
              "#9c179e"
             ],
             [
              0.4444444444444444,
              "#bd3786"
             ],
             [
              0.5555555555555556,
              "#d8576b"
             ],
             [
              0.6666666666666666,
              "#ed7953"
             ],
             [
              0.7777777777777778,
              "#fb9f3a"
             ],
             [
              0.8888888888888888,
              "#fdca26"
             ],
             [
              1,
              "#f0f921"
             ]
            ],
            "type": "contour"
           }
          ],
          "contourcarpet": [
           {
            "colorbar": {
             "outlinewidth": 0,
             "ticks": ""
            },
            "type": "contourcarpet"
           }
          ],
          "heatmap": [
           {
            "colorbar": {
             "outlinewidth": 0,
             "ticks": ""
            },
            "colorscale": [
             [
              0,
              "#0d0887"
             ],
             [
              0.1111111111111111,
              "#46039f"
             ],
             [
              0.2222222222222222,
              "#7201a8"
             ],
             [
              0.3333333333333333,
              "#9c179e"
             ],
             [
              0.4444444444444444,
              "#bd3786"
             ],
             [
              0.5555555555555556,
              "#d8576b"
             ],
             [
              0.6666666666666666,
              "#ed7953"
             ],
             [
              0.7777777777777778,
              "#fb9f3a"
             ],
             [
              0.8888888888888888,
              "#fdca26"
             ],
             [
              1,
              "#f0f921"
             ]
            ],
            "type": "heatmap"
           }
          ],
          "histogram": [
           {
            "marker": {
             "pattern": {
              "fillmode": "overlay",
              "size": 10,
              "solidity": 0.2
             }
            },
            "type": "histogram"
           }
          ],
          "histogram2d": [
           {
            "colorbar": {
             "outlinewidth": 0,
             "ticks": ""
            },
            "colorscale": [
             [
              0,
              "#0d0887"
             ],
             [
              0.1111111111111111,
              "#46039f"
             ],
             [
              0.2222222222222222,
              "#7201a8"
             ],
             [
              0.3333333333333333,
              "#9c179e"
             ],
             [
              0.4444444444444444,
              "#bd3786"
             ],
             [
              0.5555555555555556,
              "#d8576b"
             ],
             [
              0.6666666666666666,
              "#ed7953"
             ],
             [
              0.7777777777777778,
              "#fb9f3a"
             ],
             [
              0.8888888888888888,
              "#fdca26"
             ],
             [
              1,
              "#f0f921"
             ]
            ],
            "type": "histogram2d"
           }
          ],
          "histogram2dcontour": [
           {
            "colorbar": {
             "outlinewidth": 0,
             "ticks": ""
            },
            "colorscale": [
             [
              0,
              "#0d0887"
             ],
             [
              0.1111111111111111,
              "#46039f"
             ],
             [
              0.2222222222222222,
              "#7201a8"
             ],
             [
              0.3333333333333333,
              "#9c179e"
             ],
             [
              0.4444444444444444,
              "#bd3786"
             ],
             [
              0.5555555555555556,
              "#d8576b"
             ],
             [
              0.6666666666666666,
              "#ed7953"
             ],
             [
              0.7777777777777778,
              "#fb9f3a"
             ],
             [
              0.8888888888888888,
              "#fdca26"
             ],
             [
              1,
              "#f0f921"
             ]
            ],
            "type": "histogram2dcontour"
           }
          ],
          "mesh3d": [
           {
            "colorbar": {
             "outlinewidth": 0,
             "ticks": ""
            },
            "type": "mesh3d"
           }
          ],
          "parcoords": [
           {
            "line": {
             "colorbar": {
              "outlinewidth": 0,
              "ticks": ""
             }
            },
            "type": "parcoords"
           }
          ],
          "pie": [
           {
            "automargin": true,
            "type": "pie"
           }
          ],
          "scatter": [
           {
            "fillpattern": {
             "fillmode": "overlay",
             "size": 10,
             "solidity": 0.2
            },
            "type": "scatter"
           }
          ],
          "scatter3d": [
           {
            "line": {
             "colorbar": {
              "outlinewidth": 0,
              "ticks": ""
             }
            },
            "marker": {
             "colorbar": {
              "outlinewidth": 0,
              "ticks": ""
             }
            },
            "type": "scatter3d"
           }
          ],
          "scattercarpet": [
           {
            "marker": {
             "colorbar": {
              "outlinewidth": 0,
              "ticks": ""
             }
            },
            "type": "scattercarpet"
           }
          ],
          "scattergeo": [
           {
            "marker": {
             "colorbar": {
              "outlinewidth": 0,
              "ticks": ""
             }
            },
            "type": "scattergeo"
           }
          ],
          "scattergl": [
           {
            "marker": {
             "colorbar": {
              "outlinewidth": 0,
              "ticks": ""
             }
            },
            "type": "scattergl"
           }
          ],
          "scattermap": [
           {
            "marker": {
             "colorbar": {
              "outlinewidth": 0,
              "ticks": ""
             }
            },
            "type": "scattermap"
           }
          ],
          "scattermapbox": [
           {
            "marker": {
             "colorbar": {
              "outlinewidth": 0,
              "ticks": ""
             }
            },
            "type": "scattermapbox"
           }
          ],
          "scatterpolar": [
           {
            "marker": {
             "colorbar": {
              "outlinewidth": 0,
              "ticks": ""
             }
            },
            "type": "scatterpolar"
           }
          ],
          "scatterpolargl": [
           {
            "marker": {
             "colorbar": {
              "outlinewidth": 0,
              "ticks": ""
             }
            },
            "type": "scatterpolargl"
           }
          ],
          "scatterternary": [
           {
            "marker": {
             "colorbar": {
              "outlinewidth": 0,
              "ticks": ""
             }
            },
            "type": "scatterternary"
           }
          ],
          "surface": [
           {
            "colorbar": {
             "outlinewidth": 0,
             "ticks": ""
            },
            "colorscale": [
             [
              0,
              "#0d0887"
             ],
             [
              0.1111111111111111,
              "#46039f"
             ],
             [
              0.2222222222222222,
              "#7201a8"
             ],
             [
              0.3333333333333333,
              "#9c179e"
             ],
             [
              0.4444444444444444,
              "#bd3786"
             ],
             [
              0.5555555555555556,
              "#d8576b"
             ],
             [
              0.6666666666666666,
              "#ed7953"
             ],
             [
              0.7777777777777778,
              "#fb9f3a"
             ],
             [
              0.8888888888888888,
              "#fdca26"
             ],
             [
              1,
              "#f0f921"
             ]
            ],
            "type": "surface"
           }
          ],
          "table": [
           {
            "cells": {
             "fill": {
              "color": "#EBF0F8"
             },
             "line": {
              "color": "white"
             }
            },
            "header": {
             "fill": {
              "color": "#C8D4E3"
             },
             "line": {
              "color": "white"
             }
            },
            "type": "table"
           }
          ]
         },
         "layout": {
          "annotationdefaults": {
           "arrowcolor": "#2a3f5f",
           "arrowhead": 0,
           "arrowwidth": 1
          },
          "autotypenumbers": "strict",
          "coloraxis": {
           "colorbar": {
            "outlinewidth": 0,
            "ticks": ""
           }
          },
          "colorscale": {
           "diverging": [
            [
             0,
             "#8e0152"
            ],
            [
             0.1,
             "#c51b7d"
            ],
            [
             0.2,
             "#de77ae"
            ],
            [
             0.3,
             "#f1b6da"
            ],
            [
             0.4,
             "#fde0ef"
            ],
            [
             0.5,
             "#f7f7f7"
            ],
            [
             0.6,
             "#e6f5d0"
            ],
            [
             0.7,
             "#b8e186"
            ],
            [
             0.8,
             "#7fbc41"
            ],
            [
             0.9,
             "#4d9221"
            ],
            [
             1,
             "#276419"
            ]
           ],
           "sequential": [
            [
             0,
             "#0d0887"
            ],
            [
             0.1111111111111111,
             "#46039f"
            ],
            [
             0.2222222222222222,
             "#7201a8"
            ],
            [
             0.3333333333333333,
             "#9c179e"
            ],
            [
             0.4444444444444444,
             "#bd3786"
            ],
            [
             0.5555555555555556,
             "#d8576b"
            ],
            [
             0.6666666666666666,
             "#ed7953"
            ],
            [
             0.7777777777777778,
             "#fb9f3a"
            ],
            [
             0.8888888888888888,
             "#fdca26"
            ],
            [
             1,
             "#f0f921"
            ]
           ],
           "sequentialminus": [
            [
             0,
             "#0d0887"
            ],
            [
             0.1111111111111111,
             "#46039f"
            ],
            [
             0.2222222222222222,
             "#7201a8"
            ],
            [
             0.3333333333333333,
             "#9c179e"
            ],
            [
             0.4444444444444444,
             "#bd3786"
            ],
            [
             0.5555555555555556,
             "#d8576b"
            ],
            [
             0.6666666666666666,
             "#ed7953"
            ],
            [
             0.7777777777777778,
             "#fb9f3a"
            ],
            [
             0.8888888888888888,
             "#fdca26"
            ],
            [
             1,
             "#f0f921"
            ]
           ]
          },
          "colorway": [
           "#636efa",
           "#EF553B",
           "#00cc96",
           "#ab63fa",
           "#FFA15A",
           "#19d3f3",
           "#FF6692",
           "#B6E880",
           "#FF97FF",
           "#FECB52"
          ],
          "font": {
           "color": "#2a3f5f"
          },
          "geo": {
           "bgcolor": "white",
           "lakecolor": "white",
           "landcolor": "#E5ECF6",
           "showlakes": true,
           "showland": true,
           "subunitcolor": "white"
          },
          "hoverlabel": {
           "align": "left"
          },
          "hovermode": "closest",
          "mapbox": {
           "style": "light"
          },
          "paper_bgcolor": "white",
          "plot_bgcolor": "#E5ECF6",
          "polar": {
           "angularaxis": {
            "gridcolor": "white",
            "linecolor": "white",
            "ticks": ""
           },
           "bgcolor": "#E5ECF6",
           "radialaxis": {
            "gridcolor": "white",
            "linecolor": "white",
            "ticks": ""
           }
          },
          "scene": {
           "xaxis": {
            "backgroundcolor": "#E5ECF6",
            "gridcolor": "white",
            "gridwidth": 2,
            "linecolor": "white",
            "showbackground": true,
            "ticks": "",
            "zerolinecolor": "white"
           },
           "yaxis": {
            "backgroundcolor": "#E5ECF6",
            "gridcolor": "white",
            "gridwidth": 2,
            "linecolor": "white",
            "showbackground": true,
            "ticks": "",
            "zerolinecolor": "white"
           },
           "zaxis": {
            "backgroundcolor": "#E5ECF6",
            "gridcolor": "white",
            "gridwidth": 2,
            "linecolor": "white",
            "showbackground": true,
            "ticks": "",
            "zerolinecolor": "white"
           }
          },
          "shapedefaults": {
           "line": {
            "color": "#2a3f5f"
           }
          },
          "ternary": {
           "aaxis": {
            "gridcolor": "white",
            "linecolor": "white",
            "ticks": ""
           },
           "baxis": {
            "gridcolor": "white",
            "linecolor": "white",
            "ticks": ""
           },
           "bgcolor": "#E5ECF6",
           "caxis": {
            "gridcolor": "white",
            "linecolor": "white",
            "ticks": ""
           }
          },
          "title": {
           "x": 0.05
          },
          "xaxis": {
           "automargin": true,
           "gridcolor": "white",
           "linecolor": "white",
           "ticks": "",
           "title": {
            "standoff": 15
           },
           "zerolinecolor": "white",
           "zerolinewidth": 2
          },
          "yaxis": {
           "automargin": true,
           "gridcolor": "white",
           "linecolor": "white",
           "ticks": "",
           "title": {
            "standoff": 15
           },
           "zerolinecolor": "white",
           "zerolinewidth": 2
          }
         }
        },
        "title": {
         "font": {
          "size": 22
         },
         "text": "🛒 Total Sales by Product",
         "x": 0.5
        },
        "uniformtext": {
         "minsize": 12,
         "mode": "hide"
        },
        "xaxis": {
         "anchor": "y",
         "categoryarray": [
          "Tablet",
          "Chair",
          "Headphones",
          "Mouse",
          "Keyboard",
          "Laptop",
          "Shelf",
          "Smartphone",
          "Desk"
         ],
         "categoryorder": "array",
         "domain": [
          0,
          1
         ],
         "showgrid": false,
         "title": {
          "text": "Product"
         }
        },
        "yaxis": {
         "anchor": "x",
         "domain": [
          0,
          1
         ],
         "gridcolor": "lightgray",
         "showgrid": true,
         "tickprefix": "$",
         "title": {
          "text": "Total Sales ($)"
         }
        }
       }
      }
     },
     "metadata": {},
     "output_type": "display_data"
    }
   ],
   "source": [
    "product_sales = df.groupby('Product', as_index=False)['Total_Amount'].sum()\n",
    "product_sales = product_sales.sort_values('Total_Amount', ascending=False)\n",
    "\n",
    "fig3 = px.bar(\n",
    "    product_sales,\n",
    "    x='Product',\n",
    "    y='Total_Amount',\n",
    "    color='Product',\n",
    "    title='🛒 Total Sales by Product',\n",
    "    text=product_sales['Total_Amount'],\n",
    "    labels={'Product': 'Product', 'Total_Amount': 'Total Sales ($)'}\n",
    ")\n",
    "\n",
    "fig3.update_traces(\n",
    "    texttemplate='$%{text:.2f}',\n",
    "    textposition='outside',\n",
    "    marker=dict(line=dict(width=1, color='black'))\n",
    ")\n",
    "\n",
    "fig3.update_layout(\n",
    "    xaxis_title='Product',\n",
    "    yaxis_title='Total Sales ($)',\n",
    "    title_font=dict(size=22),\n",
    "    title_x=0.5,\n",
    "    uniformtext_minsize=12,\n",
    "    uniformtext_mode='hide',\n",
    "    yaxis=dict(tickprefix='$', showgrid=True, gridcolor='lightgray'),\n",
    "    xaxis=dict(showgrid=False),\n",
    "    plot_bgcolor='white',\n",
    "    paper_bgcolor='white',\n",
    "    font=dict(family='Arial', size=14),\n",
    "    hoverlabel=dict(bgcolor='white', font_size=13),\n",
    "    margin=dict(l=40, r=40, t=80, b=80),\n",
    "    showlegend=False\n",
    ")\n",
    "\n",
    "fig3.show()\n",
    "\n"
   ]
  },
  {
   "cell_type": "code",
   "execution_count": 58,
   "id": "0595d6b9",
   "metadata": {},
   "outputs": [
    {
     "data": {
      "application/vnd.plotly.v1+json": {
       "config": {
        "plotlyServerURL": "https://plot.ly"
       },
       "data": [
        {
         "hovertemplate": "Product=%{x}<br>Units Sold=%{text}<extra></extra>",
         "legendgroup": "Chair",
         "marker": {
          "color": "#636efa",
          "line": {
           "color": "black",
           "width": 1
          },
          "pattern": {
           "shape": ""
          }
         },
         "name": "Chair",
         "orientation": "v",
         "showlegend": true,
         "text": {
          "bdata": "AAAAAACgZ0A=",
          "dtype": "f8"
         },
         "textposition": "outside",
         "texttemplate": "%{text}",
         "type": "bar",
         "x": [
          "Chair"
         ],
         "xaxis": "x",
         "y": {
          "bdata": "vQA=",
          "dtype": "i2"
         },
         "yaxis": "y"
        },
        {
         "hovertemplate": "Product=%{x}<br>Units Sold=%{text}<extra></extra>",
         "legendgroup": "Tablet",
         "marker": {
          "color": "#EF553B",
          "line": {
           "color": "black",
           "width": 1
          },
          "pattern": {
           "shape": ""
          }
         },
         "name": "Tablet",
         "orientation": "v",
         "showlegend": true,
         "text": {
          "bdata": "AAAAAABgZ0A=",
          "dtype": "f8"
         },
         "textposition": "outside",
         "texttemplate": "%{text}",
         "type": "bar",
         "x": [
          "Tablet"
         ],
         "xaxis": "x",
         "y": {
          "bdata": "uwA=",
          "dtype": "i2"
         },
         "yaxis": "y"
        },
        {
         "hovertemplate": "Product=%{x}<br>Units Sold=%{text}<extra></extra>",
         "legendgroup": "Headphones",
         "marker": {
          "color": "#00cc96",
          "line": {
           "color": "black",
           "width": 1
          },
          "pattern": {
           "shape": ""
          }
         },
         "name": "Headphones",
         "orientation": "v",
         "showlegend": true,
         "text": {
          "bdata": "AAAAAABgZEA=",
          "dtype": "f8"
         },
         "textposition": "outside",
         "texttemplate": "%{text}",
         "type": "bar",
         "x": [
          "Headphones"
         ],
         "xaxis": "x",
         "y": {
          "bdata": "owA=",
          "dtype": "i2"
         },
         "yaxis": "y"
        },
        {
         "hovertemplate": "Product=%{x}<br>Units Sold=%{text}<extra></extra>",
         "legendgroup": "Mouse",
         "marker": {
          "color": "#ab63fa",
          "line": {
           "color": "black",
           "width": 1
          },
          "pattern": {
           "shape": ""
          }
         },
         "name": "Mouse",
         "orientation": "v",
         "showlegend": true,
         "text": {
          "bdata": "AAAAAAAgZEA=",
          "dtype": "f8"
         },
         "textposition": "outside",
         "texttemplate": "%{text}",
         "type": "bar",
         "x": [
          "Mouse"
         ],
         "xaxis": "x",
         "y": {
          "bdata": "oQA=",
          "dtype": "i2"
         },
         "yaxis": "y"
        },
        {
         "hovertemplate": "Product=%{x}<br>Units Sold=%{text}<extra></extra>",
         "legendgroup": "Desk",
         "marker": {
          "color": "#FFA15A",
          "line": {
           "color": "black",
           "width": 1
          },
          "pattern": {
           "shape": ""
          }
         },
         "name": "Desk",
         "orientation": "v",
         "showlegend": true,
         "text": {
          "bdata": "AAAAAAAAZEA=",
          "dtype": "f8"
         },
         "textposition": "outside",
         "texttemplate": "%{text}",
         "type": "bar",
         "x": [
          "Desk"
         ],
         "xaxis": "x",
         "y": {
          "bdata": "oAA=",
          "dtype": "i2"
         },
         "yaxis": "y"
        },
        {
         "hovertemplate": "Product=%{x}<br>Units Sold=%{text}<extra></extra>",
         "legendgroup": "Keyboard",
         "marker": {
          "color": "#19d3f3",
          "line": {
           "color": "black",
           "width": 1
          },
          "pattern": {
           "shape": ""
          }
         },
         "name": "Keyboard",
         "orientation": "v",
         "showlegend": true,
         "text": {
          "bdata": "AAAAAAAgYkA=",
          "dtype": "f8"
         },
         "textposition": "outside",
         "texttemplate": "%{text}",
         "type": "bar",
         "x": [
          "Keyboard"
         ],
         "xaxis": "x",
         "y": {
          "bdata": "kQA=",
          "dtype": "i2"
         },
         "yaxis": "y"
        },
        {
         "hovertemplate": "Product=%{x}<br>Units Sold=%{text}<extra></extra>",
         "legendgroup": "Laptop",
         "marker": {
          "color": "#FF6692",
          "line": {
           "color": "black",
           "width": 1
          },
          "pattern": {
           "shape": ""
          }
         },
         "name": "Laptop",
         "orientation": "v",
         "showlegend": true,
         "text": {
          "bdata": "AAAAAAAAYkA=",
          "dtype": "f8"
         },
         "textposition": "outside",
         "texttemplate": "%{text}",
         "type": "bar",
         "x": [
          "Laptop"
         ],
         "xaxis": "x",
         "y": {
          "bdata": "kAA=",
          "dtype": "i2"
         },
         "yaxis": "y"
        },
        {
         "hovertemplate": "Product=%{x}<br>Units Sold=%{text}<extra></extra>",
         "legendgroup": "Shelf",
         "marker": {
          "color": "#B6E880",
          "line": {
           "color": "black",
           "width": 1
          },
          "pattern": {
           "shape": ""
          }
         },
         "name": "Shelf",
         "orientation": "v",
         "showlegend": true,
         "text": {
          "bdata": "AAAAAAAAYUA=",
          "dtype": "f8"
         },
         "textposition": "outside",
         "texttemplate": "%{text}",
         "type": "bar",
         "x": [
          "Shelf"
         ],
         "xaxis": "x",
         "y": {
          "bdata": "iAA=",
          "dtype": "i2"
         },
         "yaxis": "y"
        },
        {
         "hovertemplate": "Product=%{x}<br>Units Sold=%{text}<extra></extra>",
         "legendgroup": "Smartphone",
         "marker": {
          "color": "#FF97FF",
          "line": {
           "color": "black",
           "width": 1
          },
          "pattern": {
           "shape": ""
          }
         },
         "name": "Smartphone",
         "orientation": "v",
         "showlegend": true,
         "text": {
          "bdata": "AAAAAAAgYEA=",
          "dtype": "f8"
         },
         "textposition": "outside",
         "texttemplate": "%{text}",
         "type": "bar",
         "x": [
          "Smartphone"
         ],
         "xaxis": "x",
         "y": {
          "bdata": "gQA=",
          "dtype": "i2"
         },
         "yaxis": "y"
        }
       ],
       "layout": {
        "barmode": "relative",
        "font": {
         "family": "Arial",
         "size": 14
        },
        "hoverlabel": {
         "bgcolor": "white",
         "font": {
          "size": 13
         }
        },
        "legend": {
         "title": {
          "text": "Product"
         },
         "tracegroupgap": 0
        },
        "margin": {
         "b": 80,
         "l": 40,
         "r": 40,
         "t": 80
        },
        "paper_bgcolor": "white",
        "plot_bgcolor": "white",
        "showlegend": false,
        "template": {
         "data": {
          "bar": [
           {
            "error_x": {
             "color": "#2a3f5f"
            },
            "error_y": {
             "color": "#2a3f5f"
            },
            "marker": {
             "line": {
              "color": "#E5ECF6",
              "width": 0.5
             },
             "pattern": {
              "fillmode": "overlay",
              "size": 10,
              "solidity": 0.2
             }
            },
            "type": "bar"
           }
          ],
          "barpolar": [
           {
            "marker": {
             "line": {
              "color": "#E5ECF6",
              "width": 0.5
             },
             "pattern": {
              "fillmode": "overlay",
              "size": 10,
              "solidity": 0.2
             }
            },
            "type": "barpolar"
           }
          ],
          "carpet": [
           {
            "aaxis": {
             "endlinecolor": "#2a3f5f",
             "gridcolor": "white",
             "linecolor": "white",
             "minorgridcolor": "white",
             "startlinecolor": "#2a3f5f"
            },
            "baxis": {
             "endlinecolor": "#2a3f5f",
             "gridcolor": "white",
             "linecolor": "white",
             "minorgridcolor": "white",
             "startlinecolor": "#2a3f5f"
            },
            "type": "carpet"
           }
          ],
          "choropleth": [
           {
            "colorbar": {
             "outlinewidth": 0,
             "ticks": ""
            },
            "type": "choropleth"
           }
          ],
          "contour": [
           {
            "colorbar": {
             "outlinewidth": 0,
             "ticks": ""
            },
            "colorscale": [
             [
              0,
              "#0d0887"
             ],
             [
              0.1111111111111111,
              "#46039f"
             ],
             [
              0.2222222222222222,
              "#7201a8"
             ],
             [
              0.3333333333333333,
              "#9c179e"
             ],
             [
              0.4444444444444444,
              "#bd3786"
             ],
             [
              0.5555555555555556,
              "#d8576b"
             ],
             [
              0.6666666666666666,
              "#ed7953"
             ],
             [
              0.7777777777777778,
              "#fb9f3a"
             ],
             [
              0.8888888888888888,
              "#fdca26"
             ],
             [
              1,
              "#f0f921"
             ]
            ],
            "type": "contour"
           }
          ],
          "contourcarpet": [
           {
            "colorbar": {
             "outlinewidth": 0,
             "ticks": ""
            },
            "type": "contourcarpet"
           }
          ],
          "heatmap": [
           {
            "colorbar": {
             "outlinewidth": 0,
             "ticks": ""
            },
            "colorscale": [
             [
              0,
              "#0d0887"
             ],
             [
              0.1111111111111111,
              "#46039f"
             ],
             [
              0.2222222222222222,
              "#7201a8"
             ],
             [
              0.3333333333333333,
              "#9c179e"
             ],
             [
              0.4444444444444444,
              "#bd3786"
             ],
             [
              0.5555555555555556,
              "#d8576b"
             ],
             [
              0.6666666666666666,
              "#ed7953"
             ],
             [
              0.7777777777777778,
              "#fb9f3a"
             ],
             [
              0.8888888888888888,
              "#fdca26"
             ],
             [
              1,
              "#f0f921"
             ]
            ],
            "type": "heatmap"
           }
          ],
          "histogram": [
           {
            "marker": {
             "pattern": {
              "fillmode": "overlay",
              "size": 10,
              "solidity": 0.2
             }
            },
            "type": "histogram"
           }
          ],
          "histogram2d": [
           {
            "colorbar": {
             "outlinewidth": 0,
             "ticks": ""
            },
            "colorscale": [
             [
              0,
              "#0d0887"
             ],
             [
              0.1111111111111111,
              "#46039f"
             ],
             [
              0.2222222222222222,
              "#7201a8"
             ],
             [
              0.3333333333333333,
              "#9c179e"
             ],
             [
              0.4444444444444444,
              "#bd3786"
             ],
             [
              0.5555555555555556,
              "#d8576b"
             ],
             [
              0.6666666666666666,
              "#ed7953"
             ],
             [
              0.7777777777777778,
              "#fb9f3a"
             ],
             [
              0.8888888888888888,
              "#fdca26"
             ],
             [
              1,
              "#f0f921"
             ]
            ],
            "type": "histogram2d"
           }
          ],
          "histogram2dcontour": [
           {
            "colorbar": {
             "outlinewidth": 0,
             "ticks": ""
            },
            "colorscale": [
             [
              0,
              "#0d0887"
             ],
             [
              0.1111111111111111,
              "#46039f"
             ],
             [
              0.2222222222222222,
              "#7201a8"
             ],
             [
              0.3333333333333333,
              "#9c179e"
             ],
             [
              0.4444444444444444,
              "#bd3786"
             ],
             [
              0.5555555555555556,
              "#d8576b"
             ],
             [
              0.6666666666666666,
              "#ed7953"
             ],
             [
              0.7777777777777778,
              "#fb9f3a"
             ],
             [
              0.8888888888888888,
              "#fdca26"
             ],
             [
              1,
              "#f0f921"
             ]
            ],
            "type": "histogram2dcontour"
           }
          ],
          "mesh3d": [
           {
            "colorbar": {
             "outlinewidth": 0,
             "ticks": ""
            },
            "type": "mesh3d"
           }
          ],
          "parcoords": [
           {
            "line": {
             "colorbar": {
              "outlinewidth": 0,
              "ticks": ""
             }
            },
            "type": "parcoords"
           }
          ],
          "pie": [
           {
            "automargin": true,
            "type": "pie"
           }
          ],
          "scatter": [
           {
            "fillpattern": {
             "fillmode": "overlay",
             "size": 10,
             "solidity": 0.2
            },
            "type": "scatter"
           }
          ],
          "scatter3d": [
           {
            "line": {
             "colorbar": {
              "outlinewidth": 0,
              "ticks": ""
             }
            },
            "marker": {
             "colorbar": {
              "outlinewidth": 0,
              "ticks": ""
             }
            },
            "type": "scatter3d"
           }
          ],
          "scattercarpet": [
           {
            "marker": {
             "colorbar": {
              "outlinewidth": 0,
              "ticks": ""
             }
            },
            "type": "scattercarpet"
           }
          ],
          "scattergeo": [
           {
            "marker": {
             "colorbar": {
              "outlinewidth": 0,
              "ticks": ""
             }
            },
            "type": "scattergeo"
           }
          ],
          "scattergl": [
           {
            "marker": {
             "colorbar": {
              "outlinewidth": 0,
              "ticks": ""
             }
            },
            "type": "scattergl"
           }
          ],
          "scattermap": [
           {
            "marker": {
             "colorbar": {
              "outlinewidth": 0,
              "ticks": ""
             }
            },
            "type": "scattermap"
           }
          ],
          "scattermapbox": [
           {
            "marker": {
             "colorbar": {
              "outlinewidth": 0,
              "ticks": ""
             }
            },
            "type": "scattermapbox"
           }
          ],
          "scatterpolar": [
           {
            "marker": {
             "colorbar": {
              "outlinewidth": 0,
              "ticks": ""
             }
            },
            "type": "scatterpolar"
           }
          ],
          "scatterpolargl": [
           {
            "marker": {
             "colorbar": {
              "outlinewidth": 0,
              "ticks": ""
             }
            },
            "type": "scatterpolargl"
           }
          ],
          "scatterternary": [
           {
            "marker": {
             "colorbar": {
              "outlinewidth": 0,
              "ticks": ""
             }
            },
            "type": "scatterternary"
           }
          ],
          "surface": [
           {
            "colorbar": {
             "outlinewidth": 0,
             "ticks": ""
            },
            "colorscale": [
             [
              0,
              "#0d0887"
             ],
             [
              0.1111111111111111,
              "#46039f"
             ],
             [
              0.2222222222222222,
              "#7201a8"
             ],
             [
              0.3333333333333333,
              "#9c179e"
             ],
             [
              0.4444444444444444,
              "#bd3786"
             ],
             [
              0.5555555555555556,
              "#d8576b"
             ],
             [
              0.6666666666666666,
              "#ed7953"
             ],
             [
              0.7777777777777778,
              "#fb9f3a"
             ],
             [
              0.8888888888888888,
              "#fdca26"
             ],
             [
              1,
              "#f0f921"
             ]
            ],
            "type": "surface"
           }
          ],
          "table": [
           {
            "cells": {
             "fill": {
              "color": "#EBF0F8"
             },
             "line": {
              "color": "white"
             }
            },
            "header": {
             "fill": {
              "color": "#C8D4E3"
             },
             "line": {
              "color": "white"
             }
            },
            "type": "table"
           }
          ]
         },
         "layout": {
          "annotationdefaults": {
           "arrowcolor": "#2a3f5f",
           "arrowhead": 0,
           "arrowwidth": 1
          },
          "autotypenumbers": "strict",
          "coloraxis": {
           "colorbar": {
            "outlinewidth": 0,
            "ticks": ""
           }
          },
          "colorscale": {
           "diverging": [
            [
             0,
             "#8e0152"
            ],
            [
             0.1,
             "#c51b7d"
            ],
            [
             0.2,
             "#de77ae"
            ],
            [
             0.3,
             "#f1b6da"
            ],
            [
             0.4,
             "#fde0ef"
            ],
            [
             0.5,
             "#f7f7f7"
            ],
            [
             0.6,
             "#e6f5d0"
            ],
            [
             0.7,
             "#b8e186"
            ],
            [
             0.8,
             "#7fbc41"
            ],
            [
             0.9,
             "#4d9221"
            ],
            [
             1,
             "#276419"
            ]
           ],
           "sequential": [
            [
             0,
             "#0d0887"
            ],
            [
             0.1111111111111111,
             "#46039f"
            ],
            [
             0.2222222222222222,
             "#7201a8"
            ],
            [
             0.3333333333333333,
             "#9c179e"
            ],
            [
             0.4444444444444444,
             "#bd3786"
            ],
            [
             0.5555555555555556,
             "#d8576b"
            ],
            [
             0.6666666666666666,
             "#ed7953"
            ],
            [
             0.7777777777777778,
             "#fb9f3a"
            ],
            [
             0.8888888888888888,
             "#fdca26"
            ],
            [
             1,
             "#f0f921"
            ]
           ],
           "sequentialminus": [
            [
             0,
             "#0d0887"
            ],
            [
             0.1111111111111111,
             "#46039f"
            ],
            [
             0.2222222222222222,
             "#7201a8"
            ],
            [
             0.3333333333333333,
             "#9c179e"
            ],
            [
             0.4444444444444444,
             "#bd3786"
            ],
            [
             0.5555555555555556,
             "#d8576b"
            ],
            [
             0.6666666666666666,
             "#ed7953"
            ],
            [
             0.7777777777777778,
             "#fb9f3a"
            ],
            [
             0.8888888888888888,
             "#fdca26"
            ],
            [
             1,
             "#f0f921"
            ]
           ]
          },
          "colorway": [
           "#636efa",
           "#EF553B",
           "#00cc96",
           "#ab63fa",
           "#FFA15A",
           "#19d3f3",
           "#FF6692",
           "#B6E880",
           "#FF97FF",
           "#FECB52"
          ],
          "font": {
           "color": "#2a3f5f"
          },
          "geo": {
           "bgcolor": "white",
           "lakecolor": "white",
           "landcolor": "#E5ECF6",
           "showlakes": true,
           "showland": true,
           "subunitcolor": "white"
          },
          "hoverlabel": {
           "align": "left"
          },
          "hovermode": "closest",
          "mapbox": {
           "style": "light"
          },
          "paper_bgcolor": "white",
          "plot_bgcolor": "#E5ECF6",
          "polar": {
           "angularaxis": {
            "gridcolor": "white",
            "linecolor": "white",
            "ticks": ""
           },
           "bgcolor": "#E5ECF6",
           "radialaxis": {
            "gridcolor": "white",
            "linecolor": "white",
            "ticks": ""
           }
          },
          "scene": {
           "xaxis": {
            "backgroundcolor": "#E5ECF6",
            "gridcolor": "white",
            "gridwidth": 2,
            "linecolor": "white",
            "showbackground": true,
            "ticks": "",
            "zerolinecolor": "white"
           },
           "yaxis": {
            "backgroundcolor": "#E5ECF6",
            "gridcolor": "white",
            "gridwidth": 2,
            "linecolor": "white",
            "showbackground": true,
            "ticks": "",
            "zerolinecolor": "white"
           },
           "zaxis": {
            "backgroundcolor": "#E5ECF6",
            "gridcolor": "white",
            "gridwidth": 2,
            "linecolor": "white",
            "showbackground": true,
            "ticks": "",
            "zerolinecolor": "white"
           }
          },
          "shapedefaults": {
           "line": {
            "color": "#2a3f5f"
           }
          },
          "ternary": {
           "aaxis": {
            "gridcolor": "white",
            "linecolor": "white",
            "ticks": ""
           },
           "baxis": {
            "gridcolor": "white",
            "linecolor": "white",
            "ticks": ""
           },
           "bgcolor": "#E5ECF6",
           "caxis": {
            "gridcolor": "white",
            "linecolor": "white",
            "ticks": ""
           }
          },
          "title": {
           "x": 0.05
          },
          "xaxis": {
           "automargin": true,
           "gridcolor": "white",
           "linecolor": "white",
           "ticks": "",
           "title": {
            "standoff": 15
           },
           "zerolinecolor": "white",
           "zerolinewidth": 2
          },
          "yaxis": {
           "automargin": true,
           "gridcolor": "white",
           "linecolor": "white",
           "ticks": "",
           "title": {
            "standoff": 15
           },
           "zerolinecolor": "white",
           "zerolinewidth": 2
          }
         }
        },
        "title": {
         "font": {
          "size": 22
         },
         "text": "📦 Product Popularity by Quantity Sold",
         "x": 0.5
        },
        "uniformtext": {
         "minsize": 12,
         "mode": "hide"
        },
        "xaxis": {
         "anchor": "y",
         "categoryarray": [
          "Chair",
          "Tablet",
          "Headphones",
          "Mouse",
          "Desk",
          "Keyboard",
          "Laptop",
          "Shelf",
          "Smartphone"
         ],
         "categoryorder": "array",
         "domain": [
          0,
          1
         ],
         "showgrid": false,
         "title": {
          "text": "Product"
         }
        },
        "yaxis": {
         "anchor": "x",
         "domain": [
          0,
          1
         ],
         "gridcolor": "lightgray",
         "showgrid": true,
         "title": {
          "text": "Units Sold"
         }
        }
       }
      }
     },
     "metadata": {},
     "output_type": "display_data"
    }
   ],
   "source": [
    "product_qty = df.groupby('Product', as_index=False)['Quantity'].sum()\n",
    "product_qty = product_qty.sort_values('Quantity', ascending=False)\n",
    "\n",
    "fig4 = px.bar(\n",
    "    product_qty,\n",
    "    x='Product',\n",
    "    y='Quantity',\n",
    "    color='Product',\n",
    "    title='📦 Product Popularity by Quantity Sold',\n",
    "    text=product_qty['Quantity'],\n",
    "    labels={'Product': 'Product', 'Quantity': 'Units Sold'}\n",
    ")\n",
    "\n",
    "fig4.update_traces(\n",
    "    texttemplate='%{text}',\n",
    "    textposition='outside',\n",
    "    marker=dict(line=dict(width=1, color='black'))\n",
    ")\n",
    "\n",
    "fig4.update_layout(\n",
    "    xaxis_title='Product',\n",
    "    yaxis_title='Units Sold',\n",
    "    title_font=dict(size=22),\n",
    "    title_x=0.5,\n",
    "    uniformtext_minsize=12,\n",
    "    uniformtext_mode='hide',\n",
    "    yaxis=dict(showgrid=True, gridcolor='lightgray'),\n",
    "    xaxis=dict(showgrid=False),\n",
    "    plot_bgcolor='white',\n",
    "    paper_bgcolor='white',\n",
    "    font=dict(family='Arial', size=14),\n",
    "    hoverlabel=dict(bgcolor='white', font_size=13),\n",
    "    margin=dict(l=40, r=40, t=80, b=80),\n",
    "    showlegend=False\n",
    ")\n",
    "\n",
    "fig4.show()\n"
   ]
  },
  {
   "cell_type": "code",
   "execution_count": 59,
   "id": "20a012be",
   "metadata": {},
   "outputs": [
    {
     "data": {
      "application/vnd.plotly.v1+json": {
       "config": {
        "plotlyServerURL": "https://plot.ly"
       },
       "data": [
        {
         "hovertemplate": "Product Category=%{x}<br>Total Sales ($)=%{text}<extra></extra>",
         "legendgroup": "Accessories",
         "marker": {
          "color": "#636efa",
          "line": {
           "color": "black",
           "width": 1
          },
          "pattern": {
           "shape": ""
          }
         },
         "name": "Accessories",
         "orientation": "v",
         "showlegend": true,
         "text": {
          "bdata": "H4XrUZxXDkE=",
          "dtype": "f8"
         },
         "textposition": "outside",
         "texttemplate": "$%{text:.2f}",
         "type": "bar",
         "width": 0.4,
         "x": [
          "Accessories"
         ],
         "xaxis": "x",
         "y": {
          "bdata": "H4XrUZxXDkE=",
          "dtype": "f8"
         },
         "yaxis": "y"
        },
        {
         "hovertemplate": "Product Category=%{x}<br>Total Sales ($)=%{text}<extra></extra>",
         "legendgroup": "Electronics",
         "marker": {
          "color": "#EF553B",
          "line": {
           "color": "black",
           "width": 1
          },
          "pattern": {
           "shape": ""
          }
         },
         "name": "Electronics",
         "orientation": "v",
         "showlegend": true,
         "text": {
          "bdata": "j8L1KJ5sDUE=",
          "dtype": "f8"
         },
         "textposition": "outside",
         "texttemplate": "$%{text:.2f}",
         "type": "bar",
         "width": 0.4,
         "x": [
          "Electronics"
         ],
         "xaxis": "x",
         "y": {
          "bdata": "j8L1KJ5sDUE=",
          "dtype": "f8"
         },
         "yaxis": "y"
        },
        {
         "hovertemplate": "Product Category=%{x}<br>Total Sales ($)=%{text}<extra></extra>",
         "legendgroup": "Furniture",
         "marker": {
          "color": "#00cc96",
          "line": {
           "color": "black",
           "width": 1
          },
          "pattern": {
           "shape": ""
          }
         },
         "name": "Furniture",
         "orientation": "v",
         "showlegend": true,
         "text": {
          "bdata": "exSuR6OSDEE=",
          "dtype": "f8"
         },
         "textposition": "outside",
         "texttemplate": "$%{text:.2f}",
         "type": "bar",
         "width": 0.4,
         "x": [
          "Furniture"
         ],
         "xaxis": "x",
         "y": {
          "bdata": "exSuR6OSDEE=",
          "dtype": "f8"
         },
         "yaxis": "y"
        }
       ],
       "layout": {
        "barmode": "relative",
        "font": {
         "family": "Arial",
         "size": 14
        },
        "hoverlabel": {
         "bgcolor": "white",
         "font": {
          "size": 13
         }
        },
        "legend": {
         "title": {
          "text": "Product Category"
         },
         "tracegroupgap": 0
        },
        "margin": {
         "b": 80,
         "l": 40,
         "r": 40,
         "t": 80
        },
        "paper_bgcolor": "white",
        "plot_bgcolor": "white",
        "showlegend": false,
        "template": {
         "data": {
          "bar": [
           {
            "error_x": {
             "color": "#2a3f5f"
            },
            "error_y": {
             "color": "#2a3f5f"
            },
            "marker": {
             "line": {
              "color": "#E5ECF6",
              "width": 0.5
             },
             "pattern": {
              "fillmode": "overlay",
              "size": 10,
              "solidity": 0.2
             }
            },
            "type": "bar"
           }
          ],
          "barpolar": [
           {
            "marker": {
             "line": {
              "color": "#E5ECF6",
              "width": 0.5
             },
             "pattern": {
              "fillmode": "overlay",
              "size": 10,
              "solidity": 0.2
             }
            },
            "type": "barpolar"
           }
          ],
          "carpet": [
           {
            "aaxis": {
             "endlinecolor": "#2a3f5f",
             "gridcolor": "white",
             "linecolor": "white",
             "minorgridcolor": "white",
             "startlinecolor": "#2a3f5f"
            },
            "baxis": {
             "endlinecolor": "#2a3f5f",
             "gridcolor": "white",
             "linecolor": "white",
             "minorgridcolor": "white",
             "startlinecolor": "#2a3f5f"
            },
            "type": "carpet"
           }
          ],
          "choropleth": [
           {
            "colorbar": {
             "outlinewidth": 0,
             "ticks": ""
            },
            "type": "choropleth"
           }
          ],
          "contour": [
           {
            "colorbar": {
             "outlinewidth": 0,
             "ticks": ""
            },
            "colorscale": [
             [
              0,
              "#0d0887"
             ],
             [
              0.1111111111111111,
              "#46039f"
             ],
             [
              0.2222222222222222,
              "#7201a8"
             ],
             [
              0.3333333333333333,
              "#9c179e"
             ],
             [
              0.4444444444444444,
              "#bd3786"
             ],
             [
              0.5555555555555556,
              "#d8576b"
             ],
             [
              0.6666666666666666,
              "#ed7953"
             ],
             [
              0.7777777777777778,
              "#fb9f3a"
             ],
             [
              0.8888888888888888,
              "#fdca26"
             ],
             [
              1,
              "#f0f921"
             ]
            ],
            "type": "contour"
           }
          ],
          "contourcarpet": [
           {
            "colorbar": {
             "outlinewidth": 0,
             "ticks": ""
            },
            "type": "contourcarpet"
           }
          ],
          "heatmap": [
           {
            "colorbar": {
             "outlinewidth": 0,
             "ticks": ""
            },
            "colorscale": [
             [
              0,
              "#0d0887"
             ],
             [
              0.1111111111111111,
              "#46039f"
             ],
             [
              0.2222222222222222,
              "#7201a8"
             ],
             [
              0.3333333333333333,
              "#9c179e"
             ],
             [
              0.4444444444444444,
              "#bd3786"
             ],
             [
              0.5555555555555556,
              "#d8576b"
             ],
             [
              0.6666666666666666,
              "#ed7953"
             ],
             [
              0.7777777777777778,
              "#fb9f3a"
             ],
             [
              0.8888888888888888,
              "#fdca26"
             ],
             [
              1,
              "#f0f921"
             ]
            ],
            "type": "heatmap"
           }
          ],
          "histogram": [
           {
            "marker": {
             "pattern": {
              "fillmode": "overlay",
              "size": 10,
              "solidity": 0.2
             }
            },
            "type": "histogram"
           }
          ],
          "histogram2d": [
           {
            "colorbar": {
             "outlinewidth": 0,
             "ticks": ""
            },
            "colorscale": [
             [
              0,
              "#0d0887"
             ],
             [
              0.1111111111111111,
              "#46039f"
             ],
             [
              0.2222222222222222,
              "#7201a8"
             ],
             [
              0.3333333333333333,
              "#9c179e"
             ],
             [
              0.4444444444444444,
              "#bd3786"
             ],
             [
              0.5555555555555556,
              "#d8576b"
             ],
             [
              0.6666666666666666,
              "#ed7953"
             ],
             [
              0.7777777777777778,
              "#fb9f3a"
             ],
             [
              0.8888888888888888,
              "#fdca26"
             ],
             [
              1,
              "#f0f921"
             ]
            ],
            "type": "histogram2d"
           }
          ],
          "histogram2dcontour": [
           {
            "colorbar": {
             "outlinewidth": 0,
             "ticks": ""
            },
            "colorscale": [
             [
              0,
              "#0d0887"
             ],
             [
              0.1111111111111111,
              "#46039f"
             ],
             [
              0.2222222222222222,
              "#7201a8"
             ],
             [
              0.3333333333333333,
              "#9c179e"
             ],
             [
              0.4444444444444444,
              "#bd3786"
             ],
             [
              0.5555555555555556,
              "#d8576b"
             ],
             [
              0.6666666666666666,
              "#ed7953"
             ],
             [
              0.7777777777777778,
              "#fb9f3a"
             ],
             [
              0.8888888888888888,
              "#fdca26"
             ],
             [
              1,
              "#f0f921"
             ]
            ],
            "type": "histogram2dcontour"
           }
          ],
          "mesh3d": [
           {
            "colorbar": {
             "outlinewidth": 0,
             "ticks": ""
            },
            "type": "mesh3d"
           }
          ],
          "parcoords": [
           {
            "line": {
             "colorbar": {
              "outlinewidth": 0,
              "ticks": ""
             }
            },
            "type": "parcoords"
           }
          ],
          "pie": [
           {
            "automargin": true,
            "type": "pie"
           }
          ],
          "scatter": [
           {
            "fillpattern": {
             "fillmode": "overlay",
             "size": 10,
             "solidity": 0.2
            },
            "type": "scatter"
           }
          ],
          "scatter3d": [
           {
            "line": {
             "colorbar": {
              "outlinewidth": 0,
              "ticks": ""
             }
            },
            "marker": {
             "colorbar": {
              "outlinewidth": 0,
              "ticks": ""
             }
            },
            "type": "scatter3d"
           }
          ],
          "scattercarpet": [
           {
            "marker": {
             "colorbar": {
              "outlinewidth": 0,
              "ticks": ""
             }
            },
            "type": "scattercarpet"
           }
          ],
          "scattergeo": [
           {
            "marker": {
             "colorbar": {
              "outlinewidth": 0,
              "ticks": ""
             }
            },
            "type": "scattergeo"
           }
          ],
          "scattergl": [
           {
            "marker": {
             "colorbar": {
              "outlinewidth": 0,
              "ticks": ""
             }
            },
            "type": "scattergl"
           }
          ],
          "scattermap": [
           {
            "marker": {
             "colorbar": {
              "outlinewidth": 0,
              "ticks": ""
             }
            },
            "type": "scattermap"
           }
          ],
          "scattermapbox": [
           {
            "marker": {
             "colorbar": {
              "outlinewidth": 0,
              "ticks": ""
             }
            },
            "type": "scattermapbox"
           }
          ],
          "scatterpolar": [
           {
            "marker": {
             "colorbar": {
              "outlinewidth": 0,
              "ticks": ""
             }
            },
            "type": "scatterpolar"
           }
          ],
          "scatterpolargl": [
           {
            "marker": {
             "colorbar": {
              "outlinewidth": 0,
              "ticks": ""
             }
            },
            "type": "scatterpolargl"
           }
          ],
          "scatterternary": [
           {
            "marker": {
             "colorbar": {
              "outlinewidth": 0,
              "ticks": ""
             }
            },
            "type": "scatterternary"
           }
          ],
          "surface": [
           {
            "colorbar": {
             "outlinewidth": 0,
             "ticks": ""
            },
            "colorscale": [
             [
              0,
              "#0d0887"
             ],
             [
              0.1111111111111111,
              "#46039f"
             ],
             [
              0.2222222222222222,
              "#7201a8"
             ],
             [
              0.3333333333333333,
              "#9c179e"
             ],
             [
              0.4444444444444444,
              "#bd3786"
             ],
             [
              0.5555555555555556,
              "#d8576b"
             ],
             [
              0.6666666666666666,
              "#ed7953"
             ],
             [
              0.7777777777777778,
              "#fb9f3a"
             ],
             [
              0.8888888888888888,
              "#fdca26"
             ],
             [
              1,
              "#f0f921"
             ]
            ],
            "type": "surface"
           }
          ],
          "table": [
           {
            "cells": {
             "fill": {
              "color": "#EBF0F8"
             },
             "line": {
              "color": "white"
             }
            },
            "header": {
             "fill": {
              "color": "#C8D4E3"
             },
             "line": {
              "color": "white"
             }
            },
            "type": "table"
           }
          ]
         },
         "layout": {
          "annotationdefaults": {
           "arrowcolor": "#2a3f5f",
           "arrowhead": 0,
           "arrowwidth": 1
          },
          "autotypenumbers": "strict",
          "coloraxis": {
           "colorbar": {
            "outlinewidth": 0,
            "ticks": ""
           }
          },
          "colorscale": {
           "diverging": [
            [
             0,
             "#8e0152"
            ],
            [
             0.1,
             "#c51b7d"
            ],
            [
             0.2,
             "#de77ae"
            ],
            [
             0.3,
             "#f1b6da"
            ],
            [
             0.4,
             "#fde0ef"
            ],
            [
             0.5,
             "#f7f7f7"
            ],
            [
             0.6,
             "#e6f5d0"
            ],
            [
             0.7,
             "#b8e186"
            ],
            [
             0.8,
             "#7fbc41"
            ],
            [
             0.9,
             "#4d9221"
            ],
            [
             1,
             "#276419"
            ]
           ],
           "sequential": [
            [
             0,
             "#0d0887"
            ],
            [
             0.1111111111111111,
             "#46039f"
            ],
            [
             0.2222222222222222,
             "#7201a8"
            ],
            [
             0.3333333333333333,
             "#9c179e"
            ],
            [
             0.4444444444444444,
             "#bd3786"
            ],
            [
             0.5555555555555556,
             "#d8576b"
            ],
            [
             0.6666666666666666,
             "#ed7953"
            ],
            [
             0.7777777777777778,
             "#fb9f3a"
            ],
            [
             0.8888888888888888,
             "#fdca26"
            ],
            [
             1,
             "#f0f921"
            ]
           ],
           "sequentialminus": [
            [
             0,
             "#0d0887"
            ],
            [
             0.1111111111111111,
             "#46039f"
            ],
            [
             0.2222222222222222,
             "#7201a8"
            ],
            [
             0.3333333333333333,
             "#9c179e"
            ],
            [
             0.4444444444444444,
             "#bd3786"
            ],
            [
             0.5555555555555556,
             "#d8576b"
            ],
            [
             0.6666666666666666,
             "#ed7953"
            ],
            [
             0.7777777777777778,
             "#fb9f3a"
            ],
            [
             0.8888888888888888,
             "#fdca26"
            ],
            [
             1,
             "#f0f921"
            ]
           ]
          },
          "colorway": [
           "#636efa",
           "#EF553B",
           "#00cc96",
           "#ab63fa",
           "#FFA15A",
           "#19d3f3",
           "#FF6692",
           "#B6E880",
           "#FF97FF",
           "#FECB52"
          ],
          "font": {
           "color": "#2a3f5f"
          },
          "geo": {
           "bgcolor": "white",
           "lakecolor": "white",
           "landcolor": "#E5ECF6",
           "showlakes": true,
           "showland": true,
           "subunitcolor": "white"
          },
          "hoverlabel": {
           "align": "left"
          },
          "hovermode": "closest",
          "mapbox": {
           "style": "light"
          },
          "paper_bgcolor": "white",
          "plot_bgcolor": "#E5ECF6",
          "polar": {
           "angularaxis": {
            "gridcolor": "white",
            "linecolor": "white",
            "ticks": ""
           },
           "bgcolor": "#E5ECF6",
           "radialaxis": {
            "gridcolor": "white",
            "linecolor": "white",
            "ticks": ""
           }
          },
          "scene": {
           "xaxis": {
            "backgroundcolor": "#E5ECF6",
            "gridcolor": "white",
            "gridwidth": 2,
            "linecolor": "white",
            "showbackground": true,
            "ticks": "",
            "zerolinecolor": "white"
           },
           "yaxis": {
            "backgroundcolor": "#E5ECF6",
            "gridcolor": "white",
            "gridwidth": 2,
            "linecolor": "white",
            "showbackground": true,
            "ticks": "",
            "zerolinecolor": "white"
           },
           "zaxis": {
            "backgroundcolor": "#E5ECF6",
            "gridcolor": "white",
            "gridwidth": 2,
            "linecolor": "white",
            "showbackground": true,
            "ticks": "",
            "zerolinecolor": "white"
           }
          },
          "shapedefaults": {
           "line": {
            "color": "#2a3f5f"
           }
          },
          "ternary": {
           "aaxis": {
            "gridcolor": "white",
            "linecolor": "white",
            "ticks": ""
           },
           "baxis": {
            "gridcolor": "white",
            "linecolor": "white",
            "ticks": ""
           },
           "bgcolor": "#E5ECF6",
           "caxis": {
            "gridcolor": "white",
            "linecolor": "white",
            "ticks": ""
           }
          },
          "title": {
           "x": 0.05
          },
          "xaxis": {
           "automargin": true,
           "gridcolor": "white",
           "linecolor": "white",
           "ticks": "",
           "title": {
            "standoff": 15
           },
           "zerolinecolor": "white",
           "zerolinewidth": 2
          },
          "yaxis": {
           "automargin": true,
           "gridcolor": "white",
           "linecolor": "white",
           "ticks": "",
           "title": {
            "standoff": 15
           },
           "zerolinecolor": "white",
           "zerolinewidth": 2
          }
         }
        },
        "title": {
         "font": {
          "size": 22
         },
         "text": "📦 Total Sales by Product Category",
         "x": 0.5
        },
        "uniformtext": {
         "minsize": 12,
         "mode": "hide"
        },
        "xaxis": {
         "anchor": "y",
         "categoryarray": [
          "Accessories",
          "Electronics",
          "Furniture"
         ],
         "categoryorder": "array",
         "domain": [
          0,
          1
         ],
         "showgrid": false,
         "title": {
          "text": "Product Category"
         }
        },
        "yaxis": {
         "anchor": "x",
         "domain": [
          0,
          1
         ],
         "gridcolor": "lightgray",
         "showgrid": true,
         "tickprefix": "$",
         "title": {
          "text": "Total Sales ($)"
         }
        }
       }
      }
     },
     "metadata": {},
     "output_type": "display_data"
    }
   ],
   "source": [
    "category_sales = df.groupby('Category', as_index=False)['Total_Amount'].sum()\n",
    "category_sales = category_sales.sort_values('Total_Amount', ascending=False)\n",
    "fig5 = px.bar(\n",
    "    category_sales,\n",
    "    x='Category',\n",
    "    y='Total_Amount',\n",
    "    color='Category',\n",
    "    title='📦 Total Sales by Product Category',\n",
    "    text=category_sales['Total_Amount'],\n",
    "    labels={'Category': 'Product Category', 'Total_Amount': 'Total Sales ($)'}\n",
    ")\n",
    "fig5.update_traces(\n",
    "    texttemplate='$%{text:.2f}',\n",
    "    textposition='outside',\n",
    "    marker=dict(line=dict(width=1, color='black'))\n",
    ")\n",
    "fig5.update_traces(width=0.4)\n",
    "fig5.update_layout(\n",
    "    xaxis_title='Product Category',\n",
    "    yaxis_title='Total Sales ($)',\n",
    "    title_x=0.5,\n",
    "    title_font=dict(size=22),\n",
    "    uniformtext_minsize=12,\n",
    "    uniformtext_mode='hide',\n",
    "    yaxis=dict(tickprefix='$', showgrid=True, gridcolor='lightgray'),\n",
    "    xaxis=dict(showgrid=False),\n",
    "    plot_bgcolor='white',\n",
    "    paper_bgcolor='white',\n",
    "    font=dict(family='Arial', size=14),\n",
    "    hoverlabel=dict(bgcolor='white', font_size=13),\n",
    "    margin=dict(l=40, r=40, t=80, b=80),\n",
    "    showlegend=False\n",
    ")\n",
    "fig5.show()\n",
    "\n"
   ]
  },
  {
   "cell_type": "code",
   "execution_count": 60,
   "id": "51f0c22c",
   "metadata": {},
   "outputs": [
    {
     "data": {
      "application/vnd.plotly.v1+json": {
       "config": {
        "plotlyServerURL": "https://plot.ly"
       },
       "data": [
        {
         "hovertemplate": "<b>Month:</b> %{x|%B %Y}<br><b>Total Sales:</b> $%{y:.2f}<extra></extra>",
         "legendgroup": "",
         "line": {
          "color": "royalblue",
          "dash": "solid",
          "width": 3
         },
         "marker": {
          "color": "darkblue",
          "size": 8,
          "symbol": "circle"
         },
         "mode": "lines+markers+text",
         "name": "",
         "orientation": "v",
         "showlegend": false,
         "text": {
          "bdata": "AAAAAGDb3EAfhetRcNzrQK5H4XqA3fFA9ihcj34z6EBxPQrX2y/yQFK4HoUTBfNA16NwPeqU60A9CtejSBjkQOtRuB6dvO9AwvUoXDt35UCF61G40v7yQFyPwvX43uZACtejcJ323UA=",
          "dtype": "f8"
         },
         "textposition": "top center",
         "type": "scatter",
         "x": [
          "2024-07-01T00:00:00.000000000",
          "2024-08-01T00:00:00.000000000",
          "2024-09-01T00:00:00.000000000",
          "2024-10-01T00:00:00.000000000",
          "2024-11-01T00:00:00.000000000",
          "2024-12-01T00:00:00.000000000",
          "2025-01-01T00:00:00.000000000",
          "2025-02-01T00:00:00.000000000",
          "2025-03-01T00:00:00.000000000",
          "2025-04-01T00:00:00.000000000",
          "2025-05-01T00:00:00.000000000",
          "2025-06-01T00:00:00.000000000",
          "2025-07-01T00:00:00.000000000"
         ],
         "xaxis": "x",
         "y": {
          "bdata": "AAAAAGDb3EAfhetRcNzrQK5H4XqA3fFA9ihcj34z6EBxPQrX2y/yQFK4HoUTBfNA16NwPeqU60A9CtejSBjkQOtRuB6dvO9AwvUoXDt35UCF61G40v7yQFyPwvX43uZACtejcJ323UA=",
          "dtype": "f8"
         },
         "yaxis": "y"
        }
       ],
       "layout": {
        "font": {
         "family": "Arial",
         "size": 14
        },
        "hoverlabel": {
         "bgcolor": "white",
         "font": {
          "size": 13
         }
        },
        "legend": {
         "tracegroupgap": 0
        },
        "margin": {
         "b": 80,
         "l": 40,
         "r": 40,
         "t": 80
        },
        "plot_bgcolor": "white",
        "template": {
         "data": {
          "bar": [
           {
            "error_x": {
             "color": "#2a3f5f"
            },
            "error_y": {
             "color": "#2a3f5f"
            },
            "marker": {
             "line": {
              "color": "#E5ECF6",
              "width": 0.5
             },
             "pattern": {
              "fillmode": "overlay",
              "size": 10,
              "solidity": 0.2
             }
            },
            "type": "bar"
           }
          ],
          "barpolar": [
           {
            "marker": {
             "line": {
              "color": "#E5ECF6",
              "width": 0.5
             },
             "pattern": {
              "fillmode": "overlay",
              "size": 10,
              "solidity": 0.2
             }
            },
            "type": "barpolar"
           }
          ],
          "carpet": [
           {
            "aaxis": {
             "endlinecolor": "#2a3f5f",
             "gridcolor": "white",
             "linecolor": "white",
             "minorgridcolor": "white",
             "startlinecolor": "#2a3f5f"
            },
            "baxis": {
             "endlinecolor": "#2a3f5f",
             "gridcolor": "white",
             "linecolor": "white",
             "minorgridcolor": "white",
             "startlinecolor": "#2a3f5f"
            },
            "type": "carpet"
           }
          ],
          "choropleth": [
           {
            "colorbar": {
             "outlinewidth": 0,
             "ticks": ""
            },
            "type": "choropleth"
           }
          ],
          "contour": [
           {
            "colorbar": {
             "outlinewidth": 0,
             "ticks": ""
            },
            "colorscale": [
             [
              0,
              "#0d0887"
             ],
             [
              0.1111111111111111,
              "#46039f"
             ],
             [
              0.2222222222222222,
              "#7201a8"
             ],
             [
              0.3333333333333333,
              "#9c179e"
             ],
             [
              0.4444444444444444,
              "#bd3786"
             ],
             [
              0.5555555555555556,
              "#d8576b"
             ],
             [
              0.6666666666666666,
              "#ed7953"
             ],
             [
              0.7777777777777778,
              "#fb9f3a"
             ],
             [
              0.8888888888888888,
              "#fdca26"
             ],
             [
              1,
              "#f0f921"
             ]
            ],
            "type": "contour"
           }
          ],
          "contourcarpet": [
           {
            "colorbar": {
             "outlinewidth": 0,
             "ticks": ""
            },
            "type": "contourcarpet"
           }
          ],
          "heatmap": [
           {
            "colorbar": {
             "outlinewidth": 0,
             "ticks": ""
            },
            "colorscale": [
             [
              0,
              "#0d0887"
             ],
             [
              0.1111111111111111,
              "#46039f"
             ],
             [
              0.2222222222222222,
              "#7201a8"
             ],
             [
              0.3333333333333333,
              "#9c179e"
             ],
             [
              0.4444444444444444,
              "#bd3786"
             ],
             [
              0.5555555555555556,
              "#d8576b"
             ],
             [
              0.6666666666666666,
              "#ed7953"
             ],
             [
              0.7777777777777778,
              "#fb9f3a"
             ],
             [
              0.8888888888888888,
              "#fdca26"
             ],
             [
              1,
              "#f0f921"
             ]
            ],
            "type": "heatmap"
           }
          ],
          "histogram": [
           {
            "marker": {
             "pattern": {
              "fillmode": "overlay",
              "size": 10,
              "solidity": 0.2
             }
            },
            "type": "histogram"
           }
          ],
          "histogram2d": [
           {
            "colorbar": {
             "outlinewidth": 0,
             "ticks": ""
            },
            "colorscale": [
             [
              0,
              "#0d0887"
             ],
             [
              0.1111111111111111,
              "#46039f"
             ],
             [
              0.2222222222222222,
              "#7201a8"
             ],
             [
              0.3333333333333333,
              "#9c179e"
             ],
             [
              0.4444444444444444,
              "#bd3786"
             ],
             [
              0.5555555555555556,
              "#d8576b"
             ],
             [
              0.6666666666666666,
              "#ed7953"
             ],
             [
              0.7777777777777778,
              "#fb9f3a"
             ],
             [
              0.8888888888888888,
              "#fdca26"
             ],
             [
              1,
              "#f0f921"
             ]
            ],
            "type": "histogram2d"
           }
          ],
          "histogram2dcontour": [
           {
            "colorbar": {
             "outlinewidth": 0,
             "ticks": ""
            },
            "colorscale": [
             [
              0,
              "#0d0887"
             ],
             [
              0.1111111111111111,
              "#46039f"
             ],
             [
              0.2222222222222222,
              "#7201a8"
             ],
             [
              0.3333333333333333,
              "#9c179e"
             ],
             [
              0.4444444444444444,
              "#bd3786"
             ],
             [
              0.5555555555555556,
              "#d8576b"
             ],
             [
              0.6666666666666666,
              "#ed7953"
             ],
             [
              0.7777777777777778,
              "#fb9f3a"
             ],
             [
              0.8888888888888888,
              "#fdca26"
             ],
             [
              1,
              "#f0f921"
             ]
            ],
            "type": "histogram2dcontour"
           }
          ],
          "mesh3d": [
           {
            "colorbar": {
             "outlinewidth": 0,
             "ticks": ""
            },
            "type": "mesh3d"
           }
          ],
          "parcoords": [
           {
            "line": {
             "colorbar": {
              "outlinewidth": 0,
              "ticks": ""
             }
            },
            "type": "parcoords"
           }
          ],
          "pie": [
           {
            "automargin": true,
            "type": "pie"
           }
          ],
          "scatter": [
           {
            "fillpattern": {
             "fillmode": "overlay",
             "size": 10,
             "solidity": 0.2
            },
            "type": "scatter"
           }
          ],
          "scatter3d": [
           {
            "line": {
             "colorbar": {
              "outlinewidth": 0,
              "ticks": ""
             }
            },
            "marker": {
             "colorbar": {
              "outlinewidth": 0,
              "ticks": ""
             }
            },
            "type": "scatter3d"
           }
          ],
          "scattercarpet": [
           {
            "marker": {
             "colorbar": {
              "outlinewidth": 0,
              "ticks": ""
             }
            },
            "type": "scattercarpet"
           }
          ],
          "scattergeo": [
           {
            "marker": {
             "colorbar": {
              "outlinewidth": 0,
              "ticks": ""
             }
            },
            "type": "scattergeo"
           }
          ],
          "scattergl": [
           {
            "marker": {
             "colorbar": {
              "outlinewidth": 0,
              "ticks": ""
             }
            },
            "type": "scattergl"
           }
          ],
          "scattermap": [
           {
            "marker": {
             "colorbar": {
              "outlinewidth": 0,
              "ticks": ""
             }
            },
            "type": "scattermap"
           }
          ],
          "scattermapbox": [
           {
            "marker": {
             "colorbar": {
              "outlinewidth": 0,
              "ticks": ""
             }
            },
            "type": "scattermapbox"
           }
          ],
          "scatterpolar": [
           {
            "marker": {
             "colorbar": {
              "outlinewidth": 0,
              "ticks": ""
             }
            },
            "type": "scatterpolar"
           }
          ],
          "scatterpolargl": [
           {
            "marker": {
             "colorbar": {
              "outlinewidth": 0,
              "ticks": ""
             }
            },
            "type": "scatterpolargl"
           }
          ],
          "scatterternary": [
           {
            "marker": {
             "colorbar": {
              "outlinewidth": 0,
              "ticks": ""
             }
            },
            "type": "scatterternary"
           }
          ],
          "surface": [
           {
            "colorbar": {
             "outlinewidth": 0,
             "ticks": ""
            },
            "colorscale": [
             [
              0,
              "#0d0887"
             ],
             [
              0.1111111111111111,
              "#46039f"
             ],
             [
              0.2222222222222222,
              "#7201a8"
             ],
             [
              0.3333333333333333,
              "#9c179e"
             ],
             [
              0.4444444444444444,
              "#bd3786"
             ],
             [
              0.5555555555555556,
              "#d8576b"
             ],
             [
              0.6666666666666666,
              "#ed7953"
             ],
             [
              0.7777777777777778,
              "#fb9f3a"
             ],
             [
              0.8888888888888888,
              "#fdca26"
             ],
             [
              1,
              "#f0f921"
             ]
            ],
            "type": "surface"
           }
          ],
          "table": [
           {
            "cells": {
             "fill": {
              "color": "#EBF0F8"
             },
             "line": {
              "color": "white"
             }
            },
            "header": {
             "fill": {
              "color": "#C8D4E3"
             },
             "line": {
              "color": "white"
             }
            },
            "type": "table"
           }
          ]
         },
         "layout": {
          "annotationdefaults": {
           "arrowcolor": "#2a3f5f",
           "arrowhead": 0,
           "arrowwidth": 1
          },
          "autotypenumbers": "strict",
          "coloraxis": {
           "colorbar": {
            "outlinewidth": 0,
            "ticks": ""
           }
          },
          "colorscale": {
           "diverging": [
            [
             0,
             "#8e0152"
            ],
            [
             0.1,
             "#c51b7d"
            ],
            [
             0.2,
             "#de77ae"
            ],
            [
             0.3,
             "#f1b6da"
            ],
            [
             0.4,
             "#fde0ef"
            ],
            [
             0.5,
             "#f7f7f7"
            ],
            [
             0.6,
             "#e6f5d0"
            ],
            [
             0.7,
             "#b8e186"
            ],
            [
             0.8,
             "#7fbc41"
            ],
            [
             0.9,
             "#4d9221"
            ],
            [
             1,
             "#276419"
            ]
           ],
           "sequential": [
            [
             0,
             "#0d0887"
            ],
            [
             0.1111111111111111,
             "#46039f"
            ],
            [
             0.2222222222222222,
             "#7201a8"
            ],
            [
             0.3333333333333333,
             "#9c179e"
            ],
            [
             0.4444444444444444,
             "#bd3786"
            ],
            [
             0.5555555555555556,
             "#d8576b"
            ],
            [
             0.6666666666666666,
             "#ed7953"
            ],
            [
             0.7777777777777778,
             "#fb9f3a"
            ],
            [
             0.8888888888888888,
             "#fdca26"
            ],
            [
             1,
             "#f0f921"
            ]
           ],
           "sequentialminus": [
            [
             0,
             "#0d0887"
            ],
            [
             0.1111111111111111,
             "#46039f"
            ],
            [
             0.2222222222222222,
             "#7201a8"
            ],
            [
             0.3333333333333333,
             "#9c179e"
            ],
            [
             0.4444444444444444,
             "#bd3786"
            ],
            [
             0.5555555555555556,
             "#d8576b"
            ],
            [
             0.6666666666666666,
             "#ed7953"
            ],
            [
             0.7777777777777778,
             "#fb9f3a"
            ],
            [
             0.8888888888888888,
             "#fdca26"
            ],
            [
             1,
             "#f0f921"
            ]
           ]
          },
          "colorway": [
           "#636efa",
           "#EF553B",
           "#00cc96",
           "#ab63fa",
           "#FFA15A",
           "#19d3f3",
           "#FF6692",
           "#B6E880",
           "#FF97FF",
           "#FECB52"
          ],
          "font": {
           "color": "#2a3f5f"
          },
          "geo": {
           "bgcolor": "white",
           "lakecolor": "white",
           "landcolor": "#E5ECF6",
           "showlakes": true,
           "showland": true,
           "subunitcolor": "white"
          },
          "hoverlabel": {
           "align": "left"
          },
          "hovermode": "closest",
          "mapbox": {
           "style": "light"
          },
          "paper_bgcolor": "white",
          "plot_bgcolor": "#E5ECF6",
          "polar": {
           "angularaxis": {
            "gridcolor": "white",
            "linecolor": "white",
            "ticks": ""
           },
           "bgcolor": "#E5ECF6",
           "radialaxis": {
            "gridcolor": "white",
            "linecolor": "white",
            "ticks": ""
           }
          },
          "scene": {
           "xaxis": {
            "backgroundcolor": "#E5ECF6",
            "gridcolor": "white",
            "gridwidth": 2,
            "linecolor": "white",
            "showbackground": true,
            "ticks": "",
            "zerolinecolor": "white"
           },
           "yaxis": {
            "backgroundcolor": "#E5ECF6",
            "gridcolor": "white",
            "gridwidth": 2,
            "linecolor": "white",
            "showbackground": true,
            "ticks": "",
            "zerolinecolor": "white"
           },
           "zaxis": {
            "backgroundcolor": "#E5ECF6",
            "gridcolor": "white",
            "gridwidth": 2,
            "linecolor": "white",
            "showbackground": true,
            "ticks": "",
            "zerolinecolor": "white"
           }
          },
          "shapedefaults": {
           "line": {
            "color": "#2a3f5f"
           }
          },
          "ternary": {
           "aaxis": {
            "gridcolor": "white",
            "linecolor": "white",
            "ticks": ""
           },
           "baxis": {
            "gridcolor": "white",
            "linecolor": "white",
            "ticks": ""
           },
           "bgcolor": "#E5ECF6",
           "caxis": {
            "gridcolor": "white",
            "linecolor": "white",
            "ticks": ""
           }
          },
          "title": {
           "x": 0.05
          },
          "xaxis": {
           "automargin": true,
           "gridcolor": "white",
           "linecolor": "white",
           "ticks": "",
           "title": {
            "standoff": 15
           },
           "zerolinecolor": "white",
           "zerolinewidth": 2
          },
          "yaxis": {
           "automargin": true,
           "gridcolor": "white",
           "linecolor": "white",
           "ticks": "",
           "title": {
            "standoff": 15
           },
           "zerolinecolor": "white",
           "zerolinewidth": 2
          }
         }
        },
        "title": {
         "font": {
          "size": 22
         },
         "text": "📊 Monthly Sales Trend Over Time",
         "x": 0.5
        },
        "xaxis": {
         "anchor": "y",
         "domain": [
          0,
          1
         ],
         "showgrid": true,
         "tickangle": 45,
         "tickformat": "%b %Y",
         "title": {
          "text": "Month"
         }
        },
        "yaxis": {
         "anchor": "x",
         "domain": [
          0,
          1
         ],
         "gridcolor": "lightgray",
         "showgrid": true,
         "tickprefix": "$",
         "ticksuffix": "",
         "title": {
          "text": "Total Sales ($)"
         }
        }
       }
      }
     },
     "metadata": {},
     "output_type": "display_data"
    }
   ],
   "source": [
    "df['Month'] = df['Date'].dt.to_period('M').astype(str)\n",
    "monthly_sales = df.groupby('Month', as_index=False)['Total_Amount'].sum()\n",
    "monthly_sales['Month'] = pd.to_datetime(monthly_sales['Month'])\n",
    "monthly_sales = monthly_sales.sort_values('Month')\n",
    "fig6 = px.line(\n",
    "    monthly_sales,\n",
    "    x='Month',\n",
    "    y='Total_Amount',\n",
    "    markers=True,\n",
    "    title='📊 Monthly Sales Trend Over Time',\n",
    "    text=monthly_sales['Total_Amount'],\n",
    "    labels={'Month': 'Month', 'Total_Amount': 'Total Sales ($)'}\n",
    ")\n",
    "fig6.update_traces(\n",
    "    line=dict(color='royalblue', width=3),\n",
    "    marker=dict(size=8, color='darkblue'),\n",
    "    textposition='top center',\n",
    "    hovertemplate='<b>Month:</b> %{x|%B %Y}<br><b>Total Sales:</b> $%{y:.2f}<extra></extra>'\n",
    ")\n",
    "fig6.update_layout(\n",
    "    xaxis_title='Month',\n",
    "    yaxis_title='Total Sales ($)',\n",
    "    title_font=dict(size=22),\n",
    "    title_x=0.5,\n",
    "    xaxis=dict(\n",
    "        tickformat='%b %Y',\n",
    "        showgrid=True,\n",
    "        tickangle=45\n",
    "    ),\n",
    "    yaxis=dict(\n",
    "        showgrid=True,\n",
    "        tickprefix='$',\n",
    "        ticksuffix='',\n",
    "        gridcolor='lightgray'\n",
    "    ),\n",
    "    plot_bgcolor='white',\n",
    "    font=dict(family='Arial', size=14),\n",
    "    hoverlabel=dict(bgcolor='white', font_size=13),\n",
    "    margin=dict(l=40, r=40, t=80, b=80)\n",
    ")\n",
    "fig6.show()\n"
   ]
  },
  {
   "cell_type": "code",
   "execution_count": 62,
   "id": "0b265488",
   "metadata": {},
   "outputs": [
    {
     "data": {
      "application/vnd.plotly.v1+json": {
       "config": {
        "plotlyServerURL": "https://plot.ly"
       },
       "data": [
        {
         "alignmentgroup": "True",
         "hovertemplate": "Category=Accessories<br>Month=%{x}<br>Total Sales ($)=%{y}<extra></extra>",
         "legendgroup": "Accessories",
         "marker": {
          "color": "#636efa",
          "pattern": {
           "shape": ""
          }
         },
         "name": "Accessories",
         "offsetgroup": "Accessories",
         "orientation": "v",
         "showlegend": true,
         "textposition": "auto",
         "type": "bar",
         "x": [
          "2024-07-01T00:00:00.000000000",
          "2024-08-01T00:00:00.000000000",
          "2024-09-01T00:00:00.000000000",
          "2024-10-01T00:00:00.000000000",
          "2024-11-01T00:00:00.000000000",
          "2024-12-01T00:00:00.000000000",
          "2025-01-01T00:00:00.000000000",
          "2025-02-01T00:00:00.000000000",
          "2025-03-01T00:00:00.000000000",
          "2025-04-01T00:00:00.000000000",
          "2025-05-01T00:00:00.000000000",
          "2025-06-01T00:00:00.000000000",
          "2025-07-01T00:00:00.000000000"
         ],
         "xaxis": "x",
         "y": {
          "bdata": "exSuRyH9t0AfhetRuIzRQClcj8J1ZttAAAAAAHB0zkDrUbge9abYQHsUrkfBPN5ACtejcB1b0UAfhetR6D/SQNejcD3KHtNAH4XrUeiHyUDC9Shcn5PdQHsUrkdhmc9AMzMzM9OcwUA=",
          "dtype": "f8"
         },
         "yaxis": "y"
        },
        {
         "alignmentgroup": "True",
         "hovertemplate": "Category=Electronics<br>Month=%{x}<br>Total Sales ($)=%{y}<extra></extra>",
         "legendgroup": "Electronics",
         "marker": {
          "color": "#EF553B",
          "pattern": {
           "shape": ""
          }
         },
         "name": "Electronics",
         "offsetgroup": "Electronics",
         "orientation": "v",
         "showlegend": true,
         "textposition": "auto",
         "type": "bar",
         "x": [
          "2024-07-01T00:00:00.000000000",
          "2024-08-01T00:00:00.000000000",
          "2024-09-01T00:00:00.000000000",
          "2024-10-01T00:00:00.000000000",
          "2024-11-01T00:00:00.000000000",
          "2024-12-01T00:00:00.000000000",
          "2025-01-01T00:00:00.000000000",
          "2025-02-01T00:00:00.000000000",
          "2025-03-01T00:00:00.000000000",
          "2025-04-01T00:00:00.000000000",
          "2025-05-01T00:00:00.000000000",
          "2025-06-01T00:00:00.000000000",
          "2025-07-01T00:00:00.000000000"
         ],
         "xaxis": "x",
         "y": {
          "bdata": "KVyPwrUvzUDC9ShcX1jVQDMzMzPTk8xA16NwPZoe0kBwPQrX0/TVQArXo3ANTdpAj8L1KEyt10DXo3A9anzEQFK4HoVrT9pAPQrXoxCQwUAzMzMzw1PWQChcj8L1kc9ACtejcD1Vx0A=",
          "dtype": "f8"
         },
         "yaxis": "y"
        },
        {
         "alignmentgroup": "True",
         "hovertemplate": "Category=Furniture<br>Month=%{x}<br>Total Sales ($)=%{y}<extra></extra>",
         "legendgroup": "Furniture",
         "marker": {
          "color": "#00cc96",
          "pattern": {
           "shape": ""
          }
         },
         "name": "Furniture",
         "offsetgroup": "Furniture",
         "orientation": "v",
         "showlegend": true,
         "textposition": "auto",
         "type": "bar",
         "x": [
          "2024-07-01T00:00:00.000000000",
          "2024-08-01T00:00:00.000000000",
          "2024-09-01T00:00:00.000000000",
          "2024-10-01T00:00:00.000000000",
          "2024-11-01T00:00:00.000000000",
          "2024-12-01T00:00:00.000000000",
          "2025-01-01T00:00:00.000000000",
          "2025-02-01T00:00:00.000000000",
          "2025-03-01T00:00:00.000000000",
          "2025-04-01T00:00:00.000000000",
          "2025-05-01T00:00:00.000000000",
          "2025-06-01T00:00:00.000000000",
          "2025-07-01T00:00:00.000000000"
         ],
         "xaxis": "x",
         "y": {
          "bdata": "mpmZmXmIwEBcj8L1yNPQQPYoXI+ixd1AKVyPwlUczkBnZmZmpiPaQMP1KFx/itNAKVyPwtVCzEDhehSu52THQK5H4XoEC9JA16NwPXpi1UAfhetR6BPYQM3MzMyMUMxA16NwPSr7wkA=",
          "dtype": "f8"
         },
         "yaxis": "y"
        }
       ],
       "layout": {
        "barmode": "group",
        "font": {
         "family": "Arial",
         "size": 14
        },
        "hoverlabel": {
         "bgcolor": "white",
         "font": {
          "size": 13
         }
        },
        "legend": {
         "title": {
          "text": "Category"
         },
         "tracegroupgap": 0
        },
        "margin": {
         "b": 80,
         "l": 40,
         "r": 40,
         "t": 80
        },
        "paper_bgcolor": "white",
        "plot_bgcolor": "white",
        "template": {
         "data": {
          "bar": [
           {
            "error_x": {
             "color": "#2a3f5f"
            },
            "error_y": {
             "color": "#2a3f5f"
            },
            "marker": {
             "line": {
              "color": "#E5ECF6",
              "width": 0.5
             },
             "pattern": {
              "fillmode": "overlay",
              "size": 10,
              "solidity": 0.2
             }
            },
            "type": "bar"
           }
          ],
          "barpolar": [
           {
            "marker": {
             "line": {
              "color": "#E5ECF6",
              "width": 0.5
             },
             "pattern": {
              "fillmode": "overlay",
              "size": 10,
              "solidity": 0.2
             }
            },
            "type": "barpolar"
           }
          ],
          "carpet": [
           {
            "aaxis": {
             "endlinecolor": "#2a3f5f",
             "gridcolor": "white",
             "linecolor": "white",
             "minorgridcolor": "white",
             "startlinecolor": "#2a3f5f"
            },
            "baxis": {
             "endlinecolor": "#2a3f5f",
             "gridcolor": "white",
             "linecolor": "white",
             "minorgridcolor": "white",
             "startlinecolor": "#2a3f5f"
            },
            "type": "carpet"
           }
          ],
          "choropleth": [
           {
            "colorbar": {
             "outlinewidth": 0,
             "ticks": ""
            },
            "type": "choropleth"
           }
          ],
          "contour": [
           {
            "colorbar": {
             "outlinewidth": 0,
             "ticks": ""
            },
            "colorscale": [
             [
              0,
              "#0d0887"
             ],
             [
              0.1111111111111111,
              "#46039f"
             ],
             [
              0.2222222222222222,
              "#7201a8"
             ],
             [
              0.3333333333333333,
              "#9c179e"
             ],
             [
              0.4444444444444444,
              "#bd3786"
             ],
             [
              0.5555555555555556,
              "#d8576b"
             ],
             [
              0.6666666666666666,
              "#ed7953"
             ],
             [
              0.7777777777777778,
              "#fb9f3a"
             ],
             [
              0.8888888888888888,
              "#fdca26"
             ],
             [
              1,
              "#f0f921"
             ]
            ],
            "type": "contour"
           }
          ],
          "contourcarpet": [
           {
            "colorbar": {
             "outlinewidth": 0,
             "ticks": ""
            },
            "type": "contourcarpet"
           }
          ],
          "heatmap": [
           {
            "colorbar": {
             "outlinewidth": 0,
             "ticks": ""
            },
            "colorscale": [
             [
              0,
              "#0d0887"
             ],
             [
              0.1111111111111111,
              "#46039f"
             ],
             [
              0.2222222222222222,
              "#7201a8"
             ],
             [
              0.3333333333333333,
              "#9c179e"
             ],
             [
              0.4444444444444444,
              "#bd3786"
             ],
             [
              0.5555555555555556,
              "#d8576b"
             ],
             [
              0.6666666666666666,
              "#ed7953"
             ],
             [
              0.7777777777777778,
              "#fb9f3a"
             ],
             [
              0.8888888888888888,
              "#fdca26"
             ],
             [
              1,
              "#f0f921"
             ]
            ],
            "type": "heatmap"
           }
          ],
          "histogram": [
           {
            "marker": {
             "pattern": {
              "fillmode": "overlay",
              "size": 10,
              "solidity": 0.2
             }
            },
            "type": "histogram"
           }
          ],
          "histogram2d": [
           {
            "colorbar": {
             "outlinewidth": 0,
             "ticks": ""
            },
            "colorscale": [
             [
              0,
              "#0d0887"
             ],
             [
              0.1111111111111111,
              "#46039f"
             ],
             [
              0.2222222222222222,
              "#7201a8"
             ],
             [
              0.3333333333333333,
              "#9c179e"
             ],
             [
              0.4444444444444444,
              "#bd3786"
             ],
             [
              0.5555555555555556,
              "#d8576b"
             ],
             [
              0.6666666666666666,
              "#ed7953"
             ],
             [
              0.7777777777777778,
              "#fb9f3a"
             ],
             [
              0.8888888888888888,
              "#fdca26"
             ],
             [
              1,
              "#f0f921"
             ]
            ],
            "type": "histogram2d"
           }
          ],
          "histogram2dcontour": [
           {
            "colorbar": {
             "outlinewidth": 0,
             "ticks": ""
            },
            "colorscale": [
             [
              0,
              "#0d0887"
             ],
             [
              0.1111111111111111,
              "#46039f"
             ],
             [
              0.2222222222222222,
              "#7201a8"
             ],
             [
              0.3333333333333333,
              "#9c179e"
             ],
             [
              0.4444444444444444,
              "#bd3786"
             ],
             [
              0.5555555555555556,
              "#d8576b"
             ],
             [
              0.6666666666666666,
              "#ed7953"
             ],
             [
              0.7777777777777778,
              "#fb9f3a"
             ],
             [
              0.8888888888888888,
              "#fdca26"
             ],
             [
              1,
              "#f0f921"
             ]
            ],
            "type": "histogram2dcontour"
           }
          ],
          "mesh3d": [
           {
            "colorbar": {
             "outlinewidth": 0,
             "ticks": ""
            },
            "type": "mesh3d"
           }
          ],
          "parcoords": [
           {
            "line": {
             "colorbar": {
              "outlinewidth": 0,
              "ticks": ""
             }
            },
            "type": "parcoords"
           }
          ],
          "pie": [
           {
            "automargin": true,
            "type": "pie"
           }
          ],
          "scatter": [
           {
            "fillpattern": {
             "fillmode": "overlay",
             "size": 10,
             "solidity": 0.2
            },
            "type": "scatter"
           }
          ],
          "scatter3d": [
           {
            "line": {
             "colorbar": {
              "outlinewidth": 0,
              "ticks": ""
             }
            },
            "marker": {
             "colorbar": {
              "outlinewidth": 0,
              "ticks": ""
             }
            },
            "type": "scatter3d"
           }
          ],
          "scattercarpet": [
           {
            "marker": {
             "colorbar": {
              "outlinewidth": 0,
              "ticks": ""
             }
            },
            "type": "scattercarpet"
           }
          ],
          "scattergeo": [
           {
            "marker": {
             "colorbar": {
              "outlinewidth": 0,
              "ticks": ""
             }
            },
            "type": "scattergeo"
           }
          ],
          "scattergl": [
           {
            "marker": {
             "colorbar": {
              "outlinewidth": 0,
              "ticks": ""
             }
            },
            "type": "scattergl"
           }
          ],
          "scattermap": [
           {
            "marker": {
             "colorbar": {
              "outlinewidth": 0,
              "ticks": ""
             }
            },
            "type": "scattermap"
           }
          ],
          "scattermapbox": [
           {
            "marker": {
             "colorbar": {
              "outlinewidth": 0,
              "ticks": ""
             }
            },
            "type": "scattermapbox"
           }
          ],
          "scatterpolar": [
           {
            "marker": {
             "colorbar": {
              "outlinewidth": 0,
              "ticks": ""
             }
            },
            "type": "scatterpolar"
           }
          ],
          "scatterpolargl": [
           {
            "marker": {
             "colorbar": {
              "outlinewidth": 0,
              "ticks": ""
             }
            },
            "type": "scatterpolargl"
           }
          ],
          "scatterternary": [
           {
            "marker": {
             "colorbar": {
              "outlinewidth": 0,
              "ticks": ""
             }
            },
            "type": "scatterternary"
           }
          ],
          "surface": [
           {
            "colorbar": {
             "outlinewidth": 0,
             "ticks": ""
            },
            "colorscale": [
             [
              0,
              "#0d0887"
             ],
             [
              0.1111111111111111,
              "#46039f"
             ],
             [
              0.2222222222222222,
              "#7201a8"
             ],
             [
              0.3333333333333333,
              "#9c179e"
             ],
             [
              0.4444444444444444,
              "#bd3786"
             ],
             [
              0.5555555555555556,
              "#d8576b"
             ],
             [
              0.6666666666666666,
              "#ed7953"
             ],
             [
              0.7777777777777778,
              "#fb9f3a"
             ],
             [
              0.8888888888888888,
              "#fdca26"
             ],
             [
              1,
              "#f0f921"
             ]
            ],
            "type": "surface"
           }
          ],
          "table": [
           {
            "cells": {
             "fill": {
              "color": "#EBF0F8"
             },
             "line": {
              "color": "white"
             }
            },
            "header": {
             "fill": {
              "color": "#C8D4E3"
             },
             "line": {
              "color": "white"
             }
            },
            "type": "table"
           }
          ]
         },
         "layout": {
          "annotationdefaults": {
           "arrowcolor": "#2a3f5f",
           "arrowhead": 0,
           "arrowwidth": 1
          },
          "autotypenumbers": "strict",
          "coloraxis": {
           "colorbar": {
            "outlinewidth": 0,
            "ticks": ""
           }
          },
          "colorscale": {
           "diverging": [
            [
             0,
             "#8e0152"
            ],
            [
             0.1,
             "#c51b7d"
            ],
            [
             0.2,
             "#de77ae"
            ],
            [
             0.3,
             "#f1b6da"
            ],
            [
             0.4,
             "#fde0ef"
            ],
            [
             0.5,
             "#f7f7f7"
            ],
            [
             0.6,
             "#e6f5d0"
            ],
            [
             0.7,
             "#b8e186"
            ],
            [
             0.8,
             "#7fbc41"
            ],
            [
             0.9,
             "#4d9221"
            ],
            [
             1,
             "#276419"
            ]
           ],
           "sequential": [
            [
             0,
             "#0d0887"
            ],
            [
             0.1111111111111111,
             "#46039f"
            ],
            [
             0.2222222222222222,
             "#7201a8"
            ],
            [
             0.3333333333333333,
             "#9c179e"
            ],
            [
             0.4444444444444444,
             "#bd3786"
            ],
            [
             0.5555555555555556,
             "#d8576b"
            ],
            [
             0.6666666666666666,
             "#ed7953"
            ],
            [
             0.7777777777777778,
             "#fb9f3a"
            ],
            [
             0.8888888888888888,
             "#fdca26"
            ],
            [
             1,
             "#f0f921"
            ]
           ],
           "sequentialminus": [
            [
             0,
             "#0d0887"
            ],
            [
             0.1111111111111111,
             "#46039f"
            ],
            [
             0.2222222222222222,
             "#7201a8"
            ],
            [
             0.3333333333333333,
             "#9c179e"
            ],
            [
             0.4444444444444444,
             "#bd3786"
            ],
            [
             0.5555555555555556,
             "#d8576b"
            ],
            [
             0.6666666666666666,
             "#ed7953"
            ],
            [
             0.7777777777777778,
             "#fb9f3a"
            ],
            [
             0.8888888888888888,
             "#fdca26"
            ],
            [
             1,
             "#f0f921"
            ]
           ]
          },
          "colorway": [
           "#636efa",
           "#EF553B",
           "#00cc96",
           "#ab63fa",
           "#FFA15A",
           "#19d3f3",
           "#FF6692",
           "#B6E880",
           "#FF97FF",
           "#FECB52"
          ],
          "font": {
           "color": "#2a3f5f"
          },
          "geo": {
           "bgcolor": "white",
           "lakecolor": "white",
           "landcolor": "#E5ECF6",
           "showlakes": true,
           "showland": true,
           "subunitcolor": "white"
          },
          "hoverlabel": {
           "align": "left"
          },
          "hovermode": "closest",
          "mapbox": {
           "style": "light"
          },
          "paper_bgcolor": "white",
          "plot_bgcolor": "#E5ECF6",
          "polar": {
           "angularaxis": {
            "gridcolor": "white",
            "linecolor": "white",
            "ticks": ""
           },
           "bgcolor": "#E5ECF6",
           "radialaxis": {
            "gridcolor": "white",
            "linecolor": "white",
            "ticks": ""
           }
          },
          "scene": {
           "xaxis": {
            "backgroundcolor": "#E5ECF6",
            "gridcolor": "white",
            "gridwidth": 2,
            "linecolor": "white",
            "showbackground": true,
            "ticks": "",
            "zerolinecolor": "white"
           },
           "yaxis": {
            "backgroundcolor": "#E5ECF6",
            "gridcolor": "white",
            "gridwidth": 2,
            "linecolor": "white",
            "showbackground": true,
            "ticks": "",
            "zerolinecolor": "white"
           },
           "zaxis": {
            "backgroundcolor": "#E5ECF6",
            "gridcolor": "white",
            "gridwidth": 2,
            "linecolor": "white",
            "showbackground": true,
            "ticks": "",
            "zerolinecolor": "white"
           }
          },
          "shapedefaults": {
           "line": {
            "color": "#2a3f5f"
           }
          },
          "ternary": {
           "aaxis": {
            "gridcolor": "white",
            "linecolor": "white",
            "ticks": ""
           },
           "baxis": {
            "gridcolor": "white",
            "linecolor": "white",
            "ticks": ""
           },
           "bgcolor": "#E5ECF6",
           "caxis": {
            "gridcolor": "white",
            "linecolor": "white",
            "ticks": ""
           }
          },
          "title": {
           "x": 0.05
          },
          "xaxis": {
           "automargin": true,
           "gridcolor": "white",
           "linecolor": "white",
           "ticks": "",
           "title": {
            "standoff": 15
           },
           "zerolinecolor": "white",
           "zerolinewidth": 2
          },
          "yaxis": {
           "automargin": true,
           "gridcolor": "white",
           "linecolor": "white",
           "ticks": "",
           "title": {
            "standoff": 15
           },
           "zerolinecolor": "white",
           "zerolinewidth": 2
          }
         }
        },
        "title": {
         "font": {
          "size": 22
         },
         "text": "📆 Monthly Sales by Category",
         "x": 0.5
        },
        "xaxis": {
         "anchor": "y",
         "domain": [
          0,
          1
         ],
         "gridcolor": "lightgray",
         "showgrid": true,
         "tickangle": 45,
         "tickformat": "%b %Y",
         "title": {
          "text": "Month"
         }
        },
        "yaxis": {
         "anchor": "x",
         "domain": [
          0,
          1
         ],
         "gridcolor": "lightgray",
         "showgrid": true,
         "tickprefix": "$",
         "title": {
          "text": "Total Sales ($)"
         }
        }
       }
      }
     },
     "metadata": {},
     "output_type": "display_data"
    }
   ],
   "source": [
    "df['Month'] = pd.to_datetime(df['Date']).dt.to_period('M').astype(str)\n",
    "monthly_category = df.groupby(['Month', 'Category'])['Total_Amount'].sum().reset_index()\n",
    "monthly_category['Month'] = pd.to_datetime(monthly_category['Month'])\n",
    "monthly_category = monthly_category.sort_values('Month')\n",
    "\n",
    "fig7 = px.bar(\n",
    "    monthly_category,\n",
    "    x='Month',\n",
    "    y='Total_Amount',\n",
    "    color='Category',\n",
    "    barmode='group',\n",
    "    title='📆 Monthly Sales by Category',\n",
    "    labels={'Month': 'Month', 'Total_Amount': 'Total Sales ($)'}\n",
    ")\n",
    "\n",
    "fig7.update_layout(\n",
    "    xaxis=dict(\n",
    "        tickformat='%b %Y',\n",
    "        tickangle=45,\n",
    "        showgrid=True,\n",
    "        gridcolor='lightgray'\n",
    "    ),\n",
    "    yaxis=dict(\n",
    "        tickprefix='$',\n",
    "        showgrid=True,\n",
    "        gridcolor='lightgray'\n",
    "    ),\n",
    "    title_font=dict(size=22),\n",
    "    title_x=0.5,\n",
    "    plot_bgcolor='white',\n",
    "    paper_bgcolor='white',\n",
    "    font=dict(family='Arial', size=14),\n",
    "    hoverlabel=dict(bgcolor='white', font_size=13),\n",
    "    margin=dict(l=40, r=40, t=80, b=80)\n",
    ")\n",
    "\n",
    "fig7.show()\n"
   ]
  },
  {
   "cell_type": "code",
   "execution_count": 63,
   "id": "2874a306",
   "metadata": {},
   "outputs": [
    {
     "data": {
      "application/vnd.plotly.v1+json": {
       "config": {
        "plotlyServerURL": "https://plot.ly"
       },
       "data": [
        {
         "hovertemplate": "City=%{x}<br>Total Sales ($)=%{text}<extra></extra>",
         "legendgroup": "Houston",
         "marker": {
          "color": "#636efa",
          "line": {
           "color": "black",
           "width": 1
          },
          "pattern": {
           "shape": ""
          }
         },
         "name": "Houston",
         "orientation": "v",
         "showlegend": true,
         "text": {
          "bdata": "CtejcODrBEE=",
          "dtype": "f8"
         },
         "textposition": "outside",
         "texttemplate": "$%{text:.2f}",
         "type": "bar",
         "width": 0.4,
         "x": [
          "Houston"
         ],
         "xaxis": "x",
         "y": {
          "bdata": "CtejcODrBEE=",
          "dtype": "f8"
         },
         "yaxis": "y"
        },
        {
         "hovertemplate": "City=%{x}<br>Total Sales ($)=%{text}<extra></extra>",
         "legendgroup": "New York",
         "marker": {
          "color": "#EF553B",
          "line": {
           "color": "black",
           "width": 1
          },
          "pattern": {
           "shape": ""
          }
         },
         "name": "New York",
         "orientation": "v",
         "showlegend": true,
         "text": {
          "bdata": "w/UoXG8IBEE=",
          "dtype": "f8"
         },
         "textposition": "outside",
         "texttemplate": "$%{text:.2f}",
         "type": "bar",
         "width": 0.4,
         "x": [
          "New York"
         ],
         "xaxis": "x",
         "y": {
          "bdata": "w/UoXG8IBEE=",
          "dtype": "f8"
         },
         "yaxis": "y"
        },
        {
         "hovertemplate": "City=%{x}<br>Total Sales ($)=%{text}<extra></extra>",
         "legendgroup": "Los Angeles",
         "marker": {
          "color": "#00cc96",
          "line": {
           "color": "black",
           "width": 1
          },
          "pattern": {
           "shape": ""
          }
         },
         "name": "Los Angeles",
         "orientation": "v",
         "showlegend": true,
         "text": {
          "bdata": "exSuR1KTAEE=",
          "dtype": "f8"
         },
         "textposition": "outside",
         "texttemplate": "$%{text:.2f}",
         "type": "bar",
         "width": 0.4,
         "x": [
          "Los Angeles"
         ],
         "xaxis": "x",
         "y": {
          "bdata": "exSuR1KTAEE=",
          "dtype": "f8"
         },
         "yaxis": "y"
        },
        {
         "hovertemplate": "City=%{x}<br>Total Sales ($)=%{text}<extra></extra>",
         "legendgroup": "Chicago",
         "marker": {
          "color": "#ab63fa",
          "line": {
           "color": "black",
           "width": 1
          },
          "pattern": {
           "shape": ""
          }
         },
         "name": "Chicago",
         "orientation": "v",
         "showlegend": true,
         "text": {
          "bdata": "4XoUrjN6/0A=",
          "dtype": "f8"
         },
         "textposition": "outside",
         "texttemplate": "$%{text:.2f}",
         "type": "bar",
         "width": 0.4,
         "x": [
          "Chicago"
         ],
         "xaxis": "x",
         "y": {
          "bdata": "4XoUrjN6/0A=",
          "dtype": "f8"
         },
         "yaxis": "y"
        },
        {
         "hovertemplate": "City=%{x}<br>Total Sales ($)=%{text}<extra></extra>",
         "legendgroup": "Phoenix",
         "marker": {
          "color": "#FFA15A",
          "line": {
           "color": "black",
           "width": 1
          },
          "pattern": {
           "shape": ""
          }
         },
         "name": "Phoenix",
         "orientation": "v",
         "showlegend": true,
         "text": {
          "bdata": "4XoUrkMk/kA=",
          "dtype": "f8"
         },
         "textposition": "outside",
         "texttemplate": "$%{text:.2f}",
         "type": "bar",
         "width": 0.4,
         "x": [
          "Phoenix"
         ],
         "xaxis": "x",
         "y": {
          "bdata": "4XoUrkMk/kA=",
          "dtype": "f8"
         },
         "yaxis": "y"
        }
       ],
       "layout": {
        "barmode": "relative",
        "font": {
         "family": "Arial",
         "size": 14
        },
        "hoverlabel": {
         "bgcolor": "white",
         "font": {
          "size": 13
         }
        },
        "legend": {
         "title": {
          "text": "City"
         },
         "tracegroupgap": 0
        },
        "margin": {
         "b": 80,
         "l": 40,
         "r": 40,
         "t": 80
        },
        "paper_bgcolor": "white",
        "plot_bgcolor": "white",
        "showlegend": false,
        "template": {
         "data": {
          "bar": [
           {
            "error_x": {
             "color": "#2a3f5f"
            },
            "error_y": {
             "color": "#2a3f5f"
            },
            "marker": {
             "line": {
              "color": "#E5ECF6",
              "width": 0.5
             },
             "pattern": {
              "fillmode": "overlay",
              "size": 10,
              "solidity": 0.2
             }
            },
            "type": "bar"
           }
          ],
          "barpolar": [
           {
            "marker": {
             "line": {
              "color": "#E5ECF6",
              "width": 0.5
             },
             "pattern": {
              "fillmode": "overlay",
              "size": 10,
              "solidity": 0.2
             }
            },
            "type": "barpolar"
           }
          ],
          "carpet": [
           {
            "aaxis": {
             "endlinecolor": "#2a3f5f",
             "gridcolor": "white",
             "linecolor": "white",
             "minorgridcolor": "white",
             "startlinecolor": "#2a3f5f"
            },
            "baxis": {
             "endlinecolor": "#2a3f5f",
             "gridcolor": "white",
             "linecolor": "white",
             "minorgridcolor": "white",
             "startlinecolor": "#2a3f5f"
            },
            "type": "carpet"
           }
          ],
          "choropleth": [
           {
            "colorbar": {
             "outlinewidth": 0,
             "ticks": ""
            },
            "type": "choropleth"
           }
          ],
          "contour": [
           {
            "colorbar": {
             "outlinewidth": 0,
             "ticks": ""
            },
            "colorscale": [
             [
              0,
              "#0d0887"
             ],
             [
              0.1111111111111111,
              "#46039f"
             ],
             [
              0.2222222222222222,
              "#7201a8"
             ],
             [
              0.3333333333333333,
              "#9c179e"
             ],
             [
              0.4444444444444444,
              "#bd3786"
             ],
             [
              0.5555555555555556,
              "#d8576b"
             ],
             [
              0.6666666666666666,
              "#ed7953"
             ],
             [
              0.7777777777777778,
              "#fb9f3a"
             ],
             [
              0.8888888888888888,
              "#fdca26"
             ],
             [
              1,
              "#f0f921"
             ]
            ],
            "type": "contour"
           }
          ],
          "contourcarpet": [
           {
            "colorbar": {
             "outlinewidth": 0,
             "ticks": ""
            },
            "type": "contourcarpet"
           }
          ],
          "heatmap": [
           {
            "colorbar": {
             "outlinewidth": 0,
             "ticks": ""
            },
            "colorscale": [
             [
              0,
              "#0d0887"
             ],
             [
              0.1111111111111111,
              "#46039f"
             ],
             [
              0.2222222222222222,
              "#7201a8"
             ],
             [
              0.3333333333333333,
              "#9c179e"
             ],
             [
              0.4444444444444444,
              "#bd3786"
             ],
             [
              0.5555555555555556,
              "#d8576b"
             ],
             [
              0.6666666666666666,
              "#ed7953"
             ],
             [
              0.7777777777777778,
              "#fb9f3a"
             ],
             [
              0.8888888888888888,
              "#fdca26"
             ],
             [
              1,
              "#f0f921"
             ]
            ],
            "type": "heatmap"
           }
          ],
          "histogram": [
           {
            "marker": {
             "pattern": {
              "fillmode": "overlay",
              "size": 10,
              "solidity": 0.2
             }
            },
            "type": "histogram"
           }
          ],
          "histogram2d": [
           {
            "colorbar": {
             "outlinewidth": 0,
             "ticks": ""
            },
            "colorscale": [
             [
              0,
              "#0d0887"
             ],
             [
              0.1111111111111111,
              "#46039f"
             ],
             [
              0.2222222222222222,
              "#7201a8"
             ],
             [
              0.3333333333333333,
              "#9c179e"
             ],
             [
              0.4444444444444444,
              "#bd3786"
             ],
             [
              0.5555555555555556,
              "#d8576b"
             ],
             [
              0.6666666666666666,
              "#ed7953"
             ],
             [
              0.7777777777777778,
              "#fb9f3a"
             ],
             [
              0.8888888888888888,
              "#fdca26"
             ],
             [
              1,
              "#f0f921"
             ]
            ],
            "type": "histogram2d"
           }
          ],
          "histogram2dcontour": [
           {
            "colorbar": {
             "outlinewidth": 0,
             "ticks": ""
            },
            "colorscale": [
             [
              0,
              "#0d0887"
             ],
             [
              0.1111111111111111,
              "#46039f"
             ],
             [
              0.2222222222222222,
              "#7201a8"
             ],
             [
              0.3333333333333333,
              "#9c179e"
             ],
             [
              0.4444444444444444,
              "#bd3786"
             ],
             [
              0.5555555555555556,
              "#d8576b"
             ],
             [
              0.6666666666666666,
              "#ed7953"
             ],
             [
              0.7777777777777778,
              "#fb9f3a"
             ],
             [
              0.8888888888888888,
              "#fdca26"
             ],
             [
              1,
              "#f0f921"
             ]
            ],
            "type": "histogram2dcontour"
           }
          ],
          "mesh3d": [
           {
            "colorbar": {
             "outlinewidth": 0,
             "ticks": ""
            },
            "type": "mesh3d"
           }
          ],
          "parcoords": [
           {
            "line": {
             "colorbar": {
              "outlinewidth": 0,
              "ticks": ""
             }
            },
            "type": "parcoords"
           }
          ],
          "pie": [
           {
            "automargin": true,
            "type": "pie"
           }
          ],
          "scatter": [
           {
            "fillpattern": {
             "fillmode": "overlay",
             "size": 10,
             "solidity": 0.2
            },
            "type": "scatter"
           }
          ],
          "scatter3d": [
           {
            "line": {
             "colorbar": {
              "outlinewidth": 0,
              "ticks": ""
             }
            },
            "marker": {
             "colorbar": {
              "outlinewidth": 0,
              "ticks": ""
             }
            },
            "type": "scatter3d"
           }
          ],
          "scattercarpet": [
           {
            "marker": {
             "colorbar": {
              "outlinewidth": 0,
              "ticks": ""
             }
            },
            "type": "scattercarpet"
           }
          ],
          "scattergeo": [
           {
            "marker": {
             "colorbar": {
              "outlinewidth": 0,
              "ticks": ""
             }
            },
            "type": "scattergeo"
           }
          ],
          "scattergl": [
           {
            "marker": {
             "colorbar": {
              "outlinewidth": 0,
              "ticks": ""
             }
            },
            "type": "scattergl"
           }
          ],
          "scattermap": [
           {
            "marker": {
             "colorbar": {
              "outlinewidth": 0,
              "ticks": ""
             }
            },
            "type": "scattermap"
           }
          ],
          "scattermapbox": [
           {
            "marker": {
             "colorbar": {
              "outlinewidth": 0,
              "ticks": ""
             }
            },
            "type": "scattermapbox"
           }
          ],
          "scatterpolar": [
           {
            "marker": {
             "colorbar": {
              "outlinewidth": 0,
              "ticks": ""
             }
            },
            "type": "scatterpolar"
           }
          ],
          "scatterpolargl": [
           {
            "marker": {
             "colorbar": {
              "outlinewidth": 0,
              "ticks": ""
             }
            },
            "type": "scatterpolargl"
           }
          ],
          "scatterternary": [
           {
            "marker": {
             "colorbar": {
              "outlinewidth": 0,
              "ticks": ""
             }
            },
            "type": "scatterternary"
           }
          ],
          "surface": [
           {
            "colorbar": {
             "outlinewidth": 0,
             "ticks": ""
            },
            "colorscale": [
             [
              0,
              "#0d0887"
             ],
             [
              0.1111111111111111,
              "#46039f"
             ],
             [
              0.2222222222222222,
              "#7201a8"
             ],
             [
              0.3333333333333333,
              "#9c179e"
             ],
             [
              0.4444444444444444,
              "#bd3786"
             ],
             [
              0.5555555555555556,
              "#d8576b"
             ],
             [
              0.6666666666666666,
              "#ed7953"
             ],
             [
              0.7777777777777778,
              "#fb9f3a"
             ],
             [
              0.8888888888888888,
              "#fdca26"
             ],
             [
              1,
              "#f0f921"
             ]
            ],
            "type": "surface"
           }
          ],
          "table": [
           {
            "cells": {
             "fill": {
              "color": "#EBF0F8"
             },
             "line": {
              "color": "white"
             }
            },
            "header": {
             "fill": {
              "color": "#C8D4E3"
             },
             "line": {
              "color": "white"
             }
            },
            "type": "table"
           }
          ]
         },
         "layout": {
          "annotationdefaults": {
           "arrowcolor": "#2a3f5f",
           "arrowhead": 0,
           "arrowwidth": 1
          },
          "autotypenumbers": "strict",
          "coloraxis": {
           "colorbar": {
            "outlinewidth": 0,
            "ticks": ""
           }
          },
          "colorscale": {
           "diverging": [
            [
             0,
             "#8e0152"
            ],
            [
             0.1,
             "#c51b7d"
            ],
            [
             0.2,
             "#de77ae"
            ],
            [
             0.3,
             "#f1b6da"
            ],
            [
             0.4,
             "#fde0ef"
            ],
            [
             0.5,
             "#f7f7f7"
            ],
            [
             0.6,
             "#e6f5d0"
            ],
            [
             0.7,
             "#b8e186"
            ],
            [
             0.8,
             "#7fbc41"
            ],
            [
             0.9,
             "#4d9221"
            ],
            [
             1,
             "#276419"
            ]
           ],
           "sequential": [
            [
             0,
             "#0d0887"
            ],
            [
             0.1111111111111111,
             "#46039f"
            ],
            [
             0.2222222222222222,
             "#7201a8"
            ],
            [
             0.3333333333333333,
             "#9c179e"
            ],
            [
             0.4444444444444444,
             "#bd3786"
            ],
            [
             0.5555555555555556,
             "#d8576b"
            ],
            [
             0.6666666666666666,
             "#ed7953"
            ],
            [
             0.7777777777777778,
             "#fb9f3a"
            ],
            [
             0.8888888888888888,
             "#fdca26"
            ],
            [
             1,
             "#f0f921"
            ]
           ],
           "sequentialminus": [
            [
             0,
             "#0d0887"
            ],
            [
             0.1111111111111111,
             "#46039f"
            ],
            [
             0.2222222222222222,
             "#7201a8"
            ],
            [
             0.3333333333333333,
             "#9c179e"
            ],
            [
             0.4444444444444444,
             "#bd3786"
            ],
            [
             0.5555555555555556,
             "#d8576b"
            ],
            [
             0.6666666666666666,
             "#ed7953"
            ],
            [
             0.7777777777777778,
             "#fb9f3a"
            ],
            [
             0.8888888888888888,
             "#fdca26"
            ],
            [
             1,
             "#f0f921"
            ]
           ]
          },
          "colorway": [
           "#636efa",
           "#EF553B",
           "#00cc96",
           "#ab63fa",
           "#FFA15A",
           "#19d3f3",
           "#FF6692",
           "#B6E880",
           "#FF97FF",
           "#FECB52"
          ],
          "font": {
           "color": "#2a3f5f"
          },
          "geo": {
           "bgcolor": "white",
           "lakecolor": "white",
           "landcolor": "#E5ECF6",
           "showlakes": true,
           "showland": true,
           "subunitcolor": "white"
          },
          "hoverlabel": {
           "align": "left"
          },
          "hovermode": "closest",
          "mapbox": {
           "style": "light"
          },
          "paper_bgcolor": "white",
          "plot_bgcolor": "#E5ECF6",
          "polar": {
           "angularaxis": {
            "gridcolor": "white",
            "linecolor": "white",
            "ticks": ""
           },
           "bgcolor": "#E5ECF6",
           "radialaxis": {
            "gridcolor": "white",
            "linecolor": "white",
            "ticks": ""
           }
          },
          "scene": {
           "xaxis": {
            "backgroundcolor": "#E5ECF6",
            "gridcolor": "white",
            "gridwidth": 2,
            "linecolor": "white",
            "showbackground": true,
            "ticks": "",
            "zerolinecolor": "white"
           },
           "yaxis": {
            "backgroundcolor": "#E5ECF6",
            "gridcolor": "white",
            "gridwidth": 2,
            "linecolor": "white",
            "showbackground": true,
            "ticks": "",
            "zerolinecolor": "white"
           },
           "zaxis": {
            "backgroundcolor": "#E5ECF6",
            "gridcolor": "white",
            "gridwidth": 2,
            "linecolor": "white",
            "showbackground": true,
            "ticks": "",
            "zerolinecolor": "white"
           }
          },
          "shapedefaults": {
           "line": {
            "color": "#2a3f5f"
           }
          },
          "ternary": {
           "aaxis": {
            "gridcolor": "white",
            "linecolor": "white",
            "ticks": ""
           },
           "baxis": {
            "gridcolor": "white",
            "linecolor": "white",
            "ticks": ""
           },
           "bgcolor": "#E5ECF6",
           "caxis": {
            "gridcolor": "white",
            "linecolor": "white",
            "ticks": ""
           }
          },
          "title": {
           "x": 0.05
          },
          "xaxis": {
           "automargin": true,
           "gridcolor": "white",
           "linecolor": "white",
           "ticks": "",
           "title": {
            "standoff": 15
           },
           "zerolinecolor": "white",
           "zerolinewidth": 2
          },
          "yaxis": {
           "automargin": true,
           "gridcolor": "white",
           "linecolor": "white",
           "ticks": "",
           "title": {
            "standoff": 15
           },
           "zerolinecolor": "white",
           "zerolinewidth": 2
          }
         }
        },
        "title": {
         "font": {
          "size": 22
         },
         "text": "🌆 Top Cities by Total Sales",
         "x": 0.5
        },
        "uniformtext": {
         "minsize": 12,
         "mode": "hide"
        },
        "xaxis": {
         "anchor": "y",
         "categoryarray": [
          "Houston",
          "New York",
          "Los Angeles",
          "Chicago",
          "Phoenix"
         ],
         "categoryorder": "array",
         "domain": [
          0,
          1
         ],
         "showgrid": false,
         "title": {
          "text": "City"
         }
        },
        "yaxis": {
         "anchor": "x",
         "domain": [
          0,
          1
         ],
         "gridcolor": "lightgray",
         "showgrid": true,
         "tickprefix": "$",
         "title": {
          "text": "Total Sales ($)"
         }
        }
       }
      }
     },
     "metadata": {},
     "output_type": "display_data"
    }
   ],
   "source": [
    "city_sales = df.groupby('City', as_index=False)['Total_Amount'].sum()\n",
    "city_sales = city_sales.sort_values(by='Total_Amount', ascending=False)\n",
    "\n",
    "fig8 = px.bar(\n",
    "    city_sales,\n",
    "    x='City',\n",
    "    y='Total_Amount',\n",
    "    color='City',\n",
    "    title='🌆 Top Cities by Total Sales',\n",
    "    text=city_sales['Total_Amount'],\n",
    "    labels={'City': 'City', 'Total_Amount': 'Total Sales ($)'}\n",
    ")\n",
    "\n",
    "fig8.update_traces(\n",
    "    texttemplate='$%{text:.2f}',\n",
    "    textposition='outside',\n",
    "    marker=dict(line=dict(width=1, color='black'))\n",
    ")\n",
    "fig8.update_traces(width=0.4)\n",
    "fig8.update_layout(\n",
    "    xaxis_title='City',\n",
    "    yaxis_title='Total Sales ($)',\n",
    "    title_font=dict(size=22),\n",
    "    title_x=0.5,\n",
    "    uniformtext_minsize=12,\n",
    "    uniformtext_mode='hide',\n",
    "    yaxis=dict(tickprefix='$', showgrid=True, gridcolor='lightgray'),\n",
    "    xaxis=dict(showgrid=False),\n",
    "    plot_bgcolor='white',\n",
    "    paper_bgcolor='white',\n",
    "    font=dict(family='Arial', size=14),\n",
    "    hoverlabel=dict(bgcolor='white', font_size=13),\n",
    "    margin=dict(l=40, r=40, t=80, b=80),\n",
    "    showlegend=False\n",
    ")\n",
    "\n",
    "fig8.show()\n"
   ]
  },
  {
   "cell_type": "code",
   "execution_count": 64,
   "id": "58d535a8",
   "metadata": {},
   "outputs": [
    {
     "data": {
      "application/vnd.plotly.v1+json": {
       "config": {
        "plotlyServerURL": "https://plot.ly"
       },
       "data": [
        {
         "domain": {
          "x": [
           0,
           1
          ],
          "y": [
           0,
           1
          ]
         },
         "hole": 0.4,
         "hovertemplate": "Payment_Method=%{label}<br>Count=%{value}<extra></extra>",
         "labels": [
          "Cash",
          "Credit Card",
          "Online",
          "Debit Card"
         ],
         "legendgroup": "",
         "marker": {
          "line": {
           "color": "white",
           "width": 2
          }
         },
         "name": "",
         "pull": [
          0.05,
          0.05,
          0.05,
          0.05
         ],
         "showlegend": true,
         "textinfo": "percent+label",
         "type": "pie",
         "values": {
          "bdata": "0QByAGMATgA=",
          "dtype": "i2"
         }
        }
       ],
       "layout": {
        "font": {
         "family": "Arial",
         "size": 14
        },
        "hoverlabel": {
         "bgcolor": "white",
         "font": {
          "size": 13
         }
        },
        "legend": {
         "title": {
          "text": "Payment Method"
         },
         "tracegroupgap": 0
        },
        "margin": {
         "b": 80,
         "l": 40,
         "r": 40,
         "t": 80
        },
        "paper_bgcolor": "white",
        "piecolorway": [
         "rgb(141,211,199)",
         "rgb(255,255,179)",
         "rgb(190,186,218)",
         "rgb(251,128,114)",
         "rgb(128,177,211)",
         "rgb(253,180,98)",
         "rgb(179,222,105)",
         "rgb(252,205,229)",
         "rgb(217,217,217)",
         "rgb(188,128,189)",
         "rgb(204,235,197)",
         "rgb(255,237,111)"
        ],
        "plot_bgcolor": "white",
        "showlegend": true,
        "template": {
         "data": {
          "bar": [
           {
            "error_x": {
             "color": "#2a3f5f"
            },
            "error_y": {
             "color": "#2a3f5f"
            },
            "marker": {
             "line": {
              "color": "#E5ECF6",
              "width": 0.5
             },
             "pattern": {
              "fillmode": "overlay",
              "size": 10,
              "solidity": 0.2
             }
            },
            "type": "bar"
           }
          ],
          "barpolar": [
           {
            "marker": {
             "line": {
              "color": "#E5ECF6",
              "width": 0.5
             },
             "pattern": {
              "fillmode": "overlay",
              "size": 10,
              "solidity": 0.2
             }
            },
            "type": "barpolar"
           }
          ],
          "carpet": [
           {
            "aaxis": {
             "endlinecolor": "#2a3f5f",
             "gridcolor": "white",
             "linecolor": "white",
             "minorgridcolor": "white",
             "startlinecolor": "#2a3f5f"
            },
            "baxis": {
             "endlinecolor": "#2a3f5f",
             "gridcolor": "white",
             "linecolor": "white",
             "minorgridcolor": "white",
             "startlinecolor": "#2a3f5f"
            },
            "type": "carpet"
           }
          ],
          "choropleth": [
           {
            "colorbar": {
             "outlinewidth": 0,
             "ticks": ""
            },
            "type": "choropleth"
           }
          ],
          "contour": [
           {
            "colorbar": {
             "outlinewidth": 0,
             "ticks": ""
            },
            "colorscale": [
             [
              0,
              "#0d0887"
             ],
             [
              0.1111111111111111,
              "#46039f"
             ],
             [
              0.2222222222222222,
              "#7201a8"
             ],
             [
              0.3333333333333333,
              "#9c179e"
             ],
             [
              0.4444444444444444,
              "#bd3786"
             ],
             [
              0.5555555555555556,
              "#d8576b"
             ],
             [
              0.6666666666666666,
              "#ed7953"
             ],
             [
              0.7777777777777778,
              "#fb9f3a"
             ],
             [
              0.8888888888888888,
              "#fdca26"
             ],
             [
              1,
              "#f0f921"
             ]
            ],
            "type": "contour"
           }
          ],
          "contourcarpet": [
           {
            "colorbar": {
             "outlinewidth": 0,
             "ticks": ""
            },
            "type": "contourcarpet"
           }
          ],
          "heatmap": [
           {
            "colorbar": {
             "outlinewidth": 0,
             "ticks": ""
            },
            "colorscale": [
             [
              0,
              "#0d0887"
             ],
             [
              0.1111111111111111,
              "#46039f"
             ],
             [
              0.2222222222222222,
              "#7201a8"
             ],
             [
              0.3333333333333333,
              "#9c179e"
             ],
             [
              0.4444444444444444,
              "#bd3786"
             ],
             [
              0.5555555555555556,
              "#d8576b"
             ],
             [
              0.6666666666666666,
              "#ed7953"
             ],
             [
              0.7777777777777778,
              "#fb9f3a"
             ],
             [
              0.8888888888888888,
              "#fdca26"
             ],
             [
              1,
              "#f0f921"
             ]
            ],
            "type": "heatmap"
           }
          ],
          "histogram": [
           {
            "marker": {
             "pattern": {
              "fillmode": "overlay",
              "size": 10,
              "solidity": 0.2
             }
            },
            "type": "histogram"
           }
          ],
          "histogram2d": [
           {
            "colorbar": {
             "outlinewidth": 0,
             "ticks": ""
            },
            "colorscale": [
             [
              0,
              "#0d0887"
             ],
             [
              0.1111111111111111,
              "#46039f"
             ],
             [
              0.2222222222222222,
              "#7201a8"
             ],
             [
              0.3333333333333333,
              "#9c179e"
             ],
             [
              0.4444444444444444,
              "#bd3786"
             ],
             [
              0.5555555555555556,
              "#d8576b"
             ],
             [
              0.6666666666666666,
              "#ed7953"
             ],
             [
              0.7777777777777778,
              "#fb9f3a"
             ],
             [
              0.8888888888888888,
              "#fdca26"
             ],
             [
              1,
              "#f0f921"
             ]
            ],
            "type": "histogram2d"
           }
          ],
          "histogram2dcontour": [
           {
            "colorbar": {
             "outlinewidth": 0,
             "ticks": ""
            },
            "colorscale": [
             [
              0,
              "#0d0887"
             ],
             [
              0.1111111111111111,
              "#46039f"
             ],
             [
              0.2222222222222222,
              "#7201a8"
             ],
             [
              0.3333333333333333,
              "#9c179e"
             ],
             [
              0.4444444444444444,
              "#bd3786"
             ],
             [
              0.5555555555555556,
              "#d8576b"
             ],
             [
              0.6666666666666666,
              "#ed7953"
             ],
             [
              0.7777777777777778,
              "#fb9f3a"
             ],
             [
              0.8888888888888888,
              "#fdca26"
             ],
             [
              1,
              "#f0f921"
             ]
            ],
            "type": "histogram2dcontour"
           }
          ],
          "mesh3d": [
           {
            "colorbar": {
             "outlinewidth": 0,
             "ticks": ""
            },
            "type": "mesh3d"
           }
          ],
          "parcoords": [
           {
            "line": {
             "colorbar": {
              "outlinewidth": 0,
              "ticks": ""
             }
            },
            "type": "parcoords"
           }
          ],
          "pie": [
           {
            "automargin": true,
            "type": "pie"
           }
          ],
          "scatter": [
           {
            "fillpattern": {
             "fillmode": "overlay",
             "size": 10,
             "solidity": 0.2
            },
            "type": "scatter"
           }
          ],
          "scatter3d": [
           {
            "line": {
             "colorbar": {
              "outlinewidth": 0,
              "ticks": ""
             }
            },
            "marker": {
             "colorbar": {
              "outlinewidth": 0,
              "ticks": ""
             }
            },
            "type": "scatter3d"
           }
          ],
          "scattercarpet": [
           {
            "marker": {
             "colorbar": {
              "outlinewidth": 0,
              "ticks": ""
             }
            },
            "type": "scattercarpet"
           }
          ],
          "scattergeo": [
           {
            "marker": {
             "colorbar": {
              "outlinewidth": 0,
              "ticks": ""
             }
            },
            "type": "scattergeo"
           }
          ],
          "scattergl": [
           {
            "marker": {
             "colorbar": {
              "outlinewidth": 0,
              "ticks": ""
             }
            },
            "type": "scattergl"
           }
          ],
          "scattermap": [
           {
            "marker": {
             "colorbar": {
              "outlinewidth": 0,
              "ticks": ""
             }
            },
            "type": "scattermap"
           }
          ],
          "scattermapbox": [
           {
            "marker": {
             "colorbar": {
              "outlinewidth": 0,
              "ticks": ""
             }
            },
            "type": "scattermapbox"
           }
          ],
          "scatterpolar": [
           {
            "marker": {
             "colorbar": {
              "outlinewidth": 0,
              "ticks": ""
             }
            },
            "type": "scatterpolar"
           }
          ],
          "scatterpolargl": [
           {
            "marker": {
             "colorbar": {
              "outlinewidth": 0,
              "ticks": ""
             }
            },
            "type": "scatterpolargl"
           }
          ],
          "scatterternary": [
           {
            "marker": {
             "colorbar": {
              "outlinewidth": 0,
              "ticks": ""
             }
            },
            "type": "scatterternary"
           }
          ],
          "surface": [
           {
            "colorbar": {
             "outlinewidth": 0,
             "ticks": ""
            },
            "colorscale": [
             [
              0,
              "#0d0887"
             ],
             [
              0.1111111111111111,
              "#46039f"
             ],
             [
              0.2222222222222222,
              "#7201a8"
             ],
             [
              0.3333333333333333,
              "#9c179e"
             ],
             [
              0.4444444444444444,
              "#bd3786"
             ],
             [
              0.5555555555555556,
              "#d8576b"
             ],
             [
              0.6666666666666666,
              "#ed7953"
             ],
             [
              0.7777777777777778,
              "#fb9f3a"
             ],
             [
              0.8888888888888888,
              "#fdca26"
             ],
             [
              1,
              "#f0f921"
             ]
            ],
            "type": "surface"
           }
          ],
          "table": [
           {
            "cells": {
             "fill": {
              "color": "#EBF0F8"
             },
             "line": {
              "color": "white"
             }
            },
            "header": {
             "fill": {
              "color": "#C8D4E3"
             },
             "line": {
              "color": "white"
             }
            },
            "type": "table"
           }
          ]
         },
         "layout": {
          "annotationdefaults": {
           "arrowcolor": "#2a3f5f",
           "arrowhead": 0,
           "arrowwidth": 1
          },
          "autotypenumbers": "strict",
          "coloraxis": {
           "colorbar": {
            "outlinewidth": 0,
            "ticks": ""
           }
          },
          "colorscale": {
           "diverging": [
            [
             0,
             "#8e0152"
            ],
            [
             0.1,
             "#c51b7d"
            ],
            [
             0.2,
             "#de77ae"
            ],
            [
             0.3,
             "#f1b6da"
            ],
            [
             0.4,
             "#fde0ef"
            ],
            [
             0.5,
             "#f7f7f7"
            ],
            [
             0.6,
             "#e6f5d0"
            ],
            [
             0.7,
             "#b8e186"
            ],
            [
             0.8,
             "#7fbc41"
            ],
            [
             0.9,
             "#4d9221"
            ],
            [
             1,
             "#276419"
            ]
           ],
           "sequential": [
            [
             0,
             "#0d0887"
            ],
            [
             0.1111111111111111,
             "#46039f"
            ],
            [
             0.2222222222222222,
             "#7201a8"
            ],
            [
             0.3333333333333333,
             "#9c179e"
            ],
            [
             0.4444444444444444,
             "#bd3786"
            ],
            [
             0.5555555555555556,
             "#d8576b"
            ],
            [
             0.6666666666666666,
             "#ed7953"
            ],
            [
             0.7777777777777778,
             "#fb9f3a"
            ],
            [
             0.8888888888888888,
             "#fdca26"
            ],
            [
             1,
             "#f0f921"
            ]
           ],
           "sequentialminus": [
            [
             0,
             "#0d0887"
            ],
            [
             0.1111111111111111,
             "#46039f"
            ],
            [
             0.2222222222222222,
             "#7201a8"
            ],
            [
             0.3333333333333333,
             "#9c179e"
            ],
            [
             0.4444444444444444,
             "#bd3786"
            ],
            [
             0.5555555555555556,
             "#d8576b"
            ],
            [
             0.6666666666666666,
             "#ed7953"
            ],
            [
             0.7777777777777778,
             "#fb9f3a"
            ],
            [
             0.8888888888888888,
             "#fdca26"
            ],
            [
             1,
             "#f0f921"
            ]
           ]
          },
          "colorway": [
           "#636efa",
           "#EF553B",
           "#00cc96",
           "#ab63fa",
           "#FFA15A",
           "#19d3f3",
           "#FF6692",
           "#B6E880",
           "#FF97FF",
           "#FECB52"
          ],
          "font": {
           "color": "#2a3f5f"
          },
          "geo": {
           "bgcolor": "white",
           "lakecolor": "white",
           "landcolor": "#E5ECF6",
           "showlakes": true,
           "showland": true,
           "subunitcolor": "white"
          },
          "hoverlabel": {
           "align": "left"
          },
          "hovermode": "closest",
          "mapbox": {
           "style": "light"
          },
          "paper_bgcolor": "white",
          "plot_bgcolor": "#E5ECF6",
          "polar": {
           "angularaxis": {
            "gridcolor": "white",
            "linecolor": "white",
            "ticks": ""
           },
           "bgcolor": "#E5ECF6",
           "radialaxis": {
            "gridcolor": "white",
            "linecolor": "white",
            "ticks": ""
           }
          },
          "scene": {
           "xaxis": {
            "backgroundcolor": "#E5ECF6",
            "gridcolor": "white",
            "gridwidth": 2,
            "linecolor": "white",
            "showbackground": true,
            "ticks": "",
            "zerolinecolor": "white"
           },
           "yaxis": {
            "backgroundcolor": "#E5ECF6",
            "gridcolor": "white",
            "gridwidth": 2,
            "linecolor": "white",
            "showbackground": true,
            "ticks": "",
            "zerolinecolor": "white"
           },
           "zaxis": {
            "backgroundcolor": "#E5ECF6",
            "gridcolor": "white",
            "gridwidth": 2,
            "linecolor": "white",
            "showbackground": true,
            "ticks": "",
            "zerolinecolor": "white"
           }
          },
          "shapedefaults": {
           "line": {
            "color": "#2a3f5f"
           }
          },
          "ternary": {
           "aaxis": {
            "gridcolor": "white",
            "linecolor": "white",
            "ticks": ""
           },
           "baxis": {
            "gridcolor": "white",
            "linecolor": "white",
            "ticks": ""
           },
           "bgcolor": "#E5ECF6",
           "caxis": {
            "gridcolor": "white",
            "linecolor": "white",
            "ticks": ""
           }
          },
          "title": {
           "x": 0.05
          },
          "xaxis": {
           "automargin": true,
           "gridcolor": "white",
           "linecolor": "white",
           "ticks": "",
           "title": {
            "standoff": 15
           },
           "zerolinecolor": "white",
           "zerolinewidth": 2
          },
          "yaxis": {
           "automargin": true,
           "gridcolor": "white",
           "linecolor": "white",
           "ticks": "",
           "title": {
            "standoff": 15
           },
           "zerolinecolor": "white",
           "zerolinewidth": 2
          }
         }
        },
        "title": {
         "font": {
          "size": 22
         },
         "text": "💳 Payment Method Usage Share",
         "x": 0.5
        }
       }
      }
     },
     "metadata": {},
     "output_type": "display_data"
    }
   ],
   "source": [
    "payment_counts = df['Payment_Method'].value_counts().reset_index()\n",
    "payment_counts.columns = ['Payment_Method', 'Count']\n",
    "fig9 = px.pie(\n",
    "    payment_counts,\n",
    "    names='Payment_Method',\n",
    "    values='Count',\n",
    "    title='💳 Payment Method Usage Share',\n",
    "    hole=0.4,\n",
    "    color_discrete_sequence=px.colors.qualitative.Set3\n",
    ")\n",
    "fig9.update_traces(\n",
    "    textinfo='percent+label',\n",
    "    pull=[0.05]*len(payment_counts),\n",
    "    marker=dict(line=dict(color='white', width=2))\n",
    ")\n",
    "\n",
    "fig9.update_layout(\n",
    "    title_font=dict(size=22),\n",
    "    title_x=0.5,\n",
    "    showlegend=True,\n",
    "    legend_title_text='Payment Method',\n",
    "    font=dict(family='Arial', size=14),\n",
    "    hoverlabel=dict(bgcolor='white', font_size=13),\n",
    "    margin=dict(l=40, r=40, t=80, b=80),\n",
    "    plot_bgcolor='white',\n",
    "    paper_bgcolor='white'\n",
    ")\n",
    "\n",
    "fig9.show()\n"
   ]
  },
  {
   "cell_type": "code",
   "execution_count": 65,
   "id": "41d87f6b",
   "metadata": {},
   "outputs": [
    {
     "data": {
      "application/vnd.plotly.v1+json": {
       "config": {
        "plotlyServerURL": "https://plot.ly"
       },
       "data": [
        {
         "hovertemplate": "Customer ID=%{marker.color}<br>Total Sales ($)=%{text}<extra></extra>",
         "legendgroup": "",
         "marker": {
          "color": {
           "bdata": "/wMmBAUE9wM0BBMEOAQBBP4DLwQ=",
           "dtype": "i2"
          },
          "coloraxis": "coloraxis",
          "line": {
           "color": "black",
           "width": 1
          },
          "pattern": {
           "shape": ""
          }
         },
         "name": "",
         "orientation": "v",
         "showlegend": false,
         "text": {
          "bdata": "4noUrifV1EDrUbgexUzSQClcj8LlK9JAkML1KLQL0UBxPQrXA1DOQLgehetR48xA7FG4HoUkykBmZmZmlujJQKRwPQoXmshAR+F6FG5Fx0A=",
          "dtype": "f8"
         },
         "textposition": "outside",
         "texttemplate": "$%{text:.2f}",
         "type": "bar",
         "x": {
          "bdata": "/wMmBAUE9wM0BBMEOAQBBP4DLwQ=",
          "dtype": "i2"
         },
         "xaxis": "x",
         "y": {
          "bdata": "4noUrifV1EDrUbgexUzSQClcj8LlK9JAkML1KLQL0UBxPQrXA1DOQLgehetR48xA7FG4HoUkykBmZmZmlujJQKRwPQoXmshAR+F6FG5Fx0A=",
          "dtype": "f8"
         },
         "yaxis": "y"
        }
       ],
       "layout": {
        "barmode": "relative",
        "coloraxis": {
         "colorbar": {
          "title": {
           "text": "Customer ID"
          }
         },
         "colorscale": [
          [
           0,
           "#0d0887"
          ],
          [
           0.1111111111111111,
           "#46039f"
          ],
          [
           0.2222222222222222,
           "#7201a8"
          ],
          [
           0.3333333333333333,
           "#9c179e"
          ],
          [
           0.4444444444444444,
           "#bd3786"
          ],
          [
           0.5555555555555556,
           "#d8576b"
          ],
          [
           0.6666666666666666,
           "#ed7953"
          ],
          [
           0.7777777777777778,
           "#fb9f3a"
          ],
          [
           0.8888888888888888,
           "#fdca26"
          ],
          [
           1,
           "#f0f921"
          ]
         ]
        },
        "font": {
         "family": "Arial",
         "size": 14
        },
        "hoverlabel": {
         "bgcolor": "white",
         "font": {
          "size": 13
         }
        },
        "legend": {
         "tracegroupgap": 0
        },
        "margin": {
         "b": 80,
         "l": 40,
         "r": 40,
         "t": 80
        },
        "paper_bgcolor": "white",
        "plot_bgcolor": "white",
        "showlegend": false,
        "template": {
         "data": {
          "bar": [
           {
            "error_x": {
             "color": "#2a3f5f"
            },
            "error_y": {
             "color": "#2a3f5f"
            },
            "marker": {
             "line": {
              "color": "#E5ECF6",
              "width": 0.5
             },
             "pattern": {
              "fillmode": "overlay",
              "size": 10,
              "solidity": 0.2
             }
            },
            "type": "bar"
           }
          ],
          "barpolar": [
           {
            "marker": {
             "line": {
              "color": "#E5ECF6",
              "width": 0.5
             },
             "pattern": {
              "fillmode": "overlay",
              "size": 10,
              "solidity": 0.2
             }
            },
            "type": "barpolar"
           }
          ],
          "carpet": [
           {
            "aaxis": {
             "endlinecolor": "#2a3f5f",
             "gridcolor": "white",
             "linecolor": "white",
             "minorgridcolor": "white",
             "startlinecolor": "#2a3f5f"
            },
            "baxis": {
             "endlinecolor": "#2a3f5f",
             "gridcolor": "white",
             "linecolor": "white",
             "minorgridcolor": "white",
             "startlinecolor": "#2a3f5f"
            },
            "type": "carpet"
           }
          ],
          "choropleth": [
           {
            "colorbar": {
             "outlinewidth": 0,
             "ticks": ""
            },
            "type": "choropleth"
           }
          ],
          "contour": [
           {
            "colorbar": {
             "outlinewidth": 0,
             "ticks": ""
            },
            "colorscale": [
             [
              0,
              "#0d0887"
             ],
             [
              0.1111111111111111,
              "#46039f"
             ],
             [
              0.2222222222222222,
              "#7201a8"
             ],
             [
              0.3333333333333333,
              "#9c179e"
             ],
             [
              0.4444444444444444,
              "#bd3786"
             ],
             [
              0.5555555555555556,
              "#d8576b"
             ],
             [
              0.6666666666666666,
              "#ed7953"
             ],
             [
              0.7777777777777778,
              "#fb9f3a"
             ],
             [
              0.8888888888888888,
              "#fdca26"
             ],
             [
              1,
              "#f0f921"
             ]
            ],
            "type": "contour"
           }
          ],
          "contourcarpet": [
           {
            "colorbar": {
             "outlinewidth": 0,
             "ticks": ""
            },
            "type": "contourcarpet"
           }
          ],
          "heatmap": [
           {
            "colorbar": {
             "outlinewidth": 0,
             "ticks": ""
            },
            "colorscale": [
             [
              0,
              "#0d0887"
             ],
             [
              0.1111111111111111,
              "#46039f"
             ],
             [
              0.2222222222222222,
              "#7201a8"
             ],
             [
              0.3333333333333333,
              "#9c179e"
             ],
             [
              0.4444444444444444,
              "#bd3786"
             ],
             [
              0.5555555555555556,
              "#d8576b"
             ],
             [
              0.6666666666666666,
              "#ed7953"
             ],
             [
              0.7777777777777778,
              "#fb9f3a"
             ],
             [
              0.8888888888888888,
              "#fdca26"
             ],
             [
              1,
              "#f0f921"
             ]
            ],
            "type": "heatmap"
           }
          ],
          "histogram": [
           {
            "marker": {
             "pattern": {
              "fillmode": "overlay",
              "size": 10,
              "solidity": 0.2
             }
            },
            "type": "histogram"
           }
          ],
          "histogram2d": [
           {
            "colorbar": {
             "outlinewidth": 0,
             "ticks": ""
            },
            "colorscale": [
             [
              0,
              "#0d0887"
             ],
             [
              0.1111111111111111,
              "#46039f"
             ],
             [
              0.2222222222222222,
              "#7201a8"
             ],
             [
              0.3333333333333333,
              "#9c179e"
             ],
             [
              0.4444444444444444,
              "#bd3786"
             ],
             [
              0.5555555555555556,
              "#d8576b"
             ],
             [
              0.6666666666666666,
              "#ed7953"
             ],
             [
              0.7777777777777778,
              "#fb9f3a"
             ],
             [
              0.8888888888888888,
              "#fdca26"
             ],
             [
              1,
              "#f0f921"
             ]
            ],
            "type": "histogram2d"
           }
          ],
          "histogram2dcontour": [
           {
            "colorbar": {
             "outlinewidth": 0,
             "ticks": ""
            },
            "colorscale": [
             [
              0,
              "#0d0887"
             ],
             [
              0.1111111111111111,
              "#46039f"
             ],
             [
              0.2222222222222222,
              "#7201a8"
             ],
             [
              0.3333333333333333,
              "#9c179e"
             ],
             [
              0.4444444444444444,
              "#bd3786"
             ],
             [
              0.5555555555555556,
              "#d8576b"
             ],
             [
              0.6666666666666666,
              "#ed7953"
             ],
             [
              0.7777777777777778,
              "#fb9f3a"
             ],
             [
              0.8888888888888888,
              "#fdca26"
             ],
             [
              1,
              "#f0f921"
             ]
            ],
            "type": "histogram2dcontour"
           }
          ],
          "mesh3d": [
           {
            "colorbar": {
             "outlinewidth": 0,
             "ticks": ""
            },
            "type": "mesh3d"
           }
          ],
          "parcoords": [
           {
            "line": {
             "colorbar": {
              "outlinewidth": 0,
              "ticks": ""
             }
            },
            "type": "parcoords"
           }
          ],
          "pie": [
           {
            "automargin": true,
            "type": "pie"
           }
          ],
          "scatter": [
           {
            "fillpattern": {
             "fillmode": "overlay",
             "size": 10,
             "solidity": 0.2
            },
            "type": "scatter"
           }
          ],
          "scatter3d": [
           {
            "line": {
             "colorbar": {
              "outlinewidth": 0,
              "ticks": ""
             }
            },
            "marker": {
             "colorbar": {
              "outlinewidth": 0,
              "ticks": ""
             }
            },
            "type": "scatter3d"
           }
          ],
          "scattercarpet": [
           {
            "marker": {
             "colorbar": {
              "outlinewidth": 0,
              "ticks": ""
             }
            },
            "type": "scattercarpet"
           }
          ],
          "scattergeo": [
           {
            "marker": {
             "colorbar": {
              "outlinewidth": 0,
              "ticks": ""
             }
            },
            "type": "scattergeo"
           }
          ],
          "scattergl": [
           {
            "marker": {
             "colorbar": {
              "outlinewidth": 0,
              "ticks": ""
             }
            },
            "type": "scattergl"
           }
          ],
          "scattermap": [
           {
            "marker": {
             "colorbar": {
              "outlinewidth": 0,
              "ticks": ""
             }
            },
            "type": "scattermap"
           }
          ],
          "scattermapbox": [
           {
            "marker": {
             "colorbar": {
              "outlinewidth": 0,
              "ticks": ""
             }
            },
            "type": "scattermapbox"
           }
          ],
          "scatterpolar": [
           {
            "marker": {
             "colorbar": {
              "outlinewidth": 0,
              "ticks": ""
             }
            },
            "type": "scatterpolar"
           }
          ],
          "scatterpolargl": [
           {
            "marker": {
             "colorbar": {
              "outlinewidth": 0,
              "ticks": ""
             }
            },
            "type": "scatterpolargl"
           }
          ],
          "scatterternary": [
           {
            "marker": {
             "colorbar": {
              "outlinewidth": 0,
              "ticks": ""
             }
            },
            "type": "scatterternary"
           }
          ],
          "surface": [
           {
            "colorbar": {
             "outlinewidth": 0,
             "ticks": ""
            },
            "colorscale": [
             [
              0,
              "#0d0887"
             ],
             [
              0.1111111111111111,
              "#46039f"
             ],
             [
              0.2222222222222222,
              "#7201a8"
             ],
             [
              0.3333333333333333,
              "#9c179e"
             ],
             [
              0.4444444444444444,
              "#bd3786"
             ],
             [
              0.5555555555555556,
              "#d8576b"
             ],
             [
              0.6666666666666666,
              "#ed7953"
             ],
             [
              0.7777777777777778,
              "#fb9f3a"
             ],
             [
              0.8888888888888888,
              "#fdca26"
             ],
             [
              1,
              "#f0f921"
             ]
            ],
            "type": "surface"
           }
          ],
          "table": [
           {
            "cells": {
             "fill": {
              "color": "#EBF0F8"
             },
             "line": {
              "color": "white"
             }
            },
            "header": {
             "fill": {
              "color": "#C8D4E3"
             },
             "line": {
              "color": "white"
             }
            },
            "type": "table"
           }
          ]
         },
         "layout": {
          "annotationdefaults": {
           "arrowcolor": "#2a3f5f",
           "arrowhead": 0,
           "arrowwidth": 1
          },
          "autotypenumbers": "strict",
          "coloraxis": {
           "colorbar": {
            "outlinewidth": 0,
            "ticks": ""
           }
          },
          "colorscale": {
           "diverging": [
            [
             0,
             "#8e0152"
            ],
            [
             0.1,
             "#c51b7d"
            ],
            [
             0.2,
             "#de77ae"
            ],
            [
             0.3,
             "#f1b6da"
            ],
            [
             0.4,
             "#fde0ef"
            ],
            [
             0.5,
             "#f7f7f7"
            ],
            [
             0.6,
             "#e6f5d0"
            ],
            [
             0.7,
             "#b8e186"
            ],
            [
             0.8,
             "#7fbc41"
            ],
            [
             0.9,
             "#4d9221"
            ],
            [
             1,
             "#276419"
            ]
           ],
           "sequential": [
            [
             0,
             "#0d0887"
            ],
            [
             0.1111111111111111,
             "#46039f"
            ],
            [
             0.2222222222222222,
             "#7201a8"
            ],
            [
             0.3333333333333333,
             "#9c179e"
            ],
            [
             0.4444444444444444,
             "#bd3786"
            ],
            [
             0.5555555555555556,
             "#d8576b"
            ],
            [
             0.6666666666666666,
             "#ed7953"
            ],
            [
             0.7777777777777778,
             "#fb9f3a"
            ],
            [
             0.8888888888888888,
             "#fdca26"
            ],
            [
             1,
             "#f0f921"
            ]
           ],
           "sequentialminus": [
            [
             0,
             "#0d0887"
            ],
            [
             0.1111111111111111,
             "#46039f"
            ],
            [
             0.2222222222222222,
             "#7201a8"
            ],
            [
             0.3333333333333333,
             "#9c179e"
            ],
            [
             0.4444444444444444,
             "#bd3786"
            ],
            [
             0.5555555555555556,
             "#d8576b"
            ],
            [
             0.6666666666666666,
             "#ed7953"
            ],
            [
             0.7777777777777778,
             "#fb9f3a"
            ],
            [
             0.8888888888888888,
             "#fdca26"
            ],
            [
             1,
             "#f0f921"
            ]
           ]
          },
          "colorway": [
           "#636efa",
           "#EF553B",
           "#00cc96",
           "#ab63fa",
           "#FFA15A",
           "#19d3f3",
           "#FF6692",
           "#B6E880",
           "#FF97FF",
           "#FECB52"
          ],
          "font": {
           "color": "#2a3f5f"
          },
          "geo": {
           "bgcolor": "white",
           "lakecolor": "white",
           "landcolor": "#E5ECF6",
           "showlakes": true,
           "showland": true,
           "subunitcolor": "white"
          },
          "hoverlabel": {
           "align": "left"
          },
          "hovermode": "closest",
          "mapbox": {
           "style": "light"
          },
          "paper_bgcolor": "white",
          "plot_bgcolor": "#E5ECF6",
          "polar": {
           "angularaxis": {
            "gridcolor": "white",
            "linecolor": "white",
            "ticks": ""
           },
           "bgcolor": "#E5ECF6",
           "radialaxis": {
            "gridcolor": "white",
            "linecolor": "white",
            "ticks": ""
           }
          },
          "scene": {
           "xaxis": {
            "backgroundcolor": "#E5ECF6",
            "gridcolor": "white",
            "gridwidth": 2,
            "linecolor": "white",
            "showbackground": true,
            "ticks": "",
            "zerolinecolor": "white"
           },
           "yaxis": {
            "backgroundcolor": "#E5ECF6",
            "gridcolor": "white",
            "gridwidth": 2,
            "linecolor": "white",
            "showbackground": true,
            "ticks": "",
            "zerolinecolor": "white"
           },
           "zaxis": {
            "backgroundcolor": "#E5ECF6",
            "gridcolor": "white",
            "gridwidth": 2,
            "linecolor": "white",
            "showbackground": true,
            "ticks": "",
            "zerolinecolor": "white"
           }
          },
          "shapedefaults": {
           "line": {
            "color": "#2a3f5f"
           }
          },
          "ternary": {
           "aaxis": {
            "gridcolor": "white",
            "linecolor": "white",
            "ticks": ""
           },
           "baxis": {
            "gridcolor": "white",
            "linecolor": "white",
            "ticks": ""
           },
           "bgcolor": "#E5ECF6",
           "caxis": {
            "gridcolor": "white",
            "linecolor": "white",
            "ticks": ""
           }
          },
          "title": {
           "x": 0.05
          },
          "xaxis": {
           "automargin": true,
           "gridcolor": "white",
           "linecolor": "white",
           "ticks": "",
           "title": {
            "standoff": 15
           },
           "zerolinecolor": "white",
           "zerolinewidth": 2
          },
          "yaxis": {
           "automargin": true,
           "gridcolor": "white",
           "linecolor": "white",
           "ticks": "",
           "title": {
            "standoff": 15
           },
           "zerolinecolor": "white",
           "zerolinewidth": 2
          }
         }
        },
        "title": {
         "font": {
          "size": 22
         },
         "text": "👤 Top 10 Customers by Spending",
         "x": 0.5
        },
        "uniformtext": {
         "minsize": 12,
         "mode": "hide"
        },
        "xaxis": {
         "anchor": "y",
         "domain": [
          0,
          1
         ],
         "showgrid": false,
         "title": {
          "text": "Customer ID"
         }
        },
        "yaxis": {
         "anchor": "x",
         "domain": [
          0,
          1
         ],
         "gridcolor": "lightgray",
         "showgrid": true,
         "tickprefix": "$",
         "title": {
          "text": "Total Sales ($)"
         }
        }
       }
      }
     },
     "metadata": {},
     "output_type": "display_data"
    }
   ],
   "source": [
    "top_customers = df.groupby('Customer_ID', as_index=False)['Total_Amount'].sum()\n",
    "top_customers = top_customers.sort_values('Total_Amount', ascending=False).head(10)\n",
    "\n",
    "fig10 = px.bar(\n",
    "    top_customers,\n",
    "    x='Customer_ID',\n",
    "    y='Total_Amount',\n",
    "    color='Customer_ID',\n",
    "    title='👤 Top 10 Customers by Spending',\n",
    "    text=top_customers['Total_Amount'],\n",
    "    labels={'Customer_ID': 'Customer ID', 'Total_Amount': 'Total Sales ($)'}\n",
    ")\n",
    "\n",
    "fig10.update_traces(\n",
    "    texttemplate='$%{text:.2f}',\n",
    "    textposition='outside',\n",
    "    marker=dict(line=dict(width=1, color='black'))\n",
    ")\n",
    "\n",
    "fig10.update_layout(\n",
    "    xaxis_title='Customer ID',\n",
    "    yaxis_title='Total Sales ($)',\n",
    "    title_font=dict(size=22),\n",
    "    title_x=0.5,\n",
    "    uniformtext_minsize=12,\n",
    "    uniformtext_mode='hide',\n",
    "    yaxis=dict(tickprefix='$', showgrid=True, gridcolor='lightgray'),\n",
    "    xaxis=dict(showgrid=False),\n",
    "    plot_bgcolor='white',\n",
    "    paper_bgcolor='white',\n",
    "    font=dict(family='Arial', size=14),\n",
    "    hoverlabel=dict(bgcolor='white', font_size=13),\n",
    "    margin=dict(l=40, r=40, t=80, b=80),\n",
    "    showlegend=False\n",
    ")\n",
    "\n",
    "fig10.show()\n"
   ]
  },
  {
   "cell_type": "code",
   "execution_count": 66,
   "id": "80531aa8",
   "metadata": {},
   "outputs": [
    {
     "data": {
      "application/vnd.plotly.v1+json": {
       "config": {
        "plotlyServerURL": "https://plot.ly"
       },
       "data": [
        {
         "customdata": [
          [
           "Mouse",
           "Accessories",
           "New York",
           "Online"
          ],
          [
           "Mouse",
           "Accessories",
           "Los Angeles",
           "Cash"
          ],
          [
           "Mouse",
           "Accessories",
           "Chicago",
           "Cash"
          ],
          [
           "Mouse",
           "Accessories",
           "Los Angeles",
           "Cash"
          ],
          [
           "Mouse",
           "Accessories",
           "Phoenix",
           "Cash"
          ],
          [
           "Mouse",
           "Accessories",
           "New York",
           "Credit Card"
          ],
          [
           "Mouse",
           "Accessories",
           "New York",
           "Credit Card"
          ],
          [
           "Mouse",
           "Accessories",
           "Houston",
           "Credit Card"
          ],
          [
           "Mouse",
           "Accessories",
           "Los Angeles",
           "Cash"
          ],
          [
           "Mouse",
           "Accessories",
           "Chicago",
           "Cash"
          ],
          [
           "Mouse",
           "Accessories",
           "New York",
           "Cash"
          ],
          [
           "Mouse",
           "Accessories",
           "Los Angeles",
           "Debit Card"
          ],
          [
           "Mouse",
           "Accessories",
           "Phoenix",
           "Online"
          ],
          [
           "Mouse",
           "Accessories",
           "Los Angeles",
           "Cash"
          ],
          [
           "Mouse",
           "Accessories",
           "New York",
           "Online"
          ],
          [
           "Mouse",
           "Accessories",
           "New York",
           "Online"
          ],
          [
           "Mouse",
           "Accessories",
           "Los Angeles",
           "Debit Card"
          ],
          [
           "Mouse",
           "Accessories",
           "New York",
           "Cash"
          ],
          [
           "Mouse",
           "Accessories",
           "Houston",
           "Debit Card"
          ],
          [
           "Mouse",
           "Accessories",
           "Phoenix",
           "Credit Card"
          ],
          [
           "Mouse",
           "Accessories",
           "Phoenix",
           "Cash"
          ],
          [
           "Mouse",
           "Accessories",
           "Houston",
           "Debit Card"
          ],
          [
           "Mouse",
           "Accessories",
           "Phoenix",
           "Online"
          ],
          [
           "Mouse",
           "Accessories",
           "Houston",
           "Online"
          ],
          [
           "Mouse",
           "Accessories",
           "Houston",
           "Cash"
          ],
          [
           "Mouse",
           "Accessories",
           "Los Angeles",
           "Cash"
          ],
          [
           "Mouse",
           "Accessories",
           "Phoenix",
           "Cash"
          ],
          [
           "Mouse",
           "Accessories",
           "Chicago",
           "Cash"
          ],
          [
           "Mouse",
           "Accessories",
           "Chicago",
           "Cash"
          ],
          [
           "Mouse",
           "Accessories",
           "Houston",
           "Cash"
          ],
          [
           "Mouse",
           "Accessories",
           "New York",
           "Debit Card"
          ],
          [
           "Mouse",
           "Accessories",
           "New York",
           "Cash"
          ],
          [
           "Mouse",
           "Accessories",
           "Los Angeles",
           "Online"
          ],
          [
           "Mouse",
           "Accessories",
           "Los Angeles",
           "Online"
          ],
          [
           "Mouse",
           "Accessories",
           "Chicago",
           "Cash"
          ],
          [
           "Mouse",
           "Accessories",
           "New York",
           "Cash"
          ],
          [
           "Mouse",
           "Accessories",
           "New York",
           "Cash"
          ],
          [
           "Mouse",
           "Accessories",
           "New York",
           "Cash"
          ],
          [
           "Mouse",
           "Accessories",
           "Houston",
           "Cash"
          ],
          [
           "Mouse",
           "Accessories",
           "Houston",
           "Cash"
          ],
          [
           "Mouse",
           "Accessories",
           "Los Angeles",
           "Online"
          ],
          [
           "Mouse",
           "Accessories",
           "New York",
           "Online"
          ],
          [
           "Mouse",
           "Accessories",
           "Phoenix",
           "Cash"
          ],
          [
           "Mouse",
           "Accessories",
           "New York",
           "Cash"
          ],
          [
           "Mouse",
           "Accessories",
           "Houston",
           "Cash"
          ],
          [
           "Mouse",
           "Accessories",
           "Chicago",
           "Cash"
          ],
          [
           "Mouse",
           "Accessories",
           "New York",
           "Online"
          ],
          [
           "Mouse",
           "Accessories",
           "New York",
           "Online"
          ],
          [
           "Mouse",
           "Accessories",
           "Chicago",
           "Debit Card"
          ],
          [
           "Mouse",
           "Accessories",
           "Chicago",
           "Cash"
          ],
          [
           "Mouse",
           "Accessories",
           "New York",
           "Cash"
          ]
         ],
         "hovertemplate": "Product=%{customdata[0]}<br>Quantity Purchased=%{x}<br>Unit Price ($)=%{y}<br>Total_Amount=%{marker.size}<br>Category=%{customdata[1]}<br>City=%{customdata[2]}<br>Payment_Method=%{customdata[3]}<extra></extra>",
         "legendgroup": "Mouse",
         "marker": {
          "color": "rgb(228,26,28)",
          "line": {
           "color": "black",
           "width": 1
          },
          "size": {
           "bdata": "PgrXo3AVYEBmZmZmZo6IQIXrUbgeAZ5AUrgehesVfkCF61G4HgGeQK5H4XoUho1AhetRuB5Je0BSuB6F622GQIXrUbgeAZ5ACtejcD2ydUBnZmZmZoqpQFK4HoXrbYlAZmZmZmbilkApXI/C9ayKQBSuR+F61IJACtejcD0ijUCF61G4HgGeQDMzMzMzR4pAUrgehesTqUCF61G4HgGeQGZmZmZm/pNAhetRuB4BnkCF61G4HgGeQHE9CtejvJhAZmZmZmagk0CamZmZmSeKQK5H4XoUkpNAhetRuB4BnkBI4XoUrmedQIXrUbgeAZ5ASOF6FK4bkkCF61G4HgGeQPYoXI/CwZ5AhetRuB41eEBSuB6F6yKYQAAAAAAAFItAAAAAAIDjo0AUrkfhelRbQIXrUbgeAZ5A16NwPQrXWUAK16NwPeptQHE9Ctej6qZANDMzMzPWm0CF61G4HgGeQDQzMzMzt5hAAAAAAAAIkEApXI/C9XahQDMzMzMzyqtAhetRuB4BnkC4HoXrUe6NQM3MzMzM6KtA",
           "dtype": "f8"
          },
          "sizemode": "area",
          "sizeref": 12.315375,
          "symbol": "circle"
         },
         "mode": "markers",
         "name": "Mouse",
         "orientation": "v",
         "showlegend": true,
         "type": "scatter",
         "x": {
          "bdata": "AwQEAQQBAQEEAgUCAgEEAgQCBAQCBAQCAwEEBAQEBAQEAQMCBQQEAQIEAwQFBQQFBAEF",
          "dtype": "i1"
         },
         "xaxis": "x",
         "y": {
          "bdata": "UrgehetxRUBmZmZmZo5oQIXrUbgeAX5AUrgehesVfkCF61G4HgF+QK5H4XoUho1AhetRuB5Je0BSuB6F622GQIXrUbgeAX5ACtejcD2yZUAfhetRuG6EQFK4HoXrbXlAZmZmZmbihkApXI/C9ayKQBSuR+F61GJACtejcD0ifUCF61G4HgF+QDMzMzMzR3pAUrgehesTiUCF61G4HgF+QGZmZmZm/oNAhetRuB4BfkCF61G4HgF+QHE9CtejvIhAMzMzMzMrekCamZmZmSeKQK5H4XoUknNAhetRuB4BfkBI4XoUrmd9QIXrUbgeAX5ASOF6FK4bckCF61G4HgF+QPYoXI/CwX5AhetRuB41eEDhehSuRxeAQAAAAAAAFHtAZmZmZmbSf0AUrkfhelQ7QIXrUbgeAX5A16NwPQrXWUAK16NwPepdQHE9Ctej6oZAzczMzMyOgkCF61G4HgF+QPYoXI/CxXNAZmZmZmamaUApXI/C9XaBQI/C9ShcO4ZAhetRuB4BfkC4HoXrUe6NQKRwPQrXU4ZA",
          "dtype": "f8"
         },
         "yaxis": "y"
        },
        {
         "customdata": [
          [
           "Tablet",
           "Electronics",
           "Chicago",
           "Credit Card"
          ],
          [
           "Tablet",
           "Electronics",
           "Los Angeles",
           "Online"
          ],
          [
           "Tablet",
           "Electronics",
           "Houston",
           "Online"
          ],
          [
           "Tablet",
           "Electronics",
           "New York",
           "Cash"
          ],
          [
           "Tablet",
           "Electronics",
           "Phoenix",
           "Credit Card"
          ],
          [
           "Tablet",
           "Electronics",
           "New York",
           "Cash"
          ],
          [
           "Tablet",
           "Electronics",
           "Houston",
           "Cash"
          ],
          [
           "Tablet",
           "Electronics",
           "Chicago",
           "Credit Card"
          ],
          [
           "Tablet",
           "Electronics",
           "Los Angeles",
           "Credit Card"
          ],
          [
           "Tablet",
           "Electronics",
           "Houston",
           "Credit Card"
          ],
          [
           "Tablet",
           "Electronics",
           "Los Angeles",
           "Debit Card"
          ],
          [
           "Tablet",
           "Electronics",
           "Los Angeles",
           "Credit Card"
          ],
          [
           "Tablet",
           "Electronics",
           "Phoenix",
           "Cash"
          ],
          [
           "Tablet",
           "Electronics",
           "Chicago",
           "Online"
          ],
          [
           "Tablet",
           "Electronics",
           "Phoenix",
           "Credit Card"
          ],
          [
           "Tablet",
           "Electronics",
           "Los Angeles",
           "Debit Card"
          ],
          [
           "Tablet",
           "Electronics",
           "Houston",
           "Cash"
          ],
          [
           "Tablet",
           "Electronics",
           "Houston",
           "Debit Card"
          ],
          [
           "Tablet",
           "Electronics",
           "New York",
           "Online"
          ],
          [
           "Tablet",
           "Electronics",
           "Chicago",
           "Cash"
          ],
          [
           "Tablet",
           "Electronics",
           "Houston",
           "Credit Card"
          ],
          [
           "Tablet",
           "Electronics",
           "Houston",
           "Online"
          ],
          [
           "Tablet",
           "Electronics",
           "Phoenix",
           "Credit Card"
          ],
          [
           "Tablet",
           "Electronics",
           "New York",
           "Cash"
          ],
          [
           "Tablet",
           "Electronics",
           "Chicago",
           "Cash"
          ],
          [
           "Tablet",
           "Electronics",
           "Los Angeles",
           "Cash"
          ],
          [
           "Tablet",
           "Electronics",
           "Los Angeles",
           "Online"
          ],
          [
           "Tablet",
           "Electronics",
           "Phoenix",
           "Cash"
          ],
          [
           "Tablet",
           "Electronics",
           "Los Angeles",
           "Debit Card"
          ],
          [
           "Tablet",
           "Electronics",
           "New York",
           "Cash"
          ],
          [
           "Tablet",
           "Electronics",
           "Houston",
           "Credit Card"
          ],
          [
           "Tablet",
           "Electronics",
           "Houston",
           "Cash"
          ],
          [
           "Tablet",
           "Electronics",
           "New York",
           "Debit Card"
          ],
          [
           "Tablet",
           "Electronics",
           "Houston",
           "Debit Card"
          ],
          [
           "Tablet",
           "Electronics",
           "Houston",
           "Cash"
          ],
          [
           "Tablet",
           "Electronics",
           "Phoenix",
           "Debit Card"
          ],
          [
           "Tablet",
           "Electronics",
           "Houston",
           "Credit Card"
          ],
          [
           "Tablet",
           "Electronics",
           "Phoenix",
           "Online"
          ],
          [
           "Tablet",
           "Electronics",
           "Los Angeles",
           "Online"
          ],
          [
           "Tablet",
           "Electronics",
           "New York",
           "Credit Card"
          ],
          [
           "Tablet",
           "Electronics",
           "Houston",
           "Online"
          ],
          [
           "Tablet",
           "Electronics",
           "Houston",
           "Debit Card"
          ],
          [
           "Tablet",
           "Electronics",
           "Los Angeles",
           "Debit Card"
          ],
          [
           "Tablet",
           "Electronics",
           "Los Angeles",
           "Credit Card"
          ],
          [
           "Tablet",
           "Electronics",
           "Phoenix",
           "Credit Card"
          ],
          [
           "Tablet",
           "Electronics",
           "Los Angeles",
           "Credit Card"
          ],
          [
           "Tablet",
           "Electronics",
           "Chicago",
           "Credit Card"
          ],
          [
           "Tablet",
           "Electronics",
           "Los Angeles",
           "Debit Card"
          ],
          [
           "Tablet",
           "Electronics",
           "New York",
           "Cash"
          ],
          [
           "Tablet",
           "Electronics",
           "Phoenix",
           "Credit Card"
          ],
          [
           "Tablet",
           "Electronics",
           "Houston",
           "Online"
          ],
          [
           "Tablet",
           "Electronics",
           "New York",
           "Credit Card"
          ],
          [
           "Tablet",
           "Electronics",
           "New York",
           "Online"
          ],
          [
           "Tablet",
           "Electronics",
           "Chicago",
           "Online"
          ],
          [
           "Tablet",
           "Electronics",
           "Los Angeles",
           "Online"
          ],
          [
           "Tablet",
           "Electronics",
           "New York",
           "Cash"
          ],
          [
           "Tablet",
           "Electronics",
           "Los Angeles",
           "Cash"
          ],
          [
           "Tablet",
           "Electronics",
           "New York",
           "Cash"
          ],
          [
           "Tablet",
           "Electronics",
           "Los Angeles",
           "Online"
          ],
          [
           "Tablet",
           "Electronics",
           "Chicago",
           "Cash"
          ],
          [
           "Tablet",
           "Electronics",
           "Chicago",
           "Online"
          ],
          [
           "Tablet",
           "Electronics",
           "Chicago",
           "Cash"
          ],
          [
           "Tablet",
           "Electronics",
           "Chicago",
           "Cash"
          ],
          [
           "Tablet",
           "Electronics",
           "Chicago",
           "Debit Card"
          ],
          [
           "Tablet",
           "Electronics",
           "Phoenix",
           "Credit Card"
          ],
          [
           "Tablet",
           "Electronics",
           "New York",
           "Online"
          ],
          [
           "Tablet",
           "Electronics",
           "Houston",
           "Online"
          ]
         ],
         "hovertemplate": "Product=%{customdata[0]}<br>Quantity Purchased=%{x}<br>Unit Price ($)=%{y}<br>Total_Amount=%{marker.size}<br>Category=%{customdata[1]}<br>City=%{customdata[2]}<br>Payment_Method=%{customdata[3]}<extra></extra>",
         "legendgroup": "Tablet",
         "marker": {
          "color": "rgb(55,126,184)",
          "line": {
           "color": "black",
           "width": 1
          },
          "size": {
           "bdata": "ZmZmZmZGcEDNzMzMzEqhQIXrUbge1Y5A9ihcj8KVcEA9CtejcIGLQDMzMzMzA45AMzMzMzNymkC4HoXrUV6kQIXrUbgeNYtAUrgeheuRW0CamZmZmTlMQAAAAAAAaKlArkfhehS+cUAUrkfhesiRQIXrUbge1Y5AZmZmZmYAiUAK16NwPT6ZQIXrUbge1Y5AXI/C9SjIokA0MzMzM32UQFK4HoXrvZ1AXI/C9ShorECF61G4HtWOQKRwPQrXM2RAhetRuB7VjkD2KFyPwsupQArXo3A9XKZAAAAAAAB4iUA0MzMzMy+nQK5H4XoULKxAAAAAAAD4mUCkcD0K1/2EQK5H4XoUZJRAUrgehevphkCkcD0K1yODQLgehetR2JZAhetRuB7VjkBSuB6F6xWcQAAAAAAAoFtAZmZmZqaPsUCkcD0K1xWoQNejcD0KJ21A7FG4HoX/nUAzMzMzs4CxQK5H4XoU5olAj8L1KFzlmkDNzMzMzICHQOF6FK5HmYVAUrgehesfgUBmZmZmZp55QIXrUbge1Y5AZmZmZuYwskCF61G4HoVQQOF6FK5HFZtAzczMzMw0YkCkcD0K1xGvQAAAAAAAvJVAH4XrUbheUEDMzMzMzP2VQNejcD0KAZ1ANDMzMzOuk0CF61G4HiWJQDMzMzOz8bBAcT0K16OoiUA9CtejcNmCQArXo3A9JoBAAAAAAICLrUA=",
           "dtype": "f8"
          },
          "sizemode": "area",
          "sizeref": 12.315375,
          "symbol": "circle"
         },
         "mode": "markers",
         "name": "Tablet",
         "orientation": "v",
         "showlegend": true,
         "type": "scatter",
         "x": {
          "bdata": "AwUCAgECBQQCAQEFBAQCBQICBAMCBAICAgQDAgMEAgECAgIEAgMBBQQCAgUEAgEBAQECBQQCAQQCBAMCAwQFAgIDBQ==",
          "dtype": "i1"
         },
         "xaxis": "x",
         "y": {
          "bdata": "MzMzMzOzVUB7FK5H4ap7QIXrUbge1X5A9ihcj8KVYEA9CtejcIGLQDMzMzMzA35AXI/C9SgodUC4HoXrUV6EQIXrUbgeNXtAUrgeheuRW0CamZmZmTlMQDMzMzMzU4RArkfhehS+UUAUrkfheshxQIXrUbge1X5AuB6F61EAZEAK16NwPT6JQIXrUbge1X5AXI/C9SjIgkCamZmZmVF7QFK4HoXrvY1AXI/C9ShojECF61G4HtV+QKRwPQrXM1RAhetRuB7VfkD2KFyPwsuJQLgehetR0I1AAAAAAAB4eUCamZmZmemOQK5H4XoULIxAAAAAAAD4iUCkcD0K1/2EQK5H4XoUZIRAUrgehevpdkCkcD0K1yNzQLgehetR2HZAhetRuB7VfkDhehSuR7mCQAAAAAAAoFtA16NwPQoZjECkcD0K1xWIQNejcD0KJ11A7FG4HoX/jUCF61G4HgGMQK5H4XoU5mlAj8L1KFzlikDNzMzMzICHQOF6FK5HmYVAUrgehesfgUBmZmZmZp55QIXrUbge1X5A16NwPQobjUCF61G4HoUwQOF6FK5HFYtAzczMzMw0YkCkcD0K1xGPQAAAAAAAvIVAH4XrUbheMEBmZmZmZlJ9QNejcD0KAY1AmpmZmZk9ekCF61G4HiVpQLgehetRHItAcT0K16OoeUA9CtejcNlyQLgehetRiGVAzczMzMyih0A=",
          "dtype": "f8"
         },
         "yaxis": "y"
        },
        {
         "customdata": [
          [
           "Laptop",
           "Electronics",
           "Los Angeles",
           "Online"
          ],
          [
           "Laptop",
           "Electronics",
           "Los Angeles",
           "Cash"
          ],
          [
           "Laptop",
           "Electronics",
           "Phoenix",
           "Cash"
          ],
          [
           "Laptop",
           "Electronics",
           "Phoenix",
           "Cash"
          ],
          [
           "Laptop",
           "Electronics",
           "New York",
           "Debit Card"
          ],
          [
           "Laptop",
           "Electronics",
           "Phoenix",
           "Cash"
          ],
          [
           "Laptop",
           "Electronics",
           "Chicago",
           "Credit Card"
          ],
          [
           "Laptop",
           "Electronics",
           "New York",
           "Online"
          ],
          [
           "Laptop",
           "Electronics",
           "Phoenix",
           "Cash"
          ],
          [
           "Laptop",
           "Electronics",
           "Houston",
           "Cash"
          ],
          [
           "Laptop",
           "Electronics",
           "Houston",
           "Credit Card"
          ],
          [
           "Laptop",
           "Electronics",
           "Houston",
           "Cash"
          ],
          [
           "Laptop",
           "Electronics",
           "New York",
           "Debit Card"
          ],
          [
           "Laptop",
           "Electronics",
           "Los Angeles",
           "Cash"
          ],
          [
           "Laptop",
           "Electronics",
           "Chicago",
           "Online"
          ],
          [
           "Laptop",
           "Electronics",
           "New York",
           "Credit Card"
          ],
          [
           "Laptop",
           "Electronics",
           "Chicago",
           "Credit Card"
          ],
          [
           "Laptop",
           "Electronics",
           "Houston",
           "Credit Card"
          ],
          [
           "Laptop",
           "Electronics",
           "New York",
           "Debit Card"
          ],
          [
           "Laptop",
           "Electronics",
           "Houston",
           "Online"
          ],
          [
           "Laptop",
           "Electronics",
           "Phoenix",
           "Credit Card"
          ],
          [
           "Laptop",
           "Electronics",
           "Chicago",
           "Credit Card"
          ],
          [
           "Laptop",
           "Electronics",
           "New York",
           "Cash"
          ],
          [
           "Laptop",
           "Electronics",
           "Chicago",
           "Online"
          ],
          [
           "Laptop",
           "Electronics",
           "New York",
           "Online"
          ],
          [
           "Laptop",
           "Electronics",
           "Chicago",
           "Credit Card"
          ],
          [
           "Laptop",
           "Electronics",
           "Phoenix",
           "Credit Card"
          ],
          [
           "Laptop",
           "Electronics",
           "Chicago",
           "Online"
          ],
          [
           "Laptop",
           "Electronics",
           "Phoenix",
           "Debit Card"
          ],
          [
           "Laptop",
           "Electronics",
           "Houston",
           "Online"
          ],
          [
           "Laptop",
           "Electronics",
           "New York",
           "Credit Card"
          ],
          [
           "Laptop",
           "Electronics",
           "New York",
           "Cash"
          ],
          [
           "Laptop",
           "Electronics",
           "Chicago",
           "Cash"
          ],
          [
           "Laptop",
           "Electronics",
           "Chicago",
           "Debit Card"
          ],
          [
           "Laptop",
           "Electronics",
           "Chicago",
           "Cash"
          ],
          [
           "Laptop",
           "Electronics",
           "Houston",
           "Cash"
          ],
          [
           "Laptop",
           "Electronics",
           "Chicago",
           "Cash"
          ],
          [
           "Laptop",
           "Electronics",
           "Los Angeles",
           "Cash"
          ],
          [
           "Laptop",
           "Electronics",
           "New York",
           "Credit Card"
          ],
          [
           "Laptop",
           "Electronics",
           "Los Angeles",
           "Cash"
          ],
          [
           "Laptop",
           "Electronics",
           "Chicago",
           "Cash"
          ],
          [
           "Laptop",
           "Electronics",
           "Houston",
           "Cash"
          ],
          [
           "Laptop",
           "Electronics",
           "New York",
           "Online"
          ],
          [
           "Laptop",
           "Electronics",
           "Los Angeles",
           "Cash"
          ],
          [
           "Laptop",
           "Electronics",
           "New York",
           "Cash"
          ],
          [
           "Laptop",
           "Electronics",
           "Houston",
           "Debit Card"
          ],
          [
           "Laptop",
           "Electronics",
           "Houston",
           "Credit Card"
          ],
          [
           "Laptop",
           "Electronics",
           "Phoenix",
           "Credit Card"
          ]
         ],
         "hovertemplate": "Product=%{customdata[0]}<br>Quantity Purchased=%{x}<br>Unit Price ($)=%{y}<br>Total_Amount=%{marker.size}<br>Category=%{customdata[1]}<br>City=%{customdata[2]}<br>Payment_Method=%{customdata[3]}<extra></extra>",
         "legendgroup": "Laptop",
         "marker": {
          "color": "rgb(77,175,74)",
          "line": {
           "color": "black",
           "width": 1
          },
          "size": {
           "bdata": "MzMzMzO8p0AK16NwPdGTQIXrUbgePYtAwvUoXI/8j0AAAAAAgBGyQB+F61G49oJAhetRuB49i0Bcj8L1KNCZQJqZmZmZIYlACtejcD2mfEBmZmZm5lGxQIXrUbieyKFAZmZmZmYYk0BI4XoUrn+UQJqZmZmZCYlAH4XrUbg8okAAAAAAADKeQFK4HoXrQWxAhetRuB49i0AAAAAAgMWkQArXo3A9snFAhetRuB4rjECF61G4HieLQD0K16Nw8Z5AKVyPwvUwmkCF61G4Hj2LQIXrUbgePYtA7FG4HoV7mECF61G4Hj2LQB+F61G4CqxAKVyPwvVMmECPwvUoXI+RQAAAAAAAkpdAhetRuB49i0DhehSuR72uQI/C9SjcdqVArkfhehSWmECZmZmZmaSaQK5H4XoUEnxAuB6F61H4RkCF61G4Hj2LQNejcD0Kd4ZAhetRuB49m0A9CtejcAVtQIXrUbgePYtAH4XrUbg6n0A0MzMzM0KQQD0K16NwkaRA",
           "dtype": "f8"
          },
          "sizemode": "area",
          "sizeref": 12.315375,
          "symbol": "circle"
         },
         "mode": "markers",
         "name": "Laptop",
         "orientation": "v",
         "showlegend": true,
         "type": "scatter",
         "x": {
          "bdata": "BQMCAwUEAgICAQUDBQICAwUCAgUCAQMCBAICAgIEAgQCAgQDBAUDAgIEBAECBAUE",
          "dtype": "i1"
         },
         "xaxis": "x",
         "y": {
          "bdata": "KVyPwvX8gkC4HoXrUWx6QIXrUbgePXtA16NwPQpTdUDNzMzMzOiMQB+F61G49mJAhetRuB49e0Bcj8L1KNCJQJqZmZmZIXlACtejcD2mfEAK16NwPbaLQFyPwvUotodAPQrXo3CNbkBI4XoUrn+EQJqZmZmZCXlAKVyPwvVQiEAAAAAAACh4QFK4HoXrQVxAhetRuB49e0AAAAAAAJ6AQArXo3A9smFAhetRuB4rjECuR+F6FBpyQD0K16Nw8Y5AKVyPwvUwekCF61G4Hj17QIXrUbgePXtA7FG4HoV7iECF61G4Hj17QB+F61G4CoxAKVyPwvVMiECPwvUoXI9xQAAAAAAAkodAhetRuB49e0DhehSuR72OQBSuR+F6noxArkfhehSWeEAUrkfhelB1QB+F61G4tmJAuB6F61H4NkCF61G4Hj17QNejcD0Kd2ZAhetRuB49e0A9CtejcAVtQIXrUbgePXtAH4XrUbg6f0DsUbgehQNqQD0K16NwkYRA",
          "dtype": "f8"
         },
         "yaxis": "y"
        },
        {
         "customdata": [
          [
           "Headphones",
           "Accessories",
           "Houston",
           "Online"
          ],
          [
           "Headphones",
           "Accessories",
           "Los Angeles",
           "Cash"
          ],
          [
           "Headphones",
           "Accessories",
           "Chicago",
           "Cash"
          ],
          [
           "Headphones",
           "Accessories",
           "New York",
           "Cash"
          ],
          [
           "Headphones",
           "Accessories",
           "Houston",
           "Cash"
          ],
          [
           "Headphones",
           "Accessories",
           "Houston",
           "Credit Card"
          ],
          [
           "Headphones",
           "Accessories",
           "New York",
           "Debit Card"
          ],
          [
           "Headphones",
           "Accessories",
           "New York",
           "Cash"
          ],
          [
           "Headphones",
           "Accessories",
           "Houston",
           "Credit Card"
          ],
          [
           "Headphones",
           "Accessories",
           "Los Angeles",
           "Online"
          ],
          [
           "Headphones",
           "Accessories",
           "Houston",
           "Cash"
          ],
          [
           "Headphones",
           "Accessories",
           "Phoenix",
           "Cash"
          ],
          [
           "Headphones",
           "Accessories",
           "Chicago",
           "Cash"
          ],
          [
           "Headphones",
           "Accessories",
           "Houston",
           "Debit Card"
          ],
          [
           "Headphones",
           "Accessories",
           "New York",
           "Online"
          ],
          [
           "Headphones",
           "Accessories",
           "Houston",
           "Credit Card"
          ],
          [
           "Headphones",
           "Accessories",
           "Houston",
           "Online"
          ],
          [
           "Headphones",
           "Accessories",
           "Phoenix",
           "Credit Card"
          ],
          [
           "Headphones",
           "Accessories",
           "Los Angeles",
           "Debit Card"
          ],
          [
           "Headphones",
           "Accessories",
           "New York",
           "Credit Card"
          ],
          [
           "Headphones",
           "Accessories",
           "Los Angeles",
           "Credit Card"
          ],
          [
           "Headphones",
           "Accessories",
           "Los Angeles",
           "Cash"
          ],
          [
           "Headphones",
           "Accessories",
           "New York",
           "Debit Card"
          ],
          [
           "Headphones",
           "Accessories",
           "Phoenix",
           "Credit Card"
          ],
          [
           "Headphones",
           "Accessories",
           "Chicago",
           "Cash"
          ],
          [
           "Headphones",
           "Accessories",
           "Los Angeles",
           "Cash"
          ],
          [
           "Headphones",
           "Accessories",
           "Houston",
           "Cash"
          ],
          [
           "Headphones",
           "Accessories",
           "Los Angeles",
           "Credit Card"
          ],
          [
           "Headphones",
           "Accessories",
           "Houston",
           "Debit Card"
          ],
          [
           "Headphones",
           "Accessories",
           "Chicago",
           "Debit Card"
          ],
          [
           "Headphones",
           "Accessories",
           "Chicago",
           "Online"
          ],
          [
           "Headphones",
           "Accessories",
           "Houston",
           "Cash"
          ],
          [
           "Headphones",
           "Accessories",
           "Chicago",
           "Credit Card"
          ],
          [
           "Headphones",
           "Accessories",
           "Phoenix",
           "Cash"
          ],
          [
           "Headphones",
           "Accessories",
           "New York",
           "Credit Card"
          ],
          [
           "Headphones",
           "Accessories",
           "Phoenix",
           "Debit Card"
          ],
          [
           "Headphones",
           "Accessories",
           "Houston",
           "Cash"
          ],
          [
           "Headphones",
           "Accessories",
           "New York",
           "Cash"
          ],
          [
           "Headphones",
           "Accessories",
           "Phoenix",
           "Online"
          ],
          [
           "Headphones",
           "Accessories",
           "New York",
           "Online"
          ],
          [
           "Headphones",
           "Accessories",
           "Los Angeles",
           "Cash"
          ],
          [
           "Headphones",
           "Accessories",
           "New York",
           "Cash"
          ],
          [
           "Headphones",
           "Accessories",
           "Houston",
           "Cash"
          ],
          [
           "Headphones",
           "Accessories",
           "Phoenix",
           "Debit Card"
          ],
          [
           "Headphones",
           "Accessories",
           "Houston",
           "Debit Card"
          ],
          [
           "Headphones",
           "Accessories",
           "Los Angeles",
           "Credit Card"
          ],
          [
           "Headphones",
           "Accessories",
           "Chicago",
           "Debit Card"
          ],
          [
           "Headphones",
           "Accessories",
           "Phoenix",
           "Credit Card"
          ],
          [
           "Headphones",
           "Accessories",
           "Phoenix",
           "Cash"
          ],
          [
           "Headphones",
           "Accessories",
           "New York",
           "Debit Card"
          ],
          [
           "Headphones",
           "Accessories",
           "Los Angeles",
           "Cash"
          ],
          [
           "Headphones",
           "Accessories",
           "Houston",
           "Debit Card"
          ],
          [
           "Headphones",
           "Accessories",
           "Chicago",
           "Cash"
          ],
          [
           "Headphones",
           "Accessories",
           "Chicago",
           "Online"
          ],
          [
           "Headphones",
           "Accessories",
           "Phoenix",
           "Credit Card"
          ],
          [
           "Headphones",
           "Accessories",
           "New York",
           "Online"
          ],
          [
           "Headphones",
           "Accessories",
           "Phoenix",
           "Credit Card"
          ],
          [
           "Headphones",
           "Accessories",
           "Los Angeles",
           "Cash"
          ],
          [
           "Headphones",
           "Accessories",
           "Los Angeles",
           "Credit Card"
          ],
          [
           "Headphones",
           "Accessories",
           "Chicago",
           "Cash"
          ],
          [
           "Headphones",
           "Accessories",
           "New York",
           "Credit Card"
          ],
          [
           "Headphones",
           "Accessories",
           "New York",
           "Cash"
          ]
         ],
         "hovertemplate": "Product=%{customdata[0]}<br>Quantity Purchased=%{x}<br>Unit Price ($)=%{y}<br>Total_Amount=%{marker.size}<br>Category=%{customdata[1]}<br>City=%{customdata[2]}<br>Payment_Method=%{customdata[3]}<extra></extra>",
         "legendgroup": "Headphones",
         "marker": {
          "color": "rgb(152,78,163)",
          "line": {
           "color": "black",
           "width": 1
          },
          "size": {
           "bdata": "ZmZmZmakgkDrUbgehRWnQB+F61G4nqdAhetRuJ4Do0A9CtejcHyCQK5H4XoUPnxAKVyPwvXqkEAK16NwPUejQJqZmZmZJZNAAAAAAACse0A9CtejcHyCQFyPwvUoRJFAw/UoXI9QhEAUrkfher6tQGZmZmZmUnNAZmZmZiY+s0Bcj8L1KMh5QHsUrkfhOlRArkfhehSMk0DNzMzMTF2pQIXrUbgeR6NAAAAAAAAApUBmZmZmZiZeQMzMzMzMtodAZmZmZqbhskAehetRuP5pQHsUrkfhsZ1ANDMzM7OToUBI4XoUroGmQI/C9Shch5FAzczMzMwWkUCuR+F6FEiOQOxRuB6Fr5hAj8L1KFzPiEA0MzMzM5WSQD0K16NwfIJAPQrXo3B8gkD2KFyPwr16QJqZmZmZMaBA16NwPYropECkcD0K12N3QFyPwvUomohAj8L1KFxTjEBcj8L1KPygQML1KFwP4KZAmZmZmZmXqECkcD0K14NkQD0K16NwfIJAj8L1KFwPUEBSuB6F612qQD0K16NwfIJAZ2ZmZmZdnUC4HoXrUYh9QBSuR+F60J9A16NwPQonakDNzMzMzLCpQGdmZmZm9pdAFK5H4XpUkkBcj8L1KIyoQHE9CtejAppAhetRuB4bpUCuR+F6FC6cQA==",
           "dtype": "f8"
          },
          "sizemode": "area",
          "sizeref": 12.315375,
          "symbol": "circle"
         },
         "mode": "markers",
         "name": "Headphones",
         "orientation": "v",
         "showlegend": true,
         "type": "scatter",
         "x": {
          "bdata": "AQMEAwECAgMFAQECAQQBBQEBAgUDBAEDBQMDBQMCAgECAwUBAQIFAwIBAQQDBQEBAQQBAwIEAQQFAgQCAwQ=",
          "dtype": "i1"
         },
         "xaxis": "x",
         "y": {
          "bdata": "ZmZmZmakgkCPwvUoXMeOQB+F61G4nodAXI/C9ShaiUA9CtejcHyCQK5H4XoUPmxAKVyPwvXqgEC4HoXrUbSJQMP1KFyPom5AAAAAAACse0A9CtejcHyCQFyPwvUoRIFAw/UoXI9QhEAUrkfher6NQGZmZmZmUnNApHA9CtfJjkBcj8L1KMh5QHsUrkfhOlRArkfhehSMg0BxPQrXo0qEQFyPwvUotIlAAAAAAAAAhUBmZmZmZiZeQGZmZmZmnm9ApHA9Ctc1jkAUrkfhelRRQFK4HoXry4NA7FG4HoUffEAK16NwPQKOQI/C9Shch4FAzczMzMwWgUCuR+F6FEiOQOxRuB6Fr4hACtejcD2KcEDsUbgehbttQD0K16NwfIJAPQrXo3B8gkD2KFyPwr1qQClcj8L16HlAH4XrUbjgi0CkcD0K12NnQFyPwvUomohAj8L1KFxTjEBcj8L1KPyAQK5H4XoUgI5AFK5H4Xqsg0CkcD0K14NkQD0K16NwfIJAj8L1KFwPUEBSuB6F612KQD0K16NwfIJAmpmZmZmTg0C4HoXrUYhtQBSuR+F60H9A16NwPQonakDNzMzMzLCJQOxRuB6FK3NAFK5H4XpUgkBcj8L1KIyIQHE9CtejAopAXI/C9SgkjECuR+F6FC58QA==",
          "dtype": "f8"
         },
         "yaxis": "y"
        },
        {
         "customdata": [
          [
           "Keyboard",
           "Accessories",
           "Los Angeles",
           "Credit Card"
          ],
          [
           "Keyboard",
           "Accessories",
           "Houston",
           "Debit Card"
          ],
          [
           "Keyboard",
           "Accessories",
           "New York",
           "Cash"
          ],
          [
           "Keyboard",
           "Accessories",
           "Phoenix",
           "Cash"
          ],
          [
           "Keyboard",
           "Accessories",
           "Phoenix",
           "Cash"
          ],
          [
           "Keyboard",
           "Accessories",
           "New York",
           "Credit Card"
          ],
          [
           "Keyboard",
           "Accessories",
           "Los Angeles",
           "Online"
          ],
          [
           "Keyboard",
           "Accessories",
           "Chicago",
           "Debit Card"
          ],
          [
           "Keyboard",
           "Accessories",
           "Houston",
           "Online"
          ],
          [
           "Keyboard",
           "Accessories",
           "Los Angeles",
           "Online"
          ],
          [
           "Keyboard",
           "Accessories",
           "Phoenix",
           "Credit Card"
          ],
          [
           "Keyboard",
           "Accessories",
           "Phoenix",
           "Cash"
          ],
          [
           "Keyboard",
           "Accessories",
           "New York",
           "Cash"
          ],
          [
           "Keyboard",
           "Accessories",
           "Phoenix",
           "Online"
          ],
          [
           "Keyboard",
           "Accessories",
           "Los Angeles",
           "Debit Card"
          ],
          [
           "Keyboard",
           "Accessories",
           "Chicago",
           "Credit Card"
          ],
          [
           "Keyboard",
           "Accessories",
           "Los Angeles",
           "Online"
          ],
          [
           "Keyboard",
           "Accessories",
           "Phoenix",
           "Cash"
          ],
          [
           "Keyboard",
           "Accessories",
           "New York",
           "Credit Card"
          ],
          [
           "Keyboard",
           "Accessories",
           "Phoenix",
           "Debit Card"
          ],
          [
           "Keyboard",
           "Accessories",
           "New York",
           "Debit Card"
          ],
          [
           "Keyboard",
           "Accessories",
           "Phoenix",
           "Credit Card"
          ],
          [
           "Keyboard",
           "Accessories",
           "Los Angeles",
           "Online"
          ],
          [
           "Keyboard",
           "Accessories",
           "Los Angeles",
           "Cash"
          ],
          [
           "Keyboard",
           "Accessories",
           "Houston",
           "Cash"
          ],
          [
           "Keyboard",
           "Accessories",
           "New York",
           "Credit Card"
          ],
          [
           "Keyboard",
           "Accessories",
           "Houston",
           "Cash"
          ],
          [
           "Keyboard",
           "Accessories",
           "Chicago",
           "Cash"
          ],
          [
           "Keyboard",
           "Accessories",
           "Los Angeles",
           "Cash"
          ],
          [
           "Keyboard",
           "Accessories",
           "New York",
           "Credit Card"
          ],
          [
           "Keyboard",
           "Accessories",
           "Houston",
           "Online"
          ],
          [
           "Keyboard",
           "Accessories",
           "Chicago",
           "Cash"
          ],
          [
           "Keyboard",
           "Accessories",
           "Phoenix",
           "Cash"
          ],
          [
           "Keyboard",
           "Accessories",
           "Houston",
           "Online"
          ],
          [
           "Keyboard",
           "Accessories",
           "Houston",
           "Cash"
          ],
          [
           "Keyboard",
           "Accessories",
           "New York",
           "Cash"
          ],
          [
           "Keyboard",
           "Accessories",
           "New York",
           "Credit Card"
          ],
          [
           "Keyboard",
           "Accessories",
           "New York",
           "Cash"
          ],
          [
           "Keyboard",
           "Accessories",
           "Houston",
           "Online"
          ],
          [
           "Keyboard",
           "Accessories",
           "New York",
           "Credit Card"
          ],
          [
           "Keyboard",
           "Accessories",
           "Houston",
           "Online"
          ],
          [
           "Keyboard",
           "Accessories",
           "Houston",
           "Cash"
          ],
          [
           "Keyboard",
           "Accessories",
           "Los Angeles",
           "Cash"
          ],
          [
           "Keyboard",
           "Accessories",
           "Houston",
           "Cash"
          ],
          [
           "Keyboard",
           "Accessories",
           "Phoenix",
           "Credit Card"
          ],
          [
           "Keyboard",
           "Accessories",
           "New York",
           "Credit Card"
          ],
          [
           "Keyboard",
           "Accessories",
           "Chicago",
           "Online"
          ],
          [
           "Keyboard",
           "Accessories",
           "Phoenix",
           "Cash"
          ],
          [
           "Keyboard",
           "Accessories",
           "Phoenix",
           "Debit Card"
          ],
          [
           "Keyboard",
           "Accessories",
           "Phoenix",
           "Cash"
          ],
          [
           "Keyboard",
           "Accessories",
           "Phoenix",
           "Cash"
          ]
         ],
         "hovertemplate": "Product=%{customdata[0]}<br>Quantity Purchased=%{x}<br>Unit Price ($)=%{y}<br>Total_Amount=%{marker.size}<br>Category=%{customdata[1]}<br>City=%{customdata[2]}<br>Payment_Method=%{customdata[3]}<extra></extra>",
         "legendgroup": "Keyboard",
         "marker": {
          "color": "rgb(255,127,0)",
          "line": {
           "color": "black",
           "width": 1
          },
          "size": {
           "bdata": "ZmZmZibvsUAAAAAAwEewQK5H4XoUF5dA7FG4HoU3q0CamZmZmWmsQK5H4XoUF5dArkfhehQIrEAK16NwPSplQHsUrkfhEpdAAAAAAADIm0AAAAAAAISVQJmZmZmZ0p5AAAAAAAASjUDhehSuR5V8QK5H4XoUF5dA7FG4HoXjjEDC9ShcjwSCQK5H4XoUF5dAZmZmZmZUmkAfhetRuN6CQKRwPQpXnKRA16NwPQrxmkA9CtejcC2NQD0K16Nw/6dApHA9CtdTmUBcj8L1KHxeQNejcD0KD4VAFK5H4XrwhUDhehSuR6FmQM3MzMzM6JRAZ2ZmZmYSnUDXo3A9iqWlQNejcD0Kh1JAZmZmZmbGhEBxPQrXo8BTQHE9CtejgIpA9ihcj8IleECamZmZmWucQGdmZmZmJJ1AAAAAAACmmkCZmZmZGWqnQDQzMzOz76VA4XoUrkdBVkCuR+F6FBeXQIXrUbgefYVAHoXrUbjWekD2KFyPwlVgQAAAAAAAJIFArkfhehQXl0CuR+F6FBeXQHsUrkfhBIZA",
           "dtype": "f8"
          },
          "sizemode": "area",
          "sizeref": 12.315375,
          "symbol": "circle"
         },
         "mode": "markers",
         "name": "Keyboard",
         "orientation": "v",
         "showlegend": true,
         "type": "scatter",
         "x": {
          "bdata": "BQUDBAQDBAMDBAIDAQEDBAMDAgEDAgIEBAIBAQECAwMBAwEEAgIDBQUFAgMCAwEFAwMD",
          "dtype": "i1"
         },
         "xaxis": "x",
         "y": {
          "bdata": "pHA9CtexjEBmZmZmZgyKQD0K16NwyX5A7FG4HoU3i0CamZmZmWmMQD0K16NwyX5ArkfhehQIjEC4HoXrUThMQKRwPQrXw35AAAAAAADIe0AAAAAAAISFQGZmZmZmjIRAAAAAAAASjUDhehSuR5V8QD0K16NwyX5A7FG4HoXjbECuR+F6FAZoQD0K16NwyX5AZmZmZmZUikAfhetRuN6CQIXrUbgee4tA16NwPQrxikA9CtejcC19QD0K16Nw/4dApHA9CtdTeUBcj8L1KHxOQNejcD0KD4VAFK5H4XrwhUDhehSuR6FmQM3MzMzM6IRAmpmZmZlhg0AfhetRuNyMQNejcD0Kh1JAMzMzMzOza0BxPQrXo8BTQHE9CtejgGpA9ihcj8IlaECamZmZmWuMQJqZmZmZbYNAmpmZmZlRdUDhehSuR7uCQMP1KFyPjIFA4XoUrkdBRkA9CtejcMl+QIXrUbgefXVAFK5H4XrkYUD2KFyPwlVgQM3MzMzMbFtAPQrXo3DJfkA9CtejcMl+QKRwPQrXW21A",
          "dtype": "f8"
         },
         "yaxis": "y"
        },
        {
         "customdata": [
          [
           "Chair",
           "Furniture",
           "Houston",
           "Cash"
          ],
          [
           "Chair",
           "Furniture",
           "Chicago",
           "Cash"
          ],
          [
           "Chair",
           "Furniture",
           "Phoenix",
           "Cash"
          ],
          [
           "Chair",
           "Furniture",
           "Los Angeles",
           "Cash"
          ],
          [
           "Chair",
           "Furniture",
           "Phoenix",
           "Cash"
          ],
          [
           "Chair",
           "Furniture",
           "Houston",
           "Cash"
          ],
          [
           "Chair",
           "Furniture",
           "Phoenix",
           "Credit Card"
          ],
          [
           "Chair",
           "Furniture",
           "Los Angeles",
           "Cash"
          ],
          [
           "Chair",
           "Furniture",
           "Chicago",
           "Debit Card"
          ],
          [
           "Chair",
           "Furniture",
           "Chicago",
           "Cash"
          ],
          [
           "Chair",
           "Furniture",
           "Los Angeles",
           "Debit Card"
          ],
          [
           "Chair",
           "Furniture",
           "Los Angeles",
           "Credit Card"
          ],
          [
           "Chair",
           "Furniture",
           "Los Angeles",
           "Cash"
          ],
          [
           "Chair",
           "Furniture",
           "Chicago",
           "Debit Card"
          ],
          [
           "Chair",
           "Furniture",
           "Chicago",
           "Online"
          ],
          [
           "Chair",
           "Furniture",
           "Los Angeles",
           "Debit Card"
          ],
          [
           "Chair",
           "Furniture",
           "Phoenix",
           "Credit Card"
          ],
          [
           "Chair",
           "Furniture",
           "New York",
           "Cash"
          ],
          [
           "Chair",
           "Furniture",
           "Houston",
           "Credit Card"
          ],
          [
           "Chair",
           "Furniture",
           "Houston",
           "Debit Card"
          ],
          [
           "Chair",
           "Furniture",
           "Houston",
           "Credit Card"
          ],
          [
           "Chair",
           "Furniture",
           "Phoenix",
           "Cash"
          ],
          [
           "Chair",
           "Furniture",
           "Houston",
           "Online"
          ],
          [
           "Chair",
           "Furniture",
           "New York",
           "Cash"
          ],
          [
           "Chair",
           "Furniture",
           "Phoenix",
           "Cash"
          ],
          [
           "Chair",
           "Furniture",
           "Chicago",
           "Debit Card"
          ],
          [
           "Chair",
           "Furniture",
           "New York",
           "Cash"
          ],
          [
           "Chair",
           "Furniture",
           "Phoenix",
           "Credit Card"
          ],
          [
           "Chair",
           "Furniture",
           "Los Angeles",
           "Credit Card"
          ],
          [
           "Chair",
           "Furniture",
           "Houston",
           "Cash"
          ],
          [
           "Chair",
           "Furniture",
           "New York",
           "Cash"
          ],
          [
           "Chair",
           "Furniture",
           "Los Angeles",
           "Cash"
          ],
          [
           "Chair",
           "Furniture",
           "New York",
           "Credit Card"
          ],
          [
           "Chair",
           "Furniture",
           "Phoenix",
           "Cash"
          ],
          [
           "Chair",
           "Furniture",
           "Los Angeles",
           "Cash"
          ],
          [
           "Chair",
           "Furniture",
           "Houston",
           "Cash"
          ],
          [
           "Chair",
           "Furniture",
           "Houston",
           "Online"
          ],
          [
           "Chair",
           "Furniture",
           "Phoenix",
           "Credit Card"
          ],
          [
           "Chair",
           "Furniture",
           "Phoenix",
           "Cash"
          ],
          [
           "Chair",
           "Furniture",
           "Los Angeles",
           "Credit Card"
          ],
          [
           "Chair",
           "Furniture",
           "Houston",
           "Debit Card"
          ],
          [
           "Chair",
           "Furniture",
           "Los Angeles",
           "Debit Card"
          ],
          [
           "Chair",
           "Furniture",
           "Phoenix",
           "Cash"
          ],
          [
           "Chair",
           "Furniture",
           "Los Angeles",
           "Cash"
          ],
          [
           "Chair",
           "Furniture",
           "Los Angeles",
           "Credit Card"
          ],
          [
           "Chair",
           "Furniture",
           "Chicago",
           "Cash"
          ],
          [
           "Chair",
           "Furniture",
           "Los Angeles",
           "Cash"
          ],
          [
           "Chair",
           "Furniture",
           "Houston",
           "Cash"
          ],
          [
           "Chair",
           "Furniture",
           "Houston",
           "Cash"
          ],
          [
           "Chair",
           "Furniture",
           "Houston",
           "Cash"
          ],
          [
           "Chair",
           "Furniture",
           "Houston",
           "Online"
          ],
          [
           "Chair",
           "Furniture",
           "Chicago",
           "Cash"
          ],
          [
           "Chair",
           "Furniture",
           "Houston",
           "Cash"
          ],
          [
           "Chair",
           "Furniture",
           "Chicago",
           "Debit Card"
          ],
          [
           "Chair",
           "Furniture",
           "Chicago",
           "Cash"
          ],
          [
           "Chair",
           "Furniture",
           "New York",
           "Debit Card"
          ],
          [
           "Chair",
           "Furniture",
           "Los Angeles",
           "Cash"
          ],
          [
           "Chair",
           "Furniture",
           "Phoenix",
           "Online"
          ],
          [
           "Chair",
           "Furniture",
           "Phoenix",
           "Cash"
          ],
          [
           "Chair",
           "Furniture",
           "Houston",
           "Debit Card"
          ],
          [
           "Chair",
           "Furniture",
           "Houston",
           "Cash"
          ],
          [
           "Chair",
           "Furniture",
           "Los Angeles",
           "Credit Card"
          ],
          [
           "Chair",
           "Furniture",
           "Chicago",
           "Online"
          ],
          [
           "Chair",
           "Furniture",
           "Houston",
           "Cash"
          ]
         ],
         "hovertemplate": "Product=%{customdata[0]}<br>Quantity Purchased=%{x}<br>Unit Price ($)=%{y}<br>Total_Amount=%{marker.size}<br>Category=%{customdata[1]}<br>City=%{customdata[2]}<br>Payment_Method=%{customdata[3]}<extra></extra>",
         "legendgroup": "Chair",
         "marker": {
          "color": "rgb(255,255,51)",
          "line": {
           "color": "black",
           "width": 1
          },
          "size": {
           "bdata": "9ihcj8KAmEAzMzMzMyWSQMzMzMzMPZhA7FG4HoV7qUDMzMzMzD2YQEjhehSua5lAH4XrUbgAj0DMzMzMzD2YQJqZmZmZr5pAcT0K16NCmkB7FK5H4QpZQMzMzMzMPZhAMzMzMzNIm0DMzMzMzD2YQGZmZmZmjK1A7FG4HoWtpUDXo3A9Ct2tQEjhehSusaNAKVyPwvWoYkAAAAAAABaRQLgehetRGGJAhetRuB4/i0DMzMzMTB6tQM3MzMzMNHJAUrgehes1nkBmZmZmZkZ2QMzMzMzMPZhAAAAAAACgikAfhetRuD57QGZmZmZmG6dAUrgeheuFpkBmZmZmpnaxQI/C9ShcP1tASOF6FK4hmUAzMzMzM3+cQPYoXI/C5XxAAAAAAMDbsUBSuB6F6y1+QPYoXI/CnXJA61G4HgWwoUC4HoXrUZiDQJqZmZmZ1YVAexSuR+H6K0AK16NwPdyHQAAAAACAM6RAZmZmZmYiiEBI4XoUrqNyQIXrUbgejXFAuB6F61E6okAAAAAAAM6eQBSuR+F6aKxANDMzMzM5hkDsUbgehTmvQGZmZmZmBopAzMzMzMw9mECamZmZmel2QKRwPQrXU2lAzczMzMyKhUDMzMzMzD2YQOJ6FK5H1plAzMzMzMw9mEB7FK5H4f6kQGZmZmZmYKpAw/UoXI9SZkA=",
           "dtype": "f8"
          },
          "sizemode": "area",
          "sizeref": 12.315375,
          "symbol": "circle"
         },
         "mode": "markers",
         "name": "Chair",
         "orientation": "v",
         "showlegend": true,
         "type": "scatter",
         "x": {
          "bdata": "AwIDBAMEAQMCAwEDBQMEBAQDAgUEAQUBAgMDAgEFBAUDAwUCBQEBAwIDAQMFAgEBAwIEAwQBAwMDBQMDAwQFAQ==",
          "dtype": "i1"
         },
         "xaxis": "x",
         "y": {
          "bdata": "pHA9CtdVgEAzMzMzMyWCQDMzMzMzKYBA7FG4HoV7iUAzMzMzMymAQEjhehSua3lAH4XrUbgAj0AzMzMzMymAQJqZmZmZr4pA9ihcj8KBgUB7FK5H4QpZQDMzMzMzKYBAj8L1KFzTdUAzMzMzMymAQGZmZmZmjI1A7FG4HoWthUDXo3A9Ct2NQArXo3A9QopAKVyPwvWoUkBmZmZmZlZrQLgehetRGEJAhetRuB4/i0A9CtejcEuHQM3MzMzMNHJAUrgehes1jkAzMzMzM7NdQDMzMzMzKYBAAAAAAACgekAfhetRuD57QLgehetRfIJAUrgeheuFhkDXo3A9CvGLQArXo3A9KkJAhetRuB7BgEBcj8L1KMx2QPYoXI/C5WxAzczMzMySjEBSuB6F6y1+QPYoXI/CnXJAj8L1KFyVh0C4HoXrUZhzQM3MzMzMHG1AexSuR+H6K0C4HoXrUdBvQDMzMzMzKYBAZmZmZmYieEBI4XoUrqNyQIXrUbgejXFA9ihcj8JNiEAAAAAAAM6OQBSuR+F6aIxAmpmZmZmhbUDsUbgehTmPQGZmZmZmBopAMzMzMzMpgEDNzMzMzIxeQMP1KFyP4lBApHA9Ctc7YUAzMzMzMymAQOxRuB6FOYFAMzMzMzMpgEB7FK5H4f6EQFK4HoXrGYVAw/UoXI9SZkA=",
          "dtype": "f8"
         },
         "yaxis": "y"
        },
        {
         "customdata": [
          [
           "Smartphone",
           "Electronics",
           "Los Angeles",
           "Debit Card"
          ],
          [
           "Smartphone",
           "Electronics",
           "Chicago",
           "Online"
          ],
          [
           "Smartphone",
           "Electronics",
           "New York",
           "Cash"
          ],
          [
           "Smartphone",
           "Electronics",
           "Chicago",
           "Debit Card"
          ],
          [
           "Smartphone",
           "Electronics",
           "Houston",
           "Credit Card"
          ],
          [
           "Smartphone",
           "Electronics",
           "Los Angeles",
           "Online"
          ],
          [
           "Smartphone",
           "Electronics",
           "New York",
           "Debit Card"
          ],
          [
           "Smartphone",
           "Electronics",
           "Phoenix",
           "Online"
          ],
          [
           "Smartphone",
           "Electronics",
           "Los Angeles",
           "Credit Card"
          ],
          [
           "Smartphone",
           "Electronics",
           "Chicago",
           "Debit Card"
          ],
          [
           "Smartphone",
           "Electronics",
           "Phoenix",
           "Credit Card"
          ],
          [
           "Smartphone",
           "Electronics",
           "Phoenix",
           "Online"
          ],
          [
           "Smartphone",
           "Electronics",
           "Houston",
           "Credit Card"
          ],
          [
           "Smartphone",
           "Electronics",
           "New York",
           "Online"
          ],
          [
           "Smartphone",
           "Electronics",
           "Chicago",
           "Online"
          ],
          [
           "Smartphone",
           "Electronics",
           "New York",
           "Online"
          ],
          [
           "Smartphone",
           "Electronics",
           "Los Angeles",
           "Cash"
          ],
          [
           "Smartphone",
           "Electronics",
           "Phoenix",
           "Cash"
          ],
          [
           "Smartphone",
           "Electronics",
           "Phoenix",
           "Online"
          ],
          [
           "Smartphone",
           "Electronics",
           "Houston",
           "Cash"
          ],
          [
           "Smartphone",
           "Electronics",
           "Phoenix",
           "Cash"
          ],
          [
           "Smartphone",
           "Electronics",
           "Houston",
           "Cash"
          ],
          [
           "Smartphone",
           "Electronics",
           "Phoenix",
           "Debit Card"
          ],
          [
           "Smartphone",
           "Electronics",
           "New York",
           "Cash"
          ],
          [
           "Smartphone",
           "Electronics",
           "Houston",
           "Credit Card"
          ],
          [
           "Smartphone",
           "Electronics",
           "Los Angeles",
           "Cash"
          ],
          [
           "Smartphone",
           "Electronics",
           "Los Angeles",
           "Cash"
          ],
          [
           "Smartphone",
           "Electronics",
           "Phoenix",
           "Online"
          ],
          [
           "Smartphone",
           "Electronics",
           "New York",
           "Cash"
          ],
          [
           "Smartphone",
           "Electronics",
           "Los Angeles",
           "Cash"
          ],
          [
           "Smartphone",
           "Electronics",
           "Phoenix",
           "Debit Card"
          ],
          [
           "Smartphone",
           "Electronics",
           "New York",
           "Credit Card"
          ],
          [
           "Smartphone",
           "Electronics",
           "Los Angeles",
           "Online"
          ],
          [
           "Smartphone",
           "Electronics",
           "New York",
           "Cash"
          ],
          [
           "Smartphone",
           "Electronics",
           "New York",
           "Cash"
          ],
          [
           "Smartphone",
           "Electronics",
           "Los Angeles",
           "Credit Card"
          ],
          [
           "Smartphone",
           "Electronics",
           "Chicago",
           "Cash"
          ],
          [
           "Smartphone",
           "Electronics",
           "New York",
           "Credit Card"
          ],
          [
           "Smartphone",
           "Electronics",
           "Houston",
           "Online"
          ],
          [
           "Smartphone",
           "Electronics",
           "New York",
           "Debit Card"
          ],
          [
           "Smartphone",
           "Electronics",
           "Houston",
           "Online"
          ],
          [
           "Smartphone",
           "Electronics",
           "Chicago",
           "Cash"
          ],
          [
           "Smartphone",
           "Electronics",
           "Phoenix",
           "Credit Card"
          ],
          [
           "Smartphone",
           "Electronics",
           "Los Angeles",
           "Credit Card"
          ],
          [
           "Smartphone",
           "Electronics",
           "New York",
           "Cash"
          ],
          [
           "Smartphone",
           "Electronics",
           "Houston",
           "Credit Card"
          ],
          [
           "Smartphone",
           "Electronics",
           "Phoenix",
           "Cash"
          ],
          [
           "Smartphone",
           "Electronics",
           "Phoenix",
           "Online"
          ],
          [
           "Smartphone",
           "Electronics",
           "Los Angeles",
           "Credit Card"
          ],
          [
           "Smartphone",
           "Electronics",
           "Phoenix",
           "Online"
          ],
          [
           "Smartphone",
           "Electronics",
           "Houston",
           "Credit Card"
          ],
          [
           "Smartphone",
           "Electronics",
           "Chicago",
           "Online"
          ]
         ],
         "hovertemplate": "Product=%{customdata[0]}<br>Quantity Purchased=%{x}<br>Unit Price ($)=%{y}<br>Total_Amount=%{marker.size}<br>Category=%{customdata[1]}<br>City=%{customdata[2]}<br>Payment_Method=%{customdata[3]}<extra></extra>",
         "legendgroup": "Smartphone",
         "marker": {
          "color": "rgb(166,86,40)",
          "line": {
           "color": "black",
           "width": 1
          },
          "size": {
           "bdata": "NDMzM7MeqECPwvUoXJ2kQM3MzMzMJIZApHA9CtcnrUCkcD0KV4imQFK4HoXrJ4NA61G4HoXThkCkcD0K16ePQNajcD0K+plAUrgehesng0AzMzMzM1OGQArXo3A9pIpAUrgehesng0CkcD0KV3eiQFK4HoXrJ4NAUrgehesng0D2KFyPwtmVQHE9Ctej8odAzMzMzMxrnkBmZmZmZjiEQFK4HoXrJ4NAUrgehesng0CZmZmZmbeIQFK4HoXrw5RAexSuR+HyeUBmZmZmZsZqQK5H4XoUBKNA7FG4HoVLYUBSuB6F6yeDQGZmZmbm66BAH4XrUbiWZUD2KFyPws2PQB6F61G4ip5AZmZmZmZshkD2KFyPwuesQFK4HoXrJ4NAUrgehesng0BxPQrXo8GmQAAAAAAAx5dAUrgehesng0CamZmZmb6bQM3MzMzMqKpAFK5H4XqUM0DXo3A9Ckt3QLgehetRK6JAPQrXo3CtaEAAAAAAAAGpQJqZmZmZ54xAuB6F61E8ikCkcD0K15d9QFK4HoXrQZRAUrgehesng0A=",
           "dtype": "f8"
          },
          "sizemode": "area",
          "sizeref": 12.315375,
          "symbol": "circle"
         },
         "mode": "markers",
         "name": "Smartphone",
         "orientation": "v",
         "showlegend": true,
         "type": "scatter",
         "x": {
          "bdata": "BQMBBAMBAwIDAQEBAQMBAQIBBQUBAQMCAQQEBAEFAQMDAQQBAQMFAQUFAQEDAQUFAQMCAQ==",
          "dtype": "i1"
         },
         "xaxis": "x",
         "y": {
          "bdata": "9ihcj8JLg0AUrkfhenyLQM3MzMzMJIZApHA9CtcnjUCF61G4HguOQFK4HoXrJ4NAj8L1KFxvbkCkcD0K16d/QI/C9ShcUYFAUrgehesng0AzMzMzM1OGQArXo3A9pIpAUrgehesng0CF61G4Hp+IQFK4HoXrJ4NAUrgehesng0D2KFyPwtmFQHE9Ctej8odACtejcD1WeECF61G4Hi1gQFK4HoXrJ4NAUrgehesng0BmZmZmZnpwQFK4HoXrw4RAexSuR+HyeUBmZmZmZsZKQK5H4XoUBINA7FG4HoVLQUBSuB6F6yeDQNejcD0KE3tAH4XrUbiWZUCkcD0K1zN1QBSuR+F6XIRAZmZmZmZshkD2KFyPwueMQFK4HoXrJ4NAUrgehesng0DsUbgehVeOQJqZmZmZBXNAUrgehesng0CuR+F6FDJ2QKRwPQrXU4VAFK5H4XqUM0DXo3A9Ckt3QPYoXI/COYhAPQrXo3CtaEDNzMzMzACEQEjhehSuH2dAuB6F61E8ikDD9Shcj7pjQFK4HoXrQYRAUrgehesng0A=",
          "dtype": "f8"
         },
         "yaxis": "y"
        },
        {
         "customdata": [
          [
           "Desk",
           "Furniture",
           "New York",
           "Online"
          ],
          [
           "Desk",
           "Furniture",
           "Chicago",
           "Cash"
          ],
          [
           "Desk",
           "Furniture",
           "Chicago",
           "Debit Card"
          ],
          [
           "Desk",
           "Furniture",
           "Phoenix",
           "Cash"
          ],
          [
           "Desk",
           "Furniture",
           "Chicago",
           "Cash"
          ],
          [
           "Desk",
           "Furniture",
           "Los Angeles",
           "Debit Card"
          ],
          [
           "Desk",
           "Furniture",
           "Los Angeles",
           "Debit Card"
          ],
          [
           "Desk",
           "Furniture",
           "Chicago",
           "Cash"
          ],
          [
           "Desk",
           "Furniture",
           "New York",
           "Online"
          ],
          [
           "Desk",
           "Furniture",
           "Chicago",
           "Credit Card"
          ],
          [
           "Desk",
           "Furniture",
           "Chicago",
           "Cash"
          ],
          [
           "Desk",
           "Furniture",
           "Phoenix",
           "Debit Card"
          ],
          [
           "Desk",
           "Furniture",
           "Houston",
           "Debit Card"
          ],
          [
           "Desk",
           "Furniture",
           "Phoenix",
           "Credit Card"
          ],
          [
           "Desk",
           "Furniture",
           "Phoenix",
           "Credit Card"
          ],
          [
           "Desk",
           "Furniture",
           "Houston",
           "Cash"
          ],
          [
           "Desk",
           "Furniture",
           "Phoenix",
           "Debit Card"
          ],
          [
           "Desk",
           "Furniture",
           "Chicago",
           "Online"
          ],
          [
           "Desk",
           "Furniture",
           "Los Angeles",
           "Cash"
          ],
          [
           "Desk",
           "Furniture",
           "Houston",
           "Cash"
          ],
          [
           "Desk",
           "Furniture",
           "Los Angeles",
           "Cash"
          ],
          [
           "Desk",
           "Furniture",
           "Phoenix",
           "Online"
          ],
          [
           "Desk",
           "Furniture",
           "Phoenix",
           "Credit Card"
          ],
          [
           "Desk",
           "Furniture",
           "Houston",
           "Debit Card"
          ],
          [
           "Desk",
           "Furniture",
           "Phoenix",
           "Credit Card"
          ],
          [
           "Desk",
           "Furniture",
           "Los Angeles",
           "Cash"
          ],
          [
           "Desk",
           "Furniture",
           "Los Angeles",
           "Credit Card"
          ],
          [
           "Desk",
           "Furniture",
           "Chicago",
           "Cash"
          ],
          [
           "Desk",
           "Furniture",
           "New York",
           "Cash"
          ],
          [
           "Desk",
           "Furniture",
           "New York",
           "Cash"
          ],
          [
           "Desk",
           "Furniture",
           "Houston",
           "Credit Card"
          ],
          [
           "Desk",
           "Furniture",
           "New York",
           "Online"
          ],
          [
           "Desk",
           "Furniture",
           "Los Angeles",
           "Cash"
          ],
          [
           "Desk",
           "Furniture",
           "New York",
           "Cash"
          ],
          [
           "Desk",
           "Furniture",
           "Chicago",
           "Debit Card"
          ],
          [
           "Desk",
           "Furniture",
           "Houston",
           "Cash"
          ],
          [
           "Desk",
           "Furniture",
           "Houston",
           "Credit Card"
          ],
          [
           "Desk",
           "Furniture",
           "Houston",
           "Cash"
          ],
          [
           "Desk",
           "Furniture",
           "New York",
           "Cash"
          ],
          [
           "Desk",
           "Furniture",
           "Los Angeles",
           "Debit Card"
          ],
          [
           "Desk",
           "Furniture",
           "Houston",
           "Online"
          ],
          [
           "Desk",
           "Furniture",
           "New York",
           "Cash"
          ],
          [
           "Desk",
           "Furniture",
           "Houston",
           "Debit Card"
          ],
          [
           "Desk",
           "Furniture",
           "New York",
           "Cash"
          ],
          [
           "Desk",
           "Furniture",
           "Houston",
           "Debit Card"
          ],
          [
           "Desk",
           "Furniture",
           "Houston",
           "Credit Card"
          ],
          [
           "Desk",
           "Furniture",
           "Phoenix",
           "Cash"
          ],
          [
           "Desk",
           "Furniture",
           "New York",
           "Credit Card"
          ],
          [
           "Desk",
           "Furniture",
           "New York",
           "Credit Card"
          ],
          [
           "Desk",
           "Furniture",
           "Chicago",
           "Cash"
          ],
          [
           "Desk",
           "Furniture",
           "Chicago",
           "Debit Card"
          ],
          [
           "Desk",
           "Furniture",
           "Chicago",
           "Online"
          ],
          [
           "Desk",
           "Furniture",
           "New York",
           "Online"
          ],
          [
           "Desk",
           "Furniture",
           "Los Angeles",
           "Cash"
          ],
          [
           "Desk",
           "Furniture",
           "New York",
           "Credit Card"
          ],
          [
           "Desk",
           "Furniture",
           "Phoenix",
           "Online"
          ]
         ],
         "hovertemplate": "Product=%{customdata[0]}<br>Quantity Purchased=%{x}<br>Unit Price ($)=%{y}<br>Total_Amount=%{marker.size}<br>Category=%{customdata[1]}<br>City=%{customdata[2]}<br>Payment_Method=%{customdata[3]}<extra></extra>",
         "legendgroup": "Desk",
         "marker": {
          "color": "rgb(247,129,191)",
          "line": {
           "color": "black",
           "width": 1
          },
          "size": {
           "bdata": "mpmZmZlrhEBxPQrXo7x7QGZmZmZmzqlAMzMzMzPraEDD9Shcj1ipQIXrUbgex55AXI/C9SiEbEBSuB6F68lnQFyPwvUo/J9ArkfhehSikkCF61G4HkmJQJqZmZmZa4RAXI/C9SiYjkBmZmZmZpZ9QM3MzMzMLGpAmpmZmZlrhECamZmZmWuEQJqZmZmZeYdAPQrXo3D3l0AK16NwPdaXQJqZmZmZaXhAPQrXo3BtjkAUrkfheiRoQM3MzMzMHZNAzczMzEw4skCF61G4HtVhQGZmZmZmvnJAAAAAAACAlUDXo3A9CmdoQOF6FK5Hm6ZA7FG4HoWVo0CkcD0K1297QI/C9ShcyZhAZmZmZmaBl0DWo3A9Ci97QJqZmZmZa4RAmpmZmZlrhEAAAAAAAPh0QAAAAAAAQohAmpmZmZmtdUAUrkfheoRtQHE9CtejgGtAhetRuB71g0A9CtejcB1yQJqZmZmZa4RAKVyPwvXek0BnZmZmJguyQNejcD0K2ZZAzMzMzMy9m0D2KFyPwnGEQAAAAAAAgoBAuB6F61FYb0C4HoXrUThRQJqZmZmZa4RAZmZmZmaBlUA9CtejcAevQA==",
           "dtype": "f8"
          },
          "sizemode": "area",
          "sizeref": 12.315375,
          "symbol": "circle"
         },
         "mode": "markers",
         "name": "Desk",
         "orientation": "v",
         "showlegend": true,
         "type": "scatter",
         "x": {
          "bdata": "AgMEBQQCAQEEBAECAwEFAgICAgQEBAMFBQEFBQIEBAMCAwMCAgUBAQIBAQICAgUCBQIBAgQCBQQ=",
          "dtype": "i1"
         },
         "xaxis": "x",
         "y": {
          "bdata": "mpmZmZlrdED2KFyPwn1iQGZmZmZmzolAj8L1KFzvQ0DD9Shcj1iJQIXrUbgex45AXI/C9SiEbEBSuB6F68lnQFyPwvUo/H9ArkfhehSickCF61G4HkmJQJqZmZmZa3RAPQrXo3BldEBmZmZmZpZ9QHE9Ctej8ERAmpmZmZlrdECamZmZmWt0QJqZmZmZeXdAPQrXo3D3h0AK16NwPdZ3QJqZmZmZaVhAPQrXo3BtbkC4HoXrURhQQK5H4XoUlm5AexSuR+EmjUCF61G4HtVhQD0K16Nw/U1AMzMzMzMzcUDXo3A9CmdYQOF6FK5Hm4ZA7FG4HoWVg0DD9Shcj0piQI/C9ShcyYhAMzMzMzNXf0CPwvUoXB9iQJqZmZmZa3RAmpmZmZlrdEBmZmZmZsZQQAAAAAAAQohAmpmZmZmtdUAUrkfheoRdQHE9CtejgGtAhetRuB71g0A9CtejcB1iQJqZmZmZa3RAKVyPwvXeg0BxPQrXo96MQNejcD0K2YZAPQrXo3AxdkD2KFyPwnF0QAAAAAAAgoBAuB6F61FYX0C4HoXrUTgxQJqZmZmZa3RAuB6F61E0cUA9CtejcAePQA==",
          "dtype": "f8"
         },
         "yaxis": "y"
        },
        {
         "customdata": [
          [
           "Shelf",
           "Furniture",
           "New York",
           "Credit Card"
          ],
          [
           "Shelf",
           "Furniture",
           "Phoenix",
           "Online"
          ],
          [
           "Shelf",
           "Furniture",
           "New York",
           "Cash"
          ],
          [
           "Shelf",
           "Furniture",
           "Phoenix",
           "Cash"
          ],
          [
           "Shelf",
           "Furniture",
           "Los Angeles",
           "Cash"
          ],
          [
           "Shelf",
           "Furniture",
           "Houston",
           "Online"
          ],
          [
           "Shelf",
           "Furniture",
           "Houston",
           "Credit Card"
          ],
          [
           "Shelf",
           "Furniture",
           "New York",
           "Debit Card"
          ],
          [
           "Shelf",
           "Furniture",
           "Phoenix",
           "Credit Card"
          ],
          [
           "Shelf",
           "Furniture",
           "New York",
           "Online"
          ],
          [
           "Shelf",
           "Furniture",
           "New York",
           "Online"
          ],
          [
           "Shelf",
           "Furniture",
           "New York",
           "Cash"
          ],
          [
           "Shelf",
           "Furniture",
           "Houston",
           "Cash"
          ],
          [
           "Shelf",
           "Furniture",
           "Houston",
           "Online"
          ],
          [
           "Shelf",
           "Furniture",
           "Phoenix",
           "Cash"
          ],
          [
           "Shelf",
           "Furniture",
           "Houston",
           "Online"
          ],
          [
           "Shelf",
           "Furniture",
           "New York",
           "Credit Card"
          ],
          [
           "Shelf",
           "Furniture",
           "Los Angeles",
           "Online"
          ],
          [
           "Shelf",
           "Furniture",
           "Phoenix",
           "Online"
          ],
          [
           "Shelf",
           "Furniture",
           "Chicago",
           "Credit Card"
          ],
          [
           "Shelf",
           "Furniture",
           "Chicago",
           "Credit Card"
          ],
          [
           "Shelf",
           "Furniture",
           "Los Angeles",
           "Debit Card"
          ],
          [
           "Shelf",
           "Furniture",
           "Phoenix",
           "Cash"
          ],
          [
           "Shelf",
           "Furniture",
           "Phoenix",
           "Cash"
          ],
          [
           "Shelf",
           "Furniture",
           "Phoenix",
           "Credit Card"
          ],
          [
           "Shelf",
           "Furniture",
           "Phoenix",
           "Cash"
          ],
          [
           "Shelf",
           "Furniture",
           "Chicago",
           "Cash"
          ],
          [
           "Shelf",
           "Furniture",
           "New York",
           "Debit Card"
          ],
          [
           "Shelf",
           "Furniture",
           "Houston",
           "Credit Card"
          ],
          [
           "Shelf",
           "Furniture",
           "Chicago",
           "Debit Card"
          ],
          [
           "Shelf",
           "Furniture",
           "New York",
           "Cash"
          ],
          [
           "Shelf",
           "Furniture",
           "Phoenix",
           "Cash"
          ],
          [
           "Shelf",
           "Furniture",
           "New York",
           "Debit Card"
          ],
          [
           "Shelf",
           "Furniture",
           "Los Angeles",
           "Cash"
          ],
          [
           "Shelf",
           "Furniture",
           "Chicago",
           "Credit Card"
          ],
          [
           "Shelf",
           "Furniture",
           "Phoenix",
           "Online"
          ],
          [
           "Shelf",
           "Furniture",
           "Phoenix",
           "Credit Card"
          ],
          [
           "Shelf",
           "Furniture",
           "Phoenix",
           "Online"
          ],
          [
           "Shelf",
           "Furniture",
           "Phoenix",
           "Credit Card"
          ],
          [
           "Shelf",
           "Furniture",
           "New York",
           "Credit Card"
          ],
          [
           "Shelf",
           "Furniture",
           "Phoenix",
           "Credit Card"
          ],
          [
           "Shelf",
           "Furniture",
           "Chicago",
           "Cash"
          ],
          [
           "Shelf",
           "Furniture",
           "Houston",
           "Debit Card"
          ],
          [
           "Shelf",
           "Furniture",
           "Los Angeles",
           "Cash"
          ],
          [
           "Shelf",
           "Furniture",
           "Phoenix",
           "Debit Card"
          ],
          [
           "Shelf",
           "Furniture",
           "Phoenix",
           "Cash"
          ],
          [
           "Shelf",
           "Furniture",
           "Houston",
           "Online"
          ],
          [
           "Shelf",
           "Furniture",
           "Phoenix",
           "Cash"
          ],
          [
           "Shelf",
           "Furniture",
           "Chicago",
           "Cash"
          ]
         ],
         "hovertemplate": "Product=%{customdata[0]}<br>Quantity Purchased=%{x}<br>Unit Price ($)=%{y}<br>Total_Amount=%{marker.size}<br>Category=%{customdata[1]}<br>City=%{customdata[2]}<br>Payment_Method=%{customdata[3]}<extra></extra>",
         "legendgroup": "Shelf",
         "marker": {
          "color": "rgb(153,153,153)",
          "line": {
           "color": "black",
           "width": 1
          },
          "size": {
           "bdata": "KVyPwvVQnkD2KFyPwuVrQOF6FK5HgqZArkfhehQig0AUrkfheiiIQGZmZmZmV6dAmpmZmZnRp0DXo3A9Cj+PQFK4HoXryXRAKVyPwvW8ikB7FK5H4QqNQClcj8L1vIpANDMzM/PMsEBI4XoUrneUQGdmZmZmqnxAPQrXo3DdZEBI4XoUrmefQEjhehSuJ2RAMzMzM7PkskBnZmZm5tGvQAAAAACALKdA16NwPQofY0BxPQrXI0+iQI/C9ShcQ5dApHA9CteTnkApXI/C9byKQJqZmZkZtqBAzczMzMxkiUApXI/C9byKQHE9CtejNJNASOF6FK6DnUCuR+F6FM+TQMzMzMzMJG9Aj8L1KFxrlUCPwvUoXM80QI/C9ShcD5RAKVyPwvW8ikA+CtejcAqYQAAAAAAA3IBAKVyPwvW8ikB7FK5H4Xo3QDMzMzMzxaNA7FG4HoWxmUD2KFyPwpWDQClcj8L1vIpA9ihcj8JJjEApXI/C9byKQFyPwvUoPHhAmpmZmZk5skA=",
           "dtype": "f8"
          },
          "sizemode": "area",
          "sizeref": 12.315375,
          "symbol": "circle"
         },
         "mode": "markers",
         "name": "Shelf",
         "orientation": "v",
         "showlegend": true,
         "type": "scatter",
         "x": {
          "bdata": "AgEDAgIDBQECAgECBQMFAgQBBQUDAQMEAwIFBAIDAgMFBAECAgMCAgIFAgICAwIBBQ==",
          "dtype": "i1"
         },
         "xaxis": "x",
         "y": {
          "bdata": "KVyPwvVQjkD2KFyPwuVrQNejcD0KA45ArkfhehQic0AUrkfheih4QDMzMzMzH49ArkfhehQOg0DXo3A9Cj+PQFK4HoXryWRAKVyPwvW8ekB7FK5H4QqNQClcj8L1vHpA7FG4HoXhikAK16NwPUp7QB+F61G47lZAPQrXo3DdVEBI4XoUrmd/QEjhehSuJ2RAH4XrUbg6jkAfhetRuHSJQAAAAAAA5o5A16NwPQofY0DsUbgehWmIQI/C9ShcQ3dAw/UoXI9ihEApXI/C9bx6QClcj8L1vHpAzczMzMxkaUApXI/C9bx6QOxRuB6Fm3lASOF6FK6DjUA9CtejcGl6QArXo3A96khAj8L1KFxrdUCPwvUoXM80QI/C9ShcD4RAKVyPwvW8ekApXI/C9QaAQAAAAAAA3HBAKVyPwvW8ekB7FK5H4XonQFK4HoXroX9A7FG4HoWxiUD2KFyPwpVzQClcj8L1vHpApHA9CtfbckApXI/C9bx6QFyPwvUoPHhAKVyPwvUojUA=",
          "dtype": "f8"
         },
         "yaxis": "y"
        }
       ],
       "layout": {
        "font": {
         "family": "Arial",
         "size": 14
        },
        "hoverlabel": {
         "bgcolor": "white",
         "font": {
          "size": 13
         }
        },
        "legend": {
         "itemsizing": "constant",
         "title": {
          "text": "Product"
         },
         "tracegroupgap": 0
        },
        "margin": {
         "b": 80,
         "l": 40,
         "r": 40,
         "t": 80
        },
        "paper_bgcolor": "white",
        "plot_bgcolor": "white",
        "template": {
         "data": {
          "bar": [
           {
            "error_x": {
             "color": "#2a3f5f"
            },
            "error_y": {
             "color": "#2a3f5f"
            },
            "marker": {
             "line": {
              "color": "#E5ECF6",
              "width": 0.5
             },
             "pattern": {
              "fillmode": "overlay",
              "size": 10,
              "solidity": 0.2
             }
            },
            "type": "bar"
           }
          ],
          "barpolar": [
           {
            "marker": {
             "line": {
              "color": "#E5ECF6",
              "width": 0.5
             },
             "pattern": {
              "fillmode": "overlay",
              "size": 10,
              "solidity": 0.2
             }
            },
            "type": "barpolar"
           }
          ],
          "carpet": [
           {
            "aaxis": {
             "endlinecolor": "#2a3f5f",
             "gridcolor": "white",
             "linecolor": "white",
             "minorgridcolor": "white",
             "startlinecolor": "#2a3f5f"
            },
            "baxis": {
             "endlinecolor": "#2a3f5f",
             "gridcolor": "white",
             "linecolor": "white",
             "minorgridcolor": "white",
             "startlinecolor": "#2a3f5f"
            },
            "type": "carpet"
           }
          ],
          "choropleth": [
           {
            "colorbar": {
             "outlinewidth": 0,
             "ticks": ""
            },
            "type": "choropleth"
           }
          ],
          "contour": [
           {
            "colorbar": {
             "outlinewidth": 0,
             "ticks": ""
            },
            "colorscale": [
             [
              0,
              "#0d0887"
             ],
             [
              0.1111111111111111,
              "#46039f"
             ],
             [
              0.2222222222222222,
              "#7201a8"
             ],
             [
              0.3333333333333333,
              "#9c179e"
             ],
             [
              0.4444444444444444,
              "#bd3786"
             ],
             [
              0.5555555555555556,
              "#d8576b"
             ],
             [
              0.6666666666666666,
              "#ed7953"
             ],
             [
              0.7777777777777778,
              "#fb9f3a"
             ],
             [
              0.8888888888888888,
              "#fdca26"
             ],
             [
              1,
              "#f0f921"
             ]
            ],
            "type": "contour"
           }
          ],
          "contourcarpet": [
           {
            "colorbar": {
             "outlinewidth": 0,
             "ticks": ""
            },
            "type": "contourcarpet"
           }
          ],
          "heatmap": [
           {
            "colorbar": {
             "outlinewidth": 0,
             "ticks": ""
            },
            "colorscale": [
             [
              0,
              "#0d0887"
             ],
             [
              0.1111111111111111,
              "#46039f"
             ],
             [
              0.2222222222222222,
              "#7201a8"
             ],
             [
              0.3333333333333333,
              "#9c179e"
             ],
             [
              0.4444444444444444,
              "#bd3786"
             ],
             [
              0.5555555555555556,
              "#d8576b"
             ],
             [
              0.6666666666666666,
              "#ed7953"
             ],
             [
              0.7777777777777778,
              "#fb9f3a"
             ],
             [
              0.8888888888888888,
              "#fdca26"
             ],
             [
              1,
              "#f0f921"
             ]
            ],
            "type": "heatmap"
           }
          ],
          "histogram": [
           {
            "marker": {
             "pattern": {
              "fillmode": "overlay",
              "size": 10,
              "solidity": 0.2
             }
            },
            "type": "histogram"
           }
          ],
          "histogram2d": [
           {
            "colorbar": {
             "outlinewidth": 0,
             "ticks": ""
            },
            "colorscale": [
             [
              0,
              "#0d0887"
             ],
             [
              0.1111111111111111,
              "#46039f"
             ],
             [
              0.2222222222222222,
              "#7201a8"
             ],
             [
              0.3333333333333333,
              "#9c179e"
             ],
             [
              0.4444444444444444,
              "#bd3786"
             ],
             [
              0.5555555555555556,
              "#d8576b"
             ],
             [
              0.6666666666666666,
              "#ed7953"
             ],
             [
              0.7777777777777778,
              "#fb9f3a"
             ],
             [
              0.8888888888888888,
              "#fdca26"
             ],
             [
              1,
              "#f0f921"
             ]
            ],
            "type": "histogram2d"
           }
          ],
          "histogram2dcontour": [
           {
            "colorbar": {
             "outlinewidth": 0,
             "ticks": ""
            },
            "colorscale": [
             [
              0,
              "#0d0887"
             ],
             [
              0.1111111111111111,
              "#46039f"
             ],
             [
              0.2222222222222222,
              "#7201a8"
             ],
             [
              0.3333333333333333,
              "#9c179e"
             ],
             [
              0.4444444444444444,
              "#bd3786"
             ],
             [
              0.5555555555555556,
              "#d8576b"
             ],
             [
              0.6666666666666666,
              "#ed7953"
             ],
             [
              0.7777777777777778,
              "#fb9f3a"
             ],
             [
              0.8888888888888888,
              "#fdca26"
             ],
             [
              1,
              "#f0f921"
             ]
            ],
            "type": "histogram2dcontour"
           }
          ],
          "mesh3d": [
           {
            "colorbar": {
             "outlinewidth": 0,
             "ticks": ""
            },
            "type": "mesh3d"
           }
          ],
          "parcoords": [
           {
            "line": {
             "colorbar": {
              "outlinewidth": 0,
              "ticks": ""
             }
            },
            "type": "parcoords"
           }
          ],
          "pie": [
           {
            "automargin": true,
            "type": "pie"
           }
          ],
          "scatter": [
           {
            "fillpattern": {
             "fillmode": "overlay",
             "size": 10,
             "solidity": 0.2
            },
            "type": "scatter"
           }
          ],
          "scatter3d": [
           {
            "line": {
             "colorbar": {
              "outlinewidth": 0,
              "ticks": ""
             }
            },
            "marker": {
             "colorbar": {
              "outlinewidth": 0,
              "ticks": ""
             }
            },
            "type": "scatter3d"
           }
          ],
          "scattercarpet": [
           {
            "marker": {
             "colorbar": {
              "outlinewidth": 0,
              "ticks": ""
             }
            },
            "type": "scattercarpet"
           }
          ],
          "scattergeo": [
           {
            "marker": {
             "colorbar": {
              "outlinewidth": 0,
              "ticks": ""
             }
            },
            "type": "scattergeo"
           }
          ],
          "scattergl": [
           {
            "marker": {
             "colorbar": {
              "outlinewidth": 0,
              "ticks": ""
             }
            },
            "type": "scattergl"
           }
          ],
          "scattermap": [
           {
            "marker": {
             "colorbar": {
              "outlinewidth": 0,
              "ticks": ""
             }
            },
            "type": "scattermap"
           }
          ],
          "scattermapbox": [
           {
            "marker": {
             "colorbar": {
              "outlinewidth": 0,
              "ticks": ""
             }
            },
            "type": "scattermapbox"
           }
          ],
          "scatterpolar": [
           {
            "marker": {
             "colorbar": {
              "outlinewidth": 0,
              "ticks": ""
             }
            },
            "type": "scatterpolar"
           }
          ],
          "scatterpolargl": [
           {
            "marker": {
             "colorbar": {
              "outlinewidth": 0,
              "ticks": ""
             }
            },
            "type": "scatterpolargl"
           }
          ],
          "scatterternary": [
           {
            "marker": {
             "colorbar": {
              "outlinewidth": 0,
              "ticks": ""
             }
            },
            "type": "scatterternary"
           }
          ],
          "surface": [
           {
            "colorbar": {
             "outlinewidth": 0,
             "ticks": ""
            },
            "colorscale": [
             [
              0,
              "#0d0887"
             ],
             [
              0.1111111111111111,
              "#46039f"
             ],
             [
              0.2222222222222222,
              "#7201a8"
             ],
             [
              0.3333333333333333,
              "#9c179e"
             ],
             [
              0.4444444444444444,
              "#bd3786"
             ],
             [
              0.5555555555555556,
              "#d8576b"
             ],
             [
              0.6666666666666666,
              "#ed7953"
             ],
             [
              0.7777777777777778,
              "#fb9f3a"
             ],
             [
              0.8888888888888888,
              "#fdca26"
             ],
             [
              1,
              "#f0f921"
             ]
            ],
            "type": "surface"
           }
          ],
          "table": [
           {
            "cells": {
             "fill": {
              "color": "#EBF0F8"
             },
             "line": {
              "color": "white"
             }
            },
            "header": {
             "fill": {
              "color": "#C8D4E3"
             },
             "line": {
              "color": "white"
             }
            },
            "type": "table"
           }
          ]
         },
         "layout": {
          "annotationdefaults": {
           "arrowcolor": "#2a3f5f",
           "arrowhead": 0,
           "arrowwidth": 1
          },
          "autotypenumbers": "strict",
          "coloraxis": {
           "colorbar": {
            "outlinewidth": 0,
            "ticks": ""
           }
          },
          "colorscale": {
           "diverging": [
            [
             0,
             "#8e0152"
            ],
            [
             0.1,
             "#c51b7d"
            ],
            [
             0.2,
             "#de77ae"
            ],
            [
             0.3,
             "#f1b6da"
            ],
            [
             0.4,
             "#fde0ef"
            ],
            [
             0.5,
             "#f7f7f7"
            ],
            [
             0.6,
             "#e6f5d0"
            ],
            [
             0.7,
             "#b8e186"
            ],
            [
             0.8,
             "#7fbc41"
            ],
            [
             0.9,
             "#4d9221"
            ],
            [
             1,
             "#276419"
            ]
           ],
           "sequential": [
            [
             0,
             "#0d0887"
            ],
            [
             0.1111111111111111,
             "#46039f"
            ],
            [
             0.2222222222222222,
             "#7201a8"
            ],
            [
             0.3333333333333333,
             "#9c179e"
            ],
            [
             0.4444444444444444,
             "#bd3786"
            ],
            [
             0.5555555555555556,
             "#d8576b"
            ],
            [
             0.6666666666666666,
             "#ed7953"
            ],
            [
             0.7777777777777778,
             "#fb9f3a"
            ],
            [
             0.8888888888888888,
             "#fdca26"
            ],
            [
             1,
             "#f0f921"
            ]
           ],
           "sequentialminus": [
            [
             0,
             "#0d0887"
            ],
            [
             0.1111111111111111,
             "#46039f"
            ],
            [
             0.2222222222222222,
             "#7201a8"
            ],
            [
             0.3333333333333333,
             "#9c179e"
            ],
            [
             0.4444444444444444,
             "#bd3786"
            ],
            [
             0.5555555555555556,
             "#d8576b"
            ],
            [
             0.6666666666666666,
             "#ed7953"
            ],
            [
             0.7777777777777778,
             "#fb9f3a"
            ],
            [
             0.8888888888888888,
             "#fdca26"
            ],
            [
             1,
             "#f0f921"
            ]
           ]
          },
          "colorway": [
           "#636efa",
           "#EF553B",
           "#00cc96",
           "#ab63fa",
           "#FFA15A",
           "#19d3f3",
           "#FF6692",
           "#B6E880",
           "#FF97FF",
           "#FECB52"
          ],
          "font": {
           "color": "#2a3f5f"
          },
          "geo": {
           "bgcolor": "white",
           "lakecolor": "white",
           "landcolor": "#E5ECF6",
           "showlakes": true,
           "showland": true,
           "subunitcolor": "white"
          },
          "hoverlabel": {
           "align": "left"
          },
          "hovermode": "closest",
          "mapbox": {
           "style": "light"
          },
          "paper_bgcolor": "white",
          "plot_bgcolor": "#E5ECF6",
          "polar": {
           "angularaxis": {
            "gridcolor": "white",
            "linecolor": "white",
            "ticks": ""
           },
           "bgcolor": "#E5ECF6",
           "radialaxis": {
            "gridcolor": "white",
            "linecolor": "white",
            "ticks": ""
           }
          },
          "scene": {
           "xaxis": {
            "backgroundcolor": "#E5ECF6",
            "gridcolor": "white",
            "gridwidth": 2,
            "linecolor": "white",
            "showbackground": true,
            "ticks": "",
            "zerolinecolor": "white"
           },
           "yaxis": {
            "backgroundcolor": "#E5ECF6",
            "gridcolor": "white",
            "gridwidth": 2,
            "linecolor": "white",
            "showbackground": true,
            "ticks": "",
            "zerolinecolor": "white"
           },
           "zaxis": {
            "backgroundcolor": "#E5ECF6",
            "gridcolor": "white",
            "gridwidth": 2,
            "linecolor": "white",
            "showbackground": true,
            "ticks": "",
            "zerolinecolor": "white"
           }
          },
          "shapedefaults": {
           "line": {
            "color": "#2a3f5f"
           }
          },
          "ternary": {
           "aaxis": {
            "gridcolor": "white",
            "linecolor": "white",
            "ticks": ""
           },
           "baxis": {
            "gridcolor": "white",
            "linecolor": "white",
            "ticks": ""
           },
           "bgcolor": "#E5ECF6",
           "caxis": {
            "gridcolor": "white",
            "linecolor": "white",
            "ticks": ""
           }
          },
          "title": {
           "x": 0.05
          },
          "xaxis": {
           "automargin": true,
           "gridcolor": "white",
           "linecolor": "white",
           "ticks": "",
           "title": {
            "standoff": 15
           },
           "zerolinecolor": "white",
           "zerolinewidth": 2
          },
          "yaxis": {
           "automargin": true,
           "gridcolor": "white",
           "linecolor": "white",
           "ticks": "",
           "title": {
            "standoff": 15
           },
           "zerolinecolor": "white",
           "zerolinewidth": 2
          }
         }
        },
        "title": {
         "font": {
          "size": 22
         },
         "text": "📈 Unit Price vs Quantity",
         "x": 0.5
        },
        "xaxis": {
         "anchor": "y",
         "domain": [
          0,
          1
         ],
         "gridcolor": "lightgray",
         "showgrid": true,
         "title": {
          "text": "Quantity Purchased"
         }
        },
        "yaxis": {
         "anchor": "x",
         "domain": [
          0,
          1
         ],
         "gridcolor": "lightgray",
         "showgrid": true,
         "tickprefix": "$",
         "title": {
          "text": "Unit Price ($)"
         }
        }
       }
      }
     },
     "metadata": {},
     "output_type": "display_data"
    }
   ],
   "source": [
    "fig11 = px.scatter(\n",
    "    df,\n",
    "    x='Quantity',\n",
    "    y='Unit_Price',\n",
    "    color='Product',\n",
    "    size='Total_Amount',\n",
    "    hover_data=['Product', 'Category', 'City', 'Payment_Method'],\n",
    "    title='📈 Unit Price vs Quantity',\n",
    "    labels={'Quantity': 'Quantity Purchased', 'Unit_Price': 'Unit Price ($)'},\n",
    "    color_discrete_sequence=px.colors.qualitative.Set1\n",
    ")\n",
    "\n",
    "fig11.update_traces(\n",
    "    marker=dict(line=dict(width=1, color='black')),\n",
    "    selector=dict(mode='markers')\n",
    ")\n",
    "\n",
    "fig11.update_layout(\n",
    "    title_font=dict(size=22),\n",
    "    title_x=0.5,\n",
    "    xaxis=dict(showgrid=True, gridcolor='lightgray'),\n",
    "    yaxis=dict(showgrid=True, gridcolor='lightgray', tickprefix='$'),\n",
    "    plot_bgcolor='white',\n",
    "    paper_bgcolor='white',\n",
    "    font=dict(family='Arial', size=14),\n",
    "    hoverlabel=dict(bgcolor='white', font_size=13),\n",
    "    margin=dict(l=40, r=40, t=80, b=80),\n",
    "    legend_title_text='Product'\n",
    ")\n",
    "\n",
    "fig11.show()\n"
   ]
  },
  {
   "cell_type": "code",
   "execution_count": 67,
   "id": "598d4a2d",
   "metadata": {},
   "outputs": [
    {
     "name": "stderr",
     "output_type": "stream",
     "text": [
      "C:\\Users\\Sai prem\\AppData\\Local\\Temp\\ipykernel_13072\\1054912238.py:20: UserWarning:\n",
      "\n",
      "Glyph 128202 (\\N{BAR CHART}) missing from font(s) DejaVu Sans.\n",
      "\n",
      "C:\\Users\\Sai prem\\AppData\\Local\\Packages\\PythonSoftwareFoundation.Python.3.11_qbz5n2kfra8p0\\LocalCache\\local-packages\\Python311\\site-packages\\IPython\\core\\pylabtools.py:170: UserWarning:\n",
      "\n",
      "Glyph 128202 (\\N{BAR CHART}) missing from font(s) DejaVu Sans.\n",
      "\n"
     ]
    },
    {
     "data": {
      "image/png": "[encoded data removed]",
      "text/plain": [
       "<Figure size 800x600 with 2 Axes>"
      ]
     },
     "metadata": {},
     "output_type": "display_data"
    }
   ],
   "source": [
    "import seaborn as sns\n",
    "import matplotlib.pyplot as plt\n",
    "plt.figure(figsize=(8, 6))\n",
    "corr_matrix = df[['Quantity', 'Unit_Price', 'Total_Amount']].corr()\n",
    "\n",
    "sns.heatmap(\n",
    "    corr_matrix,\n",
    "    annot=True,\n",
    "    cmap='Blues',\n",
    "    fmt='.2f',\n",
    "    linewidths=0.5,\n",
    "    linecolor='white',\n",
    "    square=True,\n",
    "    cbar_kws={'shrink': 0.75, 'label': 'Correlation'}\n",
    ")\n",
    "\n",
    "plt.title('📊 Correlation Heatmap', fontsize=16, weight='bold')\n",
    "plt.xticks(rotation=0, fontsize=12)\n",
    "plt.yticks(rotation=0, fontsize=12)\n",
    "plt.tight_layout()\n",
    "plt.show()\n"
   ]
  }
 ],
 "metadata": {
  "kernelspec": {
   "display_name": "Python 3",
   "language": "python",
   "name": "python3"
  },
  "language_info": {
   "codemirror_mode": {
    "name": "ipython",
    "version": 3
   },
   "file_extension": ".py",
   "mimetype": "text/x-python",
   "name": "python",
   "nbconvert_exporter": "python",
   "pygments_lexer": "ipython3",
   "version": "3.11.9"
  }
 },
 "nbformat": 4,
 "nbformat_minor": 5
}
